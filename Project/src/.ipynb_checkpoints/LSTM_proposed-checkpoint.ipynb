{
 "cells": [
  {
   "cell_type": "code",
   "execution_count": 2,
   "metadata": {},
   "outputs": [],
   "source": [
    "import numpy as np\n",
    "import pandas as pd\n",
    "from sklearn.preprocessing import StandardScaler\n",
    "from sklearn.preprocessing import LabelEncoder\n",
    "from keras.layers import Dense, Dropout\n",
    "from keras.models import Sequential\n",
    "from keras.wrappers.scikit_learn import KerasClassifier\n",
    "from keras.utils import np_utils\n",
    "from keras.optimizers import Adagrad\n",
    "from sklearn.model_selection import cross_val_score\n",
    "from sklearn.model_selection import KFold\n",
    "from sklearn.preprocessing import LabelEncoder\n",
    "from sklearn.model_selection import train_test_split"
   ]
  },
  {
   "cell_type": "code",
   "execution_count": 3,
   "metadata": {},
   "outputs": [],
   "source": [
    "import numpy as np\n",
    "import os \n",
    "\n",
    "def save_data(filepath, binary, augment): \n",
    "    from keras.utils import np_utils, plot_model\n",
    "    csv_data = np.genfromtxt(filepath, delimiter=\",\")\n",
    "    eeg_data = csv_data[1:]\n",
    "\n",
    "    labels = []\n",
    "    cleaned_eeg_data = []\n",
    "\n",
    "    if binary:  \n",
    "        for i in range(len(eeg_data)):\n",
    "            #seizure vs non-seizure only\n",
    "            labels.append(0 if (eeg_data[i][-1] == 1) else 1)\n",
    "            cleaned_eeg_data.append((eeg_data[i][:-1])[1:])\n",
    "    else: \n",
    "        for i in range(len(eeg_data)):\n",
    "            labels.append(eeg_data[i][-1]-1)\n",
    "            cleaned_eeg_data.append((eeg_data[i][:-1])[1:])\n",
    "\n",
    "    if augment: \n",
    "        labels, cleaned_eeg_data = augment_data(labels, cleaned_eeg_data)\n",
    "\n",
    "    labels = np.array(labels)\n",
    "    labels = np_utils.to_categorical(labels)\n",
    "    np.save(\"dataset/y_test\", labels)\n",
    "    cleaned_eeg_data = np.array(cleaned_eeg_data)\n",
    "    cleaned_eeg_data = np.reshape(cleaned_eeg_data, (cleaned_eeg_data.shape[0], cleaned_eeg_data.shape[1], 1, 1))\n",
    "    np.save(\"dataset/x_test\", cleaned_eeg_data)\n",
    "\n",
    "    np.savez_compressed(\"dataset/y_test.npz\", labels)\n",
    "    np.savez_compressed(\"dataset/x_test.npz\", cleaned_eeg_data)\n",
    "    np.savez_compressed(\"dataset/x_norm.npz\", cleaned_eeg_data)"
   ]
  },
  {
   "cell_type": "code",
   "execution_count": 4,
   "metadata": {},
   "outputs": [],
   "source": [
    "def save_data_to_3d(filepath, binary, augment): \n",
    "    from keras.utils import np_utils, plot_model\n",
    "    csv_data = np.genfromtxt(filepath, delimiter=\",\")\n",
    "    eeg_data = csv_data[1:]\n",
    "\n",
    "    labels = []\n",
    "    cleaned_eeg_data = []\n",
    "\n",
    "    if binary:  \n",
    "        for i in range(len(eeg_data)):\n",
    "            #seizure vs non-seizure only\n",
    "            labels.append(0 if (eeg_data[i][-1] == 1) else 1)\n",
    "            cleaned_eeg_data.append((eeg_data[i][:-1])[1:])\n",
    "    else: \n",
    "        for i in range(len(eeg_data)):\n",
    "            labels.append(eeg_data[i][-1]-1)\n",
    "            cleaned_eeg_data.append((eeg_data[i][:-1])[1:])\n",
    "\n",
    "    if augment: \n",
    "        labels, cleaned_eeg_data = augment_data(labels, cleaned_eeg_data)\n",
    "\n",
    "    labels = np.array(labels)\n",
    "    labels = np_utils.to_categorical(labels)\n",
    "    np.save(\"dataset/y_test\", labels)\n",
    "    cleaned_eeg_data = np.array(cleaned_eeg_data)\n",
    "    cleaned_eeg_data = np.reshape(cleaned_eeg_data, (cleaned_eeg_data.shape[0], cleaned_eeg_data.shape[1], 1))\n",
    "    np.save(\"dataset/x_test\", cleaned_eeg_data)\n",
    "\n",
    "    #needed for SNNtoolbox\n",
    "    np.savez_compressed(\"dataset/y_test.npz\", labels)\n",
    "    np.savez_compressed(\"dataset/x_test.npz\", cleaned_eeg_data)\n",
    "    np.savez_compressed(\"dataset/x_norm.npz\", cleaned_eeg_data)"
   ]
  },
  {
   "cell_type": "code",
   "execution_count": 5,
   "metadata": {},
   "outputs": [],
   "source": [
    "def load_data(): \n",
    "\texists = os.path.isfile('./dataset/x_test.npy') and os.path.isfile('./dataset/y_test.npy')\n",
    "\tif not exists: \n",
    "\t\traise Exception(\"Save the data to .npy first! Call save_data(filepath).\")\n",
    "\n",
    "\teeg_data = np.load('./dataset/x_test.npy')\n",
    "\tlabels = np.load('./dataset/y_test.npy')\n",
    "\n",
    "\treturn eeg_data, labels"
   ]
  },
  {
   "cell_type": "code",
   "execution_count": 6,
   "metadata": {},
   "outputs": [],
   "source": [
    "save_data_to_3d('C:\\\\Users\\\\sushr\\\\Desktop\\\\dataset\\\\data.csv', binary=1, augment=0)"
   ]
  },
  {
   "cell_type": "code",
   "execution_count": 7,
   "metadata": {},
   "outputs": [],
   "source": [
    "eeg_data = np.load('C:\\\\Users\\\\sushr\\\\Desktop\\\\dataset\\\\x_test.npy')\n",
    "labels = np.load('C:\\\\Users\\\\sushr\\\\Desktop\\\\dataset\\\\y_test.npy')"
   ]
  },
  {
   "cell_type": "code",
   "execution_count": null,
   "metadata": {},
   "outputs": [],
   "source": [
    "print(eeg_data.shape)\n",
    "print(labels.shape)"
   ]
  },
  {
   "cell_type": "code",
   "execution_count": 8,
   "metadata": {},
   "outputs": [
    {
     "name": "stdout",
     "output_type": "stream",
     "text": [
      "WARNING:tensorflow:From C:\\Users\\sushr\\Anaconda3\\lib\\site-packages\\keras\\backend\\tensorflow_backend.py:4070: The name tf.nn.max_pool is deprecated. Please use tf.nn.max_pool2d instead.\n",
      "\n"
     ]
    }
   ],
   "source": [
    "from keras.layers import LSTM ,Input,GaussianDropout\n",
    "from keras import models\n",
    "from keras.models import Model\n",
    "from keras import layers\n",
    "from keras.layers import Conv1D, MaxPooling1D\n",
    "# max_features = 100\n",
    "# model = Sequential()\n",
    "# # model.add(layers.Embedding(max_features,32))\n",
    "# model.add(LSTM(32))\n",
    "# model.add(Dense(5, activation='sigmoid'))\n",
    "\n",
    "inputs = Input(shape=(178,1,))\n",
    "x = Conv1D(32,(3),activation = 'relu')(inputs)\n",
    "x = Conv1D(32,(3),activation = 'relu')(x)\n",
    "x = MaxPooling1D(2,2)(x)\n",
    "x = Conv1D(32,(3),activation = 'relu')(x)\n",
    "x = MaxPooling1D(2,2)(x)\n",
    "x = Conv1D(32,(3),activation = 'relu')(x)\n",
    "x = MaxPooling1D(2,2)(x)\n",
    "x = Conv1D(32,(3),activation = 'relu')(x)\n",
    "x = GaussianDropout(0.1)(x)\t#generating noise during training for better generalization\n",
    "x = LSTM(8)(x)\n",
    "x = Dropout(0.5)(x)\n",
    "x = Dense(20)(x)\n",
    "x = Dropout(0.2)(x)\n",
    "predictions = Dense(units=2, activation=\"sigmoid\")(x)\n",
    "model1 = Model(inputs, predictions)\n",
    "# model.compile(optimizer='rmsprop',loss='binary_crossentropy',metrics=['acc'])\n",
    "# history=model.fit(Train1,Label_trn,epochs=10,batch_size=128,validation_split=0.2)"
   ]
  },
  {
   "cell_type": "code",
   "execution_count": 9,
   "metadata": {},
   "outputs": [
    {
     "name": "stdout",
     "output_type": "stream",
     "text": [
      "WARNING:tensorflow:From C:\\Users\\sushr\\Anaconda3\\lib\\site-packages\\tensorflow\\python\\ops\\nn_impl.py:180: add_dispatch_support.<locals>.wrapper (from tensorflow.python.ops.array_ops) is deprecated and will be removed in a future version.\n",
      "Instructions for updating:\n",
      "Use tf.where in 2.0, which has the same broadcast rule as np.where\n",
      "WARNING:tensorflow:From C:\\Users\\sushr\\Anaconda3\\lib\\site-packages\\keras\\backend\\tensorflow_backend.py:422: The name tf.global_variables is deprecated. Please use tf.compat.v1.global_variables instead.\n",
      "\n",
      "Train on 9200 samples, validate on 2300 samples\n",
      "Epoch 1/20\n",
      "9200/9200 [==============================] - 7s 773us/step - loss: 0.4992 - accuracy: 0.7638 - specificity_at_sensitivity: 0.7413 - sensitivity_at_specificity: 0.7346 - val_loss: 0.3286 - val_accuracy: 0.7980 - val_specificity_at_sensitivity: 0.8429 - val_sensitivity_at_specificity: 0.8298\n",
      "Epoch 2/20\n",
      "9200/9200 [==============================] - 5s 558us/step - loss: 0.3029 - accuracy: 0.8445 - specificity_at_sensitivity: 0.8767 - sensitivity_at_specificity: 0.8611 - val_loss: 0.1517 - val_accuracy: 0.9650 - val_specificity_at_sensitivity: 0.9207 - val_sensitivity_at_specificity: 0.9035\n",
      "Epoch 3/20\n",
      "9200/9200 [==============================] - 5s 547us/step - loss: 0.1876 - accuracy: 0.9245 - specificity_at_sensitivity: 0.9439 - sensitivity_at_specificity: 0.9350 - val_loss: 0.3099 - val_accuracy: 0.8326 - val_specificity_at_sensitivity: 0.9572 - val_sensitivity_at_specificity: 0.9483\n",
      "Epoch 4/20\n",
      "9200/9200 [==============================] - 5s 545us/step - loss: 0.1519 - accuracy: 0.9503 - specificity_at_sensitivity: 0.9649 - sensitivity_at_specificity: 0.9577 - val_loss: 0.1040 - val_accuracy: 0.9680 - val_specificity_at_sensitivity: 0.9738 - val_sensitivity_at_specificity: 0.9684\n",
      "Epoch 5/20\n",
      "9200/9200 [==============================] - 5s 546us/step - loss: 0.1269 - accuracy: 0.9571 - specificity_at_sensitivity: 0.9791 - sensitivity_at_specificity: 0.9759 - val_loss: 0.0735 - val_accuracy: 0.9774 - val_specificity_at_sensitivity: 0.9835 - val_sensitivity_at_specificity: 0.9820\n",
      "Epoch 6/20\n",
      "9200/9200 [==============================] - 5s 549us/step - loss: 0.1131 - accuracy: 0.9673 - specificity_at_sensitivity: 0.9864 - sensitivity_at_specificity: 0.9857 - val_loss: 0.0547 - val_accuracy: 0.9846 - val_specificity_at_sensitivity: 0.9885 - val_sensitivity_at_specificity: 0.9880\n",
      "Epoch 7/20\n",
      "9200/9200 [==============================] - 5s 540us/step - loss: 0.0981 - accuracy: 0.9697 - specificity_at_sensitivity: 0.9900 - sensitivity_at_specificity: 0.9895 - val_loss: 0.0814 - val_accuracy: 0.9748 - val_specificity_at_sensitivity: 0.9912 - val_sensitivity_at_specificity: 0.9908\n",
      "Epoch 8/20\n",
      "9200/9200 [==============================] - 5s 539us/step - loss: 0.0982 - accuracy: 0.9685 - specificity_at_sensitivity: 0.9920 - sensitivity_at_specificity: 0.9916 - val_loss: 0.0571 - val_accuracy: 0.9809 - val_specificity_at_sensitivity: 0.9927 - val_sensitivity_at_specificity: 0.9924\n",
      "Epoch 9/20\n",
      "9200/9200 [==============================] - 5s 547us/step - loss: 0.0856 - accuracy: 0.9702 - specificity_at_sensitivity: 0.9932 - sensitivity_at_specificity: 0.9928 - val_loss: 0.0532 - val_accuracy: 0.9852 - val_specificity_at_sensitivity: 0.9938 - val_sensitivity_at_specificity: 0.9934\n",
      "Epoch 10/20\n",
      "9200/9200 [==============================] - 5s 544us/step - loss: 0.0817 - accuracy: 0.9727 - specificity_at_sensitivity: 0.9940 - sensitivity_at_specificity: 0.9938 - val_loss: 0.0648 - val_accuracy: 0.9750 - val_specificity_at_sensitivity: 0.9943 - val_sensitivity_at_specificity: 0.9943\n",
      "Epoch 11/20\n",
      "9200/9200 [==============================] - 5s 542us/step - loss: 0.0799 - accuracy: 0.9731 - specificity_at_sensitivity: 0.9947 - sensitivity_at_specificity: 0.9946 - val_loss: 0.0782 - val_accuracy: 0.9674 - val_specificity_at_sensitivity: 0.9949 - val_sensitivity_at_specificity: 0.9949\n",
      "Epoch 12/20\n",
      "9200/9200 [==============================] - 5s 573us/step - loss: 0.0698 - accuracy: 0.9765 - specificity_at_sensitivity: 0.9953 - sensitivity_at_specificity: 0.9953 - val_loss: 0.0585 - val_accuracy: 0.9780 - val_specificity_at_sensitivity: 0.9956 - val_sensitivity_at_specificity: 0.9955\n",
      "Epoch 13/20\n",
      "9200/9200 [==============================] - 6s 628us/step - loss: 0.0697 - accuracy: 0.9763 - specificity_at_sensitivity: 0.9959 - sensitivity_at_specificity: 0.9958 - val_loss: 0.0537 - val_accuracy: 0.9787 - val_specificity_at_sensitivity: 0.9962 - val_sensitivity_at_specificity: 0.9961\n",
      "Epoch 14/20\n",
      "9200/9200 [==============================] - 6s 623us/step - loss: 0.0652 - accuracy: 0.9800 - specificity_at_sensitivity: 0.9963 - sensitivity_at_specificity: 0.9962 - val_loss: 0.0554 - val_accuracy: 0.9848 - val_specificity_at_sensitivity: 0.9966 - val_sensitivity_at_specificity: 0.9964\n",
      "Epoch 15/20\n",
      "9200/9200 [==============================] - 5s 546us/step - loss: 0.0650 - accuracy: 0.9777 - specificity_at_sensitivity: 0.9966 - sensitivity_at_specificity: 0.9966 - val_loss: 0.0561 - val_accuracy: 0.9839 - val_specificity_at_sensitivity: 0.9969 - val_sensitivity_at_specificity: 0.9967\n",
      "Epoch 16/20\n",
      "9200/9200 [==============================] - 5s 529us/step - loss: 0.0629 - accuracy: 0.9818 - specificity_at_sensitivity: 0.9969 - sensitivity_at_specificity: 0.9969 - val_loss: 0.0465 - val_accuracy: 0.9874 - val_specificity_at_sensitivity: 0.9969 - val_sensitivity_at_specificity: 0.9970\n",
      "Epoch 17/20\n",
      "9200/9200 [==============================] - 5s 577us/step - loss: 0.0577 - accuracy: 0.9797 - specificity_at_sensitivity: 0.9972 - sensitivity_at_specificity: 0.9971 - val_loss: 0.0515 - val_accuracy: 0.9857 - val_specificity_at_sensitivity: 0.9972 - val_sensitivity_at_specificity: 0.9972\n",
      "Epoch 18/20\n",
      "9200/9200 [==============================] - 5s 541us/step - loss: 0.0524 - accuracy: 0.9817 - specificity_at_sensitivity: 0.9972 - sensitivity_at_specificity: 0.9973 - val_loss: 0.0522 - val_accuracy: 0.9876 - val_specificity_at_sensitivity: 0.9972 - val_sensitivity_at_specificity: 0.9973\n",
      "Epoch 19/20\n",
      "9200/9200 [==============================] - 5s 580us/step - loss: 0.0505 - accuracy: 0.9825 - specificity_at_sensitivity: 0.9975 - sensitivity_at_specificity: 0.9973 - val_loss: 0.0498 - val_accuracy: 0.9887 - val_specificity_at_sensitivity: 0.9976 - val_sensitivity_at_specificity: 0.9975\n",
      "Epoch 20/20\n",
      "9200/9200 [==============================] - 5s 529us/step - loss: 0.0601 - accuracy: 0.9798 - specificity_at_sensitivity: 0.9976 - sensitivity_at_specificity: 0.9976 - val_loss: 0.0386 - val_accuracy: 0.9883 - val_specificity_at_sensitivity: 0.9976 - val_sensitivity_at_specificity: 0.9976\n"
     ]
    }
   ],
   "source": [
    "import keras\n",
    "import tensorflow as tf\n",
    "# adam = keras.optimizers.Adam(lr=0.0001, beta_1=0.9, beta_2=0.999, epsilon=None, decay=0.0, amsgrad=False)\n",
    "model1.compile(optimizer='rmsprop', loss='binary_crossentropy', metrics=['accuracy',tf.keras.metrics.SpecificityAtSensitivity(0.7),tf.keras.metrics.SensitivityAtSpecificity(0.7)])\n",
    "\n",
    "# es = keras.callbacks.EarlyStopping(patience=10)\n",
    "# tensorboard = keras.callbacks.TensorBoard(log_dir=\"logs/{}\".format(os.path.basename(__file__)[:-3]), histogram_freq=1, write_graph=True, write_images=True)\n",
    "\n",
    "history=model1.fit(eeg_data, labels, epochs=20,batch_size=128, validation_split = 0.2)\n",
    "model1.save(\"theirlstmcnn.h5\")"
   ]
  },
  {
   "cell_type": "code",
   "execution_count": 22,
   "metadata": {},
   "outputs": [
    {
     "data": {
      "image/png": "[encoded data removed]",
      "text/plain": [
       "<Figure size 432x288 with 1 Axes>"
      ]
     },
     "metadata": {
      "needs_background": "light"
     },
     "output_type": "display_data"
    },
    {
     "data": {
      "image/png": "[encoded data removed]",
      "text/plain": [
       "<Figure size 432x288 with 1 Axes>"
      ]
     },
     "metadata": {
      "needs_background": "light"
     },
     "output_type": "display_data"
    }
   ],
   "source": [
    "import matplotlib.pyplot as plt\n",
    "acc = history.history['accuracy']\n",
    "val_acc = history.history['val_accuracy']\n",
    "epochs = range(1,len(acc) + 1)\n",
    "plt.plot(epochs,acc,label='Training accuracy')\n",
    "plt.plot(epochs,val_acc,label='Validation accuracy')\n",
    "plt.title('Training and validation accuracy')\n",
    "plt.xlabel('Epochs')\n",
    "plt.ylabel('Accuracy')\n",
    "plt.legend()\n",
    "plt.show()\n",
    "import matplotlib.pyplot as plt\n",
    "loss = history.history['loss']\n",
    "val_loss = history.history['val_loss']\n",
    "epochs = range(1,len(acc) + 1)\n",
    "plt.plot(epochs,loss,label='Training accuracy')\n",
    "plt.plot(epochs,val_loss,label='Validation accuracy')\n",
    "plt.title('Training and validation accuracy')\n",
    "plt.xlabel('Epochs')\n",
    "plt.ylabel('loss')\n",
    "plt.legend()\n",
    "plt.show()"
   ]
  },
  {
   "cell_type": "code",
   "execution_count": 11,
   "metadata": {},
   "outputs": [],
   "source": [
    "dataset = pd.read_csv('dataset\\data.csv')"
   ]
  },
  {
   "cell_type": "code",
   "execution_count": 12,
   "metadata": {},
   "outputs": [],
   "source": [
    "from numpy.random import RandomState\n",
    "\n",
    "rng = RandomState()\n",
    "\n",
    "train = dataset.sample(frac=0.7, random_state=rng)\n",
    "test = dataset.loc[~dataset.index.isin(train.index)]\n",
    "\n",
    "# Labels_trn = Labels.sample(frac=0.7, random_state=rng)\n",
    "# print(train)\n",
    "\n",
    "# print(dataset)"
   ]
  },
  {
   "cell_type": "code",
   "execution_count": 13,
   "metadata": {},
   "outputs": [],
   "source": [
    "Labels_trn = train.iloc[:,-1]\n",
    "Labels_tst = test.iloc[:,-1]"
   ]
  },
  {
   "cell_type": "code",
   "execution_count": 14,
   "metadata": {},
   "outputs": [],
   "source": [
    "train = train.drop(['y'], axis=1)\n",
    "train= train.drop([\"Unnamed: 0\"], axis=1)\n",
    "test= test.drop([\"Unnamed: 0\"], axis=1)\n",
    "test = test.drop(['y'], axis=1)"
   ]
  },
  {
   "cell_type": "code",
   "execution_count": 17,
   "metadata": {},
   "outputs": [],
   "source": [
    "Label_trn = Labels_trn.replace({1:0, 2 : 1,3 : 1,4 : 1,5 : 1})\n",
    "Label_tst = Labels_tst.replace({1:0, 2 : 1,3 : 1,4 : 1,5 : 1})"
   ]
  },
  {
   "cell_type": "code",
   "execution_count": 19,
   "metadata": {},
   "outputs": [],
   "source": [
    "labelstst = np.array(Label_tst)\n",
    "labelstst = np_utils.to_categorical(Label_tst)"
   ]
  },
  {
   "cell_type": "code",
   "execution_count": 20,
   "metadata": {},
   "outputs": [
    {
     "name": "stdout",
     "output_type": "stream",
     "text": [
      "(3450, 2)\n"
     ]
    }
   ],
   "source": [
    "print(labelstst.shape)"
   ]
  },
  {
   "cell_type": "code",
   "execution_count": 21,
   "metadata": {},
   "outputs": [
    {
     "name": "stdout",
     "output_type": "stream",
     "text": [
      "3450/3450 [==============================] - 2s 499us/step\n",
      "[0.02048528541824308, 0.9930434823036194, 0.9975911378860474, 0.9976343512535095]\n"
     ]
    }
   ],
   "source": [
    "res = model1.evaluate(test, labelstst)\n",
    "print(res)"
   ]
  },
  {
   "cell_type": "code",
   "execution_count": null,
   "metadata": {},
   "outputs": [],
   "source": []
  }
 ],
 "metadata": {
  "kernelspec": {
   "display_name": "Python 3",
   "language": "python",
   "name": "python3"
  },
  "language_info": {
   "codemirror_mode": {
    "name": "ipython",
    "version": 3
   },
   "file_extension": ".py",
   "mimetype": "text/x-python",
   "name": "python",
   "nbconvert_exporter": "python",
   "pygments_lexer": "ipython3",
   "version": "3.7.4"
  }
 },
 "nbformat": 4,
 "nbformat_minor": 4
}
