{
 "cells": [
  {
   "cell_type": "code",
   "execution_count": 1,
   "metadata": {},
   "outputs": [
    {
     "name": "stderr",
     "output_type": "stream",
     "text": [
      "Using TensorFlow backend.\n",
      "C:\\Users\\sushr\\Anaconda3\\lib\\site-packages\\tensorflow\\python\\framework\\dtypes.py:516: FutureWarning: Passing (type, 1) or '1type' as a synonym of type is deprecated; in a future version of numpy, it will be understood as (type, (1,)) / '(1,)type'.\n",
      "  _np_qint8 = np.dtype([(\"qint8\", np.int8, 1)])\n",
      "C:\\Users\\sushr\\Anaconda3\\lib\\site-packages\\tensorflow\\python\\framework\\dtypes.py:517: FutureWarning: Passing (type, 1) or '1type' as a synonym of type is deprecated; in a future version of numpy, it will be understood as (type, (1,)) / '(1,)type'.\n",
      "  _np_quint8 = np.dtype([(\"quint8\", np.uint8, 1)])\n",
      "C:\\Users\\sushr\\Anaconda3\\lib\\site-packages\\tensorflow\\python\\framework\\dtypes.py:518: FutureWarning: Passing (type, 1) or '1type' as a synonym of type is deprecated; in a future version of numpy, it will be understood as (type, (1,)) / '(1,)type'.\n",
      "  _np_qint16 = np.dtype([(\"qint16\", np.int16, 1)])\n",
      "C:\\Users\\sushr\\Anaconda3\\lib\\site-packages\\tensorflow\\python\\framework\\dtypes.py:519: FutureWarning: Passing (type, 1) or '1type' as a synonym of type is deprecated; in a future version of numpy, it will be understood as (type, (1,)) / '(1,)type'.\n",
      "  _np_quint16 = np.dtype([(\"quint16\", np.uint16, 1)])\n",
      "C:\\Users\\sushr\\Anaconda3\\lib\\site-packages\\tensorflow\\python\\framework\\dtypes.py:520: FutureWarning: Passing (type, 1) or '1type' as a synonym of type is deprecated; in a future version of numpy, it will be understood as (type, (1,)) / '(1,)type'.\n",
      "  _np_qint32 = np.dtype([(\"qint32\", np.int32, 1)])\n",
      "C:\\Users\\sushr\\Anaconda3\\lib\\site-packages\\tensorflow\\python\\framework\\dtypes.py:525: FutureWarning: Passing (type, 1) or '1type' as a synonym of type is deprecated; in a future version of numpy, it will be understood as (type, (1,)) / '(1,)type'.\n",
      "  np_resource = np.dtype([(\"resource\", np.ubyte, 1)])\n",
      "C:\\Users\\sushr\\Anaconda3\\lib\\site-packages\\tensorboard\\compat\\tensorflow_stub\\dtypes.py:541: FutureWarning: Passing (type, 1) or '1type' as a synonym of type is deprecated; in a future version of numpy, it will be understood as (type, (1,)) / '(1,)type'.\n",
      "  _np_qint8 = np.dtype([(\"qint8\", np.int8, 1)])\n",
      "C:\\Users\\sushr\\Anaconda3\\lib\\site-packages\\tensorboard\\compat\\tensorflow_stub\\dtypes.py:542: FutureWarning: Passing (type, 1) or '1type' as a synonym of type is deprecated; in a future version of numpy, it will be understood as (type, (1,)) / '(1,)type'.\n",
      "  _np_quint8 = np.dtype([(\"quint8\", np.uint8, 1)])\n",
      "C:\\Users\\sushr\\Anaconda3\\lib\\site-packages\\tensorboard\\compat\\tensorflow_stub\\dtypes.py:543: FutureWarning: Passing (type, 1) or '1type' as a synonym of type is deprecated; in a future version of numpy, it will be understood as (type, (1,)) / '(1,)type'.\n",
      "  _np_qint16 = np.dtype([(\"qint16\", np.int16, 1)])\n",
      "C:\\Users\\sushr\\Anaconda3\\lib\\site-packages\\tensorboard\\compat\\tensorflow_stub\\dtypes.py:544: FutureWarning: Passing (type, 1) or '1type' as a synonym of type is deprecated; in a future version of numpy, it will be understood as (type, (1,)) / '(1,)type'.\n",
      "  _np_quint16 = np.dtype([(\"quint16\", np.uint16, 1)])\n",
      "C:\\Users\\sushr\\Anaconda3\\lib\\site-packages\\tensorboard\\compat\\tensorflow_stub\\dtypes.py:545: FutureWarning: Passing (type, 1) or '1type' as a synonym of type is deprecated; in a future version of numpy, it will be understood as (type, (1,)) / '(1,)type'.\n",
      "  _np_qint32 = np.dtype([(\"qint32\", np.int32, 1)])\n",
      "C:\\Users\\sushr\\Anaconda3\\lib\\site-packages\\tensorboard\\compat\\tensorflow_stub\\dtypes.py:550: FutureWarning: Passing (type, 1) or '1type' as a synonym of type is deprecated; in a future version of numpy, it will be understood as (type, (1,)) / '(1,)type'.\n",
      "  np_resource = np.dtype([(\"resource\", np.ubyte, 1)])\n"
     ]
    }
   ],
   "source": [
    "import numpy as np\n",
    "import pandas as pd\n",
    "from sklearn.preprocessing import StandardScaler\n",
    "from sklearn.preprocessing import LabelEncoder\n",
    "from keras.layers import Dense, Dropout\n",
    "from keras.models import Sequential\n",
    "from keras.wrappers.scikit_learn import KerasClassifier\n",
    "from keras.utils import np_utils\n",
    "from keras.optimizers import Adagrad\n",
    "from sklearn.model_selection import cross_val_score\n",
    "from sklearn.model_selection import KFold\n",
    "from sklearn.preprocessing import LabelEncoder\n",
    "from sklearn.model_selection import train_test_split"
   ]
  },
  {
   "cell_type": "code",
   "execution_count": 2,
   "metadata": {},
   "outputs": [],
   "source": [
    "import numpy as np\n",
    "import os \n",
    "\n",
    "def save_data(filepath, binary, augment): \n",
    "    from keras.utils import np_utils, plot_model\n",
    "    csv_data = np.genfromtxt(filepath, delimiter=\",\")\n",
    "    eeg_data = csv_data[1:]\n",
    "\n",
    "    labels = []\n",
    "    cleaned_eeg_data = []\n",
    "\n",
    "    if binary:  \n",
    "        for i in range(len(eeg_data)):\n",
    "            #seizure vs non-seizure only\n",
    "            labels.append(0 if (eeg_data[i][-1] == 1) else 1)\n",
    "            cleaned_eeg_data.append((eeg_data[i][:-1])[1:])\n",
    "    else: \n",
    "        for i in range(len(eeg_data)):\n",
    "            labels.append(eeg_data[i][-1]-1)\n",
    "            cleaned_eeg_data.append((eeg_data[i][:-1])[1:])\n",
    "\n",
    "    if augment: \n",
    "        labels, cleaned_eeg_data = augment_data(labels, cleaned_eeg_data)\n",
    "\n",
    "    labels = np.array(labels)\n",
    "    labels = np_utils.to_categorical(labels)\n",
    "    np.save(\"dataset/y_test\", labels)\n",
    "    cleaned_eeg_data = np.array(cleaned_eeg_data)\n",
    "    cleaned_eeg_data = np.reshape(cleaned_eeg_data, (cleaned_eeg_data.shape[0], cleaned_eeg_data.shape[1], 1, 1))\n",
    "    np.save(\"dataset/x_test\", cleaned_eeg_data)\n",
    "\n",
    "    np.savez_compressed(\"dataset/y_test.npz\", labels)\n",
    "    np.savez_compressed(\"dataset/x_test.npz\", cleaned_eeg_data)\n",
    "    np.savez_compressed(\"dataset/x_norm.npz\", cleaned_eeg_data)"
   ]
  },
  {
   "cell_type": "code",
   "execution_count": 3,
   "metadata": {},
   "outputs": [],
   "source": [
    "def save_data_to_3d(filepath, binary, augment): \n",
    "    from keras.utils import np_utils, plot_model\n",
    "    csv_data = np.genfromtxt(filepath, delimiter=\",\")\n",
    "    eeg_data = csv_data[1:]\n",
    "\n",
    "    labels = []\n",
    "    cleaned_eeg_data = []\n",
    "\n",
    "    if binary:  \n",
    "        for i in range(len(eeg_data)):\n",
    "            #seizure vs non-seizure only\n",
    "            labels.append(0 if (eeg_data[i][-1] == 1) else 1)\n",
    "            cleaned_eeg_data.append((eeg_data[i][:-1])[1:])\n",
    "    else: \n",
    "        for i in range(len(eeg_data)):\n",
    "            labels.append(eeg_data[i][-1]-1)\n",
    "            cleaned_eeg_data.append((eeg_data[i][:-1])[1:])\n",
    "\n",
    "    if augment: \n",
    "        labels, cleaned_eeg_data = augment_data(labels, cleaned_eeg_data)\n",
    "\n",
    "    labels = np.array(labels)\n",
    "    labels = np_utils.to_categorical(labels)\n",
    "    np.save(\"dataset/y_test\", labels)\n",
    "    cleaned_eeg_data = np.array(cleaned_eeg_data)\n",
    "    cleaned_eeg_data = np.reshape(cleaned_eeg_data, (cleaned_eeg_data.shape[0], cleaned_eeg_data.shape[1], 1))\n",
    "    np.save(\"dataset/x_test\", cleaned_eeg_data)\n",
    "\n",
    "    #needed for SNNtoolbox\n",
    "    np.savez_compressed(\"dataset/y_test.npz\", labels)\n",
    "    np.savez_compressed(\"dataset/x_test.npz\", cleaned_eeg_data)\n",
    "    np.savez_compressed(\"dataset/x_norm.npz\", cleaned_eeg_data)"
   ]
  },
  {
   "cell_type": "code",
   "execution_count": 4,
   "metadata": {},
   "outputs": [],
   "source": [
    "def load_data(): \n",
    "\texists = os.path.isfile('./dataset/x_test.npy') and os.path.isfile('./dataset/y_test.npy')\n",
    "\tif not exists: \n",
    "\t\traise Exception(\"Save the data to .npy first! Call save_data(filepath).\")\n",
    "\n",
    "\teeg_data = np.load('./dataset/x_test.npy')\n",
    "\tlabels = np.load('./dataset/y_test.npy')\n",
    "\n",
    "\treturn eeg_data, labels"
   ]
  },
  {
   "cell_type": "code",
   "execution_count": 5,
   "metadata": {},
   "outputs": [],
   "source": [
    "save_data_to_3d('C:\\\\Users\\\\sushr\\\\Desktop\\\\dataset\\\\data.csv', binary=1, augment=0)"
   ]
  },
  {
   "cell_type": "code",
   "execution_count": 6,
   "metadata": {},
   "outputs": [],
   "source": [
    "eeg_data = np.load('C:\\\\Users\\\\sushr\\\\Desktop\\\\dataset\\\\x_test.npy')\n",
    "labels = np.load('C:\\\\Users\\\\sushr\\\\Desktop\\\\dataset\\\\y_test.npy')"
   ]
  },
  {
   "cell_type": "code",
   "execution_count": 7,
   "metadata": {},
   "outputs": [
    {
     "name": "stdout",
     "output_type": "stream",
     "text": [
      "(11500, 178, 1)\n",
      "(11500, 2)\n"
     ]
    }
   ],
   "source": [
    "print(eeg_data.shape)\n",
    "print(labels.shape)"
   ]
  },
  {
   "cell_type": "code",
   "execution_count": 8,
   "metadata": {},
   "outputs": [
    {
     "name": "stdout",
     "output_type": "stream",
     "text": [
      "WARNING:tensorflow:From C:\\Users\\sushr\\Anaconda3\\lib\\site-packages\\keras\\backend\\tensorflow_backend.py:4070: The name tf.nn.max_pool is deprecated. Please use tf.nn.max_pool2d instead.\n",
      "\n"
     ]
    }
   ],
   "source": [
    "from keras.layers import LSTM ,Input,GaussianDropout\n",
    "from keras import models\n",
    "from keras.models import Model\n",
    "from keras import layers\n",
    "from keras.layers import Conv1D, MaxPooling1D\n",
    "# max_features = 100\n",
    "# model = Sequential()\n",
    "# # model.add(layers.Embedding(max_features,32))\n",
    "# model.add(LSTM(32))\n",
    "# model.add(Dense(5, activation='sigmoid'))\n",
    "\n",
    "inputs = Input(shape=(178,1,))\n",
    "x = Conv1D(32,(3),activation = 'relu')(inputs)\n",
    "x = Conv1D(32,(3),activation = 'relu')(x)\n",
    "x = MaxPooling1D(2,2)(x)\n",
    "x = Conv1D(32,(3),activation = 'relu')(x)\n",
    "x = MaxPooling1D(2,2)(x)\n",
    "x = Conv1D(32,(3),activation = 'relu')(x)\n",
    "x = MaxPooling1D(2,2)(x)\n",
    "x = Conv1D(32,(3),activation = 'relu')(x)\n",
    "x = GaussianDropout(0.1)(x)\t#generating noise during training for better generalization\n",
    "x = LSTM(9)(x)\n",
    "x = Dropout(0.5)(x)\n",
    "x = Dense(25)(x)\n",
    "predictions = Dense(units=2, activation=\"sigmoid\")(x)\n",
    "model1 = Model(inputs, predictions)\n",
    "# model.compile(optimizer='rmsprop',loss='binary_crossentropy',metrics=['acc'])\n",
    "# history=model.fit(Train1,Label_trn,epochs=10,batch_size=128,validation_split=0.2)"
   ]
  },
  {
   "cell_type": "code",
   "execution_count": 9,
   "metadata": {},
   "outputs": [
    {
     "name": "stdout",
     "output_type": "stream",
     "text": [
      "WARNING:tensorflow:From C:\\Users\\sushr\\Anaconda3\\lib\\site-packages\\tensorflow\\python\\ops\\nn_impl.py:180: add_dispatch_support.<locals>.wrapper (from tensorflow.python.ops.array_ops) is deprecated and will be removed in a future version.\n",
      "Instructions for updating:\n",
      "Use tf.where in 2.0, which has the same broadcast rule as np.where\n",
      "WARNING:tensorflow:From C:\\Users\\sushr\\Anaconda3\\lib\\site-packages\\keras\\backend\\tensorflow_backend.py:422: The name tf.global_variables is deprecated. Please use tf.compat.v1.global_variables instead.\n",
      "\n",
      "Train on 9200 samples, validate on 2300 samples\n",
      "Epoch 1/15\n",
      "9200/9200 [==============================] - 6s 662us/step - loss: 0.4440 - accuracy: 0.8047 - specificity_at_sensitivity: 0.8439 - sensitivity_at_specificity: 0.8529 - val_loss: 0.2341 - val_accuracy: 0.9233 - val_specificity_at_sensitivity: 0.8896 - val_sensitivity_at_specificity: 0.8957\n",
      "Epoch 2/15\n",
      "9200/9200 [==============================] - 5s 505us/step - loss: 0.2308 - accuracy: 0.8875 - specificity_at_sensitivity: 0.9324 - sensitivity_at_specificity: 0.9318 - val_loss: 0.1220 - val_accuracy: 0.9635 - val_specificity_at_sensitivity: 0.9569 - val_sensitivity_at_specificity: 0.9572\n",
      "Epoch 3/15\n",
      "9200/9200 [==============================] - 4s 409us/step - loss: 0.1535 - accuracy: 0.9460 - specificity_at_sensitivity: 0.9683 - sensitivity_at_specificity: 0.9700 - val_loss: 0.0808 - val_accuracy: 0.9772 - val_specificity_at_sensitivity: 0.9768 - val_sensitivity_at_specificity: 0.9781\n",
      "Epoch 4/15\n",
      "9200/9200 [==============================] - 3s 325us/step - loss: 0.1140 - accuracy: 0.9666 - specificity_at_sensitivity: 0.9822 - sensitivity_at_specificity: 0.9828 - val_loss: 0.0576 - val_accuracy: 0.9839 - val_specificity_at_sensitivity: 0.9864 - val_sensitivity_at_specificity: 0.9872\n",
      "Epoch 5/15\n",
      "9200/9200 [==============================] - 3s 316us/step - loss: 0.0966 - accuracy: 0.9711 - specificity_at_sensitivity: 0.9893 - sensitivity_at_specificity: 0.9901 - val_loss: 0.0545 - val_accuracy: 0.9848 - val_specificity_at_sensitivity: 0.9916 - val_sensitivity_at_specificity: 0.9921\n",
      "Epoch 6/15\n",
      "9200/9200 [==============================] - 5s 521us/step - loss: 0.0892 - accuracy: 0.9748 - specificity_at_sensitivity: 0.9930 - sensitivity_at_specificity: 0.9932 - val_loss: 0.1280 - val_accuracy: 0.9463 - val_specificity_at_sensitivity: 0.9936 - val_sensitivity_at_specificity: 0.9936\n",
      "Epoch 7/15\n",
      "9200/9200 [==============================] - 5s 498us/step - loss: 0.0880 - accuracy: 0.9751 - specificity_at_sensitivity: 0.9941 - sensitivity_at_specificity: 0.9940 - val_loss: 0.0587 - val_accuracy: 0.9824 - val_specificity_at_sensitivity: 0.9947 - val_sensitivity_at_specificity: 0.9945\n",
      "Epoch 8/15\n",
      "9200/9200 [==============================] - 5s 515us/step - loss: 0.0791 - accuracy: 0.9759 - specificity_at_sensitivity: 0.9950 - sensitivity_at_specificity: 0.9948 - val_loss: 0.0540 - val_accuracy: 0.9839 - val_specificity_at_sensitivity: 0.9955 - val_sensitivity_at_specificity: 0.9952\n",
      "Epoch 9/15\n",
      "9200/9200 [==============================] - 5s 521us/step - loss: 0.0725 - accuracy: 0.9786 - specificity_at_sensitivity: 0.9958 - sensitivity_at_specificity: 0.9956 - val_loss: 0.0550 - val_accuracy: 0.9865 - val_specificity_at_sensitivity: 0.9961 - val_sensitivity_at_specificity: 0.9959\n",
      "Epoch 10/15\n",
      "9200/9200 [==============================] - 5s 512us/step - loss: 0.0678 - accuracy: 0.9791 - specificity_at_sensitivity: 0.9963 - sensitivity_at_specificity: 0.9962 - val_loss: 0.0665 - val_accuracy: 0.9841 - val_specificity_at_sensitivity: 0.9965 - val_sensitivity_at_specificity: 0.9963\n",
      "Epoch 11/15\n",
      "9200/9200 [==============================] - 5s 512us/step - loss: 0.0658 - accuracy: 0.9812 - specificity_at_sensitivity: 0.9966 - sensitivity_at_specificity: 0.9966 - val_loss: 0.0548 - val_accuracy: 0.9846 - val_specificity_at_sensitivity: 0.9968 - val_sensitivity_at_specificity: 0.9967\n",
      "Epoch 12/15\n",
      "9200/9200 [==============================] - 5s 509us/step - loss: 0.0574 - accuracy: 0.9838 - specificity_at_sensitivity: 0.9969 - sensitivity_at_specificity: 0.9968 - val_loss: 0.0610 - val_accuracy: 0.9870 - val_specificity_at_sensitivity: 0.9971 - val_sensitivity_at_specificity: 0.9970\n",
      "Epoch 13/15\n",
      "9200/9200 [==============================] - 5s 518us/step - loss: 0.0635 - accuracy: 0.9827 - specificity_at_sensitivity: 0.9970 - sensitivity_at_specificity: 0.9970 - val_loss: 0.0487 - val_accuracy: 0.9883 - val_specificity_at_sensitivity: 0.9971 - val_sensitivity_at_specificity: 0.9970\n",
      "Epoch 14/15\n",
      "9200/9200 [==============================] - 5s 506us/step - loss: 0.0548 - accuracy: 0.9852 - specificity_at_sensitivity: 0.9973 - sensitivity_at_specificity: 0.9973 - val_loss: 0.0471 - val_accuracy: 0.9822 - val_specificity_at_sensitivity: 0.9973 - val_sensitivity_at_specificity: 0.9974\n",
      "Epoch 15/15\n",
      "9200/9200 [==============================] - 5s 509us/step - loss: 0.0563 - accuracy: 0.9835 - specificity_at_sensitivity: 0.9974 - sensitivity_at_specificity: 0.9974 - val_loss: 0.0408 - val_accuracy: 0.9887 - val_specificity_at_sensitivity: 0.9977 - val_sensitivity_at_specificity: 0.9976\n"
     ]
    }
   ],
   "source": [
    "import keras\n",
    "import tensorflow as tf\n",
    "# adam = keras.optimizers.Adam(lr=0.0001, beta_1=0.9, beta_2=0.999, epsilon=None, decay=0.0, amsgrad=False)\n",
    "model1.compile(optimizer='rmsprop', loss='binary_crossentropy', metrics=['accuracy',tf.keras.metrics.SpecificityAtSensitivity(0.7),tf.keras.metrics.SensitivityAtSpecificity(0.7)])\n",
    "\n",
    "# es = keras.callbacks.EarlyStopping(patience=10)\n",
    "# tensorboard = keras.callbacks.TensorBoard(log_dir=\"logs/{}\".format(os.path.basename(__file__)[:-3]), histogram_freq=1, write_graph=True, write_images=True)\n",
    "\n",
    "history=model1.fit(eeg_data, labels, epochs=15,batch_size=128, validation_split = 0.2)\n",
    "model1.save(\"ourlstmcnn.h5\")"
   ]
  },
  {
   "cell_type": "code",
   "execution_count": 10,
   "metadata": {},
   "outputs": [
    {
     "data": {
      "image/png": "[encoded data removed]",
      "text/plain": [
       "<Figure size 432x288 with 1 Axes>"
      ]
     },
     "metadata": {
      "needs_background": "light"
     },
     "output_type": "display_data"
    },
    {
     "data": {
      "image/png": "[encoded data removed]",
      "text/plain": [
       "<Figure size 432x288 with 1 Axes>"
      ]
     },
     "metadata": {
      "needs_background": "light"
     },
     "output_type": "display_data"
    }
   ],
   "source": [
    "import matplotlib.pyplot as plt\n",
    "acc = history.history['accuracy']\n",
    "val_acc = history.history['val_accuracy']\n",
    "epochs = range(1,len(acc) + 1)\n",
    "plt.plot(epochs,acc,label='Training accuracy')\n",
    "plt.plot(epochs,val_acc,label='Validation accuracy')\n",
    "plt.title('Training and validation accuracy')\n",
    "plt.xlabel('Epochs')\n",
    "plt.ylabel('Accuracy')\n",
    "plt.legend()\n",
    "plt.show()\n",
    "import matplotlib.pyplot as plt\n",
    "loss = history.history['loss']\n",
    "val_loss = history.history['val_loss']\n",
    "epochs = range(1,len(acc) + 1)\n",
    "plt.plot(epochs,loss,label='Training accuracy')\n",
    "plt.plot(epochs,val_loss,label='Validation accuracy')\n",
    "plt.title('Training and validation accuracy')\n",
    "plt.xlabel('Epochs')\n",
    "plt.ylabel('loss')\n",
    "plt.legend()\n",
    "plt.show()"
   ]
  },
  {
   "cell_type": "code",
   "execution_count": 11,
   "metadata": {},
   "outputs": [],
   "source": [
    "dataset = pd.read_csv('dataset\\data.csv')"
   ]
  },
  {
   "cell_type": "code",
   "execution_count": 12,
   "metadata": {},
   "outputs": [],
   "source": [
    "from numpy.random import RandomState\n",
    "\n",
    "rng = RandomState()\n",
    "\n",
    "train = dataset.sample(frac=0.7, random_state=rng)\n",
    "test = dataset.loc[~dataset.index.isin(train.index)]\n",
    "\n",
    "# Labels_trn = Labels.sample(frac=0.7, random_state=rng)\n",
    "# print(train)\n",
    "\n",
    "# print(dataset)"
   ]
  },
  {
   "cell_type": "code",
   "execution_count": 13,
   "metadata": {},
   "outputs": [],
   "source": [
    "Labels_trn = train.iloc[:,-1]\n",
    "Labels_tst = test.iloc[:,-1]"
   ]
  },
  {
   "cell_type": "code",
   "execution_count": 14,
   "metadata": {},
   "outputs": [],
   "source": [
    "train = train.drop(['y'], axis=1)\n",
    "train= train.drop([\"Unnamed: 0\"], axis=1)\n",
    "test= test.drop([\"Unnamed: 0\"], axis=1)\n",
    "test = test.drop(['y'], axis=1)"
   ]
  },
  {
   "cell_type": "code",
   "execution_count": 15,
   "metadata": {},
   "outputs": [
    {
     "name": "stdout",
     "output_type": "stream",
     "text": [
      "        X1   X2   X3   X4   X5   X6   X7   X8   X9  X10  ...  X169  X170  \\\n",
      "3     -105 -101  -96  -92  -89  -95 -102 -100  -87  -79  ...   -80   -82   \n",
      "6      -55   -9   52  111  135  129  103   72   37    0  ...  -137  -125   \n",
      "16      39   41   41   42   43   43   46   47   49   50  ...    42    43   \n",
      "19       4   24   51   76   92  102  104  101   90   80  ...     2     3   \n",
      "20     410  451  491  541  581  641  736  757  692  435  ...   409   415   \n",
      "...    ...  ...  ...  ...  ...  ...  ...  ...  ...  ...  ...   ...   ...   \n",
      "11474  -50  -48  -63  -62  -46  -24   -1   13   27   43  ...    38    44   \n",
      "11479   62   68   75   75   75   77   81   85   82   81  ...     7    -1   \n",
      "11482 -121    4  104  185  269  352  405  421  392  369  ...   327   339   \n",
      "11492  -27  -53  -84 -104 -131 -171 -199 -203 -177 -142  ...  -136  -127   \n",
      "11498  -40  -25   -9  -12   -2   12    7   19   22   29  ...   114   121   \n",
      "\n",
      "       X171  X172  X173  X174  X175  X176  X177  X178  \n",
      "3       -81   -80   -77   -85   -77   -72   -69   -65  \n",
      "6       -99   -79   -62   -41   -26    11    67   128  \n",
      "16       41    41    43    43    40    41    41    49  \n",
      "19        5    10    19    31    36    40    43    36  \n",
      "20      428   463   510   562   607   667   748   763  \n",
      "...     ...   ...   ...   ...   ...   ...   ...   ...  \n",
      "11474    43    46    47    46    32    13     6     2  \n",
      "11479    -2    -1     9    18    22    30    36    41  \n",
      "11482   331   315   298   282   253   203   145   108  \n",
      "11492  -114   -99   -79   -56   -28   -14    -8   -12  \n",
      "11498   135   148   143   116    86    68    59    55  \n",
      "\n",
      "[3450 rows x 178 columns]\n",
      "3        5\n",
      "6        4\n",
      "16       2\n",
      "19       2\n",
      "20       1\n",
      "        ..\n",
      "11474    5\n",
      "11479    2\n",
      "11482    1\n",
      "11492    1\n",
      "11498    3\n",
      "Name: y, Length: 3450, dtype: int64\n"
     ]
    }
   ],
   "source": [
    "# res = model.evaluate(Test1, Label_tst)\n",
    "print(test)\n",
    "print(Labels_tst)\n"
   ]
  },
  {
   "cell_type": "code",
   "execution_count": null,
   "metadata": {},
   "outputs": [],
   "source": []
  },
  {
   "cell_type": "code",
   "execution_count": 16,
   "metadata": {},
   "outputs": [
    {
     "name": "stdout",
     "output_type": "stream",
     "text": [
      "[[[-105]\n",
      "  [-101]\n",
      "  [ -96]\n",
      "  ...\n",
      "  [ -72]\n",
      "  [ -69]\n",
      "  [ -65]]\n",
      "\n",
      " [[ -55]\n",
      "  [  -9]\n",
      "  [  52]\n",
      "  ...\n",
      "  [  11]\n",
      "  [  67]\n",
      "  [ 128]]\n",
      "\n",
      " [[  39]\n",
      "  [  41]\n",
      "  [  41]\n",
      "  ...\n",
      "  [  41]\n",
      "  [  41]\n",
      "  [  49]]\n",
      "\n",
      " ...\n",
      "\n",
      " [[-121]\n",
      "  [   4]\n",
      "  [ 104]\n",
      "  ...\n",
      "  [ 203]\n",
      "  [ 145]\n",
      "  [ 108]]\n",
      "\n",
      " [[ -27]\n",
      "  [ -53]\n",
      "  [ -84]\n",
      "  ...\n",
      "  [ -14]\n",
      "  [  -8]\n",
      "  [ -12]]\n",
      "\n",
      " [[ -40]\n",
      "  [ -25]\n",
      "  [  -9]\n",
      "  ...\n",
      "  [  68]\n",
      "  [  59]\n",
      "  [  55]]]\n"
     ]
    }
   ],
   "source": [
    "test = np.array(test)\n",
    "test = np.reshape(test, (test.shape[0], test.shape[1], 1))\n",
    "print(test)"
   ]
  },
  {
   "cell_type": "code",
   "execution_count": 17,
   "metadata": {},
   "outputs": [],
   "source": [
    "Label_trn = Labels_trn.replace({1:0, 2 : 1,3 : 1,4 : 1,5 : 1})\n",
    "Label_tst = Labels_tst.replace({1:0, 2 : 1,3 : 1,4 : 1,5 : 1})"
   ]
  },
  {
   "cell_type": "code",
   "execution_count": 18,
   "metadata": {},
   "outputs": [
    {
     "name": "stdout",
     "output_type": "stream",
     "text": [
      "3        1\n",
      "6        1\n",
      "16       1\n",
      "19       1\n",
      "20       0\n",
      "        ..\n",
      "11474    1\n",
      "11479    1\n",
      "11482    0\n",
      "11492    0\n",
      "11498    1\n",
      "Name: y, Length: 3450, dtype: int64\n"
     ]
    }
   ],
   "source": [
    "print(Label_tst)"
   ]
  },
  {
   "cell_type": "code",
   "execution_count": 19,
   "metadata": {},
   "outputs": [],
   "source": [
    "labelstst = np.array(Label_tst)\n",
    "labelstst = np_utils.to_categorical(Label_tst)"
   ]
  },
  {
   "cell_type": "code",
   "execution_count": 20,
   "metadata": {},
   "outputs": [
    {
     "name": "stdout",
     "output_type": "stream",
     "text": [
      "(3450, 2)\n"
     ]
    }
   ],
   "source": [
    "print(labelstst.shape)"
   ]
  },
  {
   "cell_type": "code",
   "execution_count": 21,
   "metadata": {},
   "outputs": [
    {
     "name": "stdout",
     "output_type": "stream",
     "text": [
      "3450/3450 [==============================] - 2s 452us/step\n",
      "[0.028472134071010825, 0.9905797243118286, 0.9976755976676941, 0.9976755976676941]\n"
     ]
    }
   ],
   "source": [
    "res = model1.evaluate(test, labelstst)\n",
    "print(res)"
   ]
  },
  {
   "cell_type": "code",
   "execution_count": 22,
   "metadata": {},
   "outputs": [],
   "source": [
    "res = model1.predict(test)"
   ]
  },
  {
   "cell_type": "code",
   "execution_count": null,
   "metadata": {},
   "outputs": [],
   "source": []
  },
  {
   "cell_type": "code",
   "execution_count": null,
   "metadata": {},
   "outputs": [],
   "source": []
  }
 ],
 "metadata": {
  "kernelspec": {
   "display_name": "Python 3",
   "language": "python",
   "name": "python3"
  },
  "language_info": {
   "codemirror_mode": {
    "name": "ipython",
    "version": 3
   },
   "file_extension": ".py",
   "mimetype": "text/x-python",
   "name": "python",
   "nbconvert_exporter": "python",
   "pygments_lexer": "ipython3",
   "version": "3.7.6"
  }
 },
 "nbformat": 4,
 "nbformat_minor": 4
}
