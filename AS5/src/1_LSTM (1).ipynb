{
 "cells": [
  {
   "cell_type": "code",
   "execution_count": 1,
   "metadata": {},
   "outputs": [
    {
     "name": "stderr",
     "output_type": "stream",
     "text": [
      "Using TensorFlow backend.\n"
     ]
    }
   ],
   "source": [
    "from keras.datasets import imdb\n",
    "from keras.models import load_model\n",
    "\n",
    "(x_train, y_train), (x_test, y_test) = imdb.load_data(num_words = 10000)"
   ]
  },
  {
   "cell_type": "code",
   "execution_count": 2,
   "metadata": {},
   "outputs": [
    {
     "name": "stdout",
     "output_type": "stream",
     "text": [
      "(25000,)\n",
      "(25000,)\n",
      "[1 0 0 ... 0 1 0]\n"
     ]
    }
   ],
   "source": [
    "print(x_train.shape)\n",
    "print(y_train.shape)\n",
    "print(y_train)"
   ]
  },
  {
   "cell_type": "code",
   "execution_count": 3,
   "metadata": {},
   "outputs": [],
   "source": [
    "from keras import preprocessing\n",
    "max_len = 20\n",
    "x_train = preprocessing.sequence.pad_sequences(x_train,max_len)\n",
    "x_test = preprocessing.sequence.pad_sequences(x_test,max_len)"
   ]
  },
  {
   "cell_type": "code",
   "execution_count": 4,
   "metadata": {},
   "outputs": [
    {
     "name": "stdout",
     "output_type": "stream",
     "text": [
      "(25000, 20)\n"
     ]
    }
   ],
   "source": [
    "print(x_train.shape)\n"
   ]
  },
  {
   "cell_type": "code",
   "execution_count": 5,
   "metadata": {},
   "outputs": [],
   "source": [
    "x_val = x_train[:1000]\n",
    "partial_x_train = x_train[1000:]\n",
    "y_val = y_train[:1000]\n",
    "partial_y_train = y_train[1000:]"
   ]
  },
  {
   "cell_type": "code",
   "execution_count": 6,
   "metadata": {},
   "outputs": [
    {
     "name": "stdout",
     "output_type": "stream",
     "text": [
      "Model: \"sequential_1\"\n",
      "_________________________________________________________________\n",
      "Layer (type)                 Output Shape              Param #   \n",
      "=================================================================\n",
      "embedding_1 (Embedding)      (None, None, 8)           80000     \n",
      "_________________________________________________________________\n",
      "lstm_1 (LSTM)                (None, 128)               70144     \n",
      "_________________________________________________________________\n",
      "dropout_1 (Dropout)          (None, 128)               0         \n",
      "_________________________________________________________________\n",
      "dense_1 (Dense)              (None, 1)                 129       \n",
      "=================================================================\n",
      "Total params: 150,273\n",
      "Trainable params: 150,273\n",
      "Non-trainable params: 0\n",
      "_________________________________________________________________\n"
     ]
    }
   ],
   "source": [
    "from keras.models import Sequential\n",
    "from keras.layers import Flatten, Dense, Embedding, Dropout,LSTM\n",
    "model = Sequential()\n",
    "model.add(Embedding(10000,8))\n",
    "#model.add(Flatten())\n",
    "model.add(LSTM(128))\n",
    "model.add(Dropout(0.3))\n",
    "model.add(Dense(1, activation = 'sigmoid'))\n",
    "model.compile(optimizer = 'rmsprop', loss = 'binary_crossentropy', metrics = ['acc'])\n",
    "model.summary()"
   ]
  },
  {
   "cell_type": "code",
   "execution_count": 7,
   "metadata": {},
   "outputs": [
    {
     "name": "stderr",
     "output_type": "stream",
     "text": [
      "C:\\Users\\divya\\anaconda3\\lib\\site-packages\\tensorflow_core\\python\\framework\\indexed_slices.py:433: UserWarning: Converting sparse IndexedSlices to a dense Tensor of unknown shape. This may consume a large amount of memory.\n",
      "  \"Converting sparse IndexedSlices to a dense Tensor of unknown shape. \"\n"
     ]
    },
    {
     "name": "stdout",
     "output_type": "stream",
     "text": [
      "Train on 25000 samples, validate on 1000 samples\n",
      "Epoch 1/10\n",
      "25000/25000 [==============================] - 12s 479us/step - loss: 0.5606 - acc: 0.7002 - val_loss: 0.5034 - val_acc: 0.7480\n",
      "Epoch 2/10\n",
      "25000/25000 [==============================] - 12s 472us/step - loss: 0.4551 - acc: 0.7841 - val_loss: 0.4313 - val_acc: 0.8120\n",
      "Epoch 3/10\n",
      "25000/25000 [==============================] - 12s 474us/step - loss: 0.4290 - acc: 0.8020 - val_loss: 0.4160 - val_acc: 0.8090\n",
      "Epoch 4/10\n",
      "25000/25000 [==============================] - 12s 493us/step - loss: 0.4133 - acc: 0.8115 - val_loss: 0.4112 - val_acc: 0.8140\n",
      "Epoch 5/10\n",
      "25000/25000 [==============================] - 16s 659us/step - loss: 0.4031 - acc: 0.8180 - val_loss: 0.3984 - val_acc: 0.8210\n",
      "Epoch 6/10\n",
      "25000/25000 [==============================] - 32s 1ms/step - loss: 0.3925 - acc: 0.8233 - val_loss: 0.4013 - val_acc: 0.8220\n",
      "Epoch 7/10\n",
      "25000/25000 [==============================] - 32s 1ms/step - loss: 0.3831 - acc: 0.8290 - val_loss: 0.3851 - val_acc: 0.8270\n",
      "Epoch 8/10\n",
      "25000/25000 [==============================] - 32s 1ms/step - loss: 0.3731 - acc: 0.8363 - val_loss: 0.3740 - val_acc: 0.8310\n",
      "Epoch 9/10\n",
      "25000/25000 [==============================] - 32s 1ms/step - loss: 0.3629 - acc: 0.8373 - val_loss: 0.3578 - val_acc: 0.8360\n",
      "Epoch 10/10\n",
      "25000/25000 [==============================] - 34s 1ms/step - loss: 0.3526 - acc: 0.8448 - val_loss: 0.3526 - val_acc: 0.8420\n"
     ]
    }
   ],
   "source": [
    "history = model.fit(x_train,y_train,epochs = 10, batch_size = 32, validation_data = (x_val,y_val))\n",
    "model.save(\"lstm_1.h5\")"
   ]
  },
  {
   "cell_type": "code",
   "execution_count": 8,
   "metadata": {},
   "outputs": [
    {
     "data": {
      "image/png": "[encoded data removed]",
      "text/plain": [
       "<Figure size 432x288 with 1 Axes>"
      ]
     },
     "metadata": {
      "needs_background": "light"
     },
     "output_type": "display_data"
    }
   ],
   "source": [
    "import matplotlib.pyplot as plt\n",
    "loss = history.history['loss']\n",
    "val_loss = history.history['val_loss']\n",
    "epochs = range(1,len(loss) + 1)\n",
    "plt.plot(epochs,loss,label='Training loss')\n",
    "plt.plot(epochs,val_loss,label='Validation loss')\n",
    "plt.title('Training and validation loss')\n",
    "plt.xlabel('Epochs')\n",
    "plt.ylabel('Loss')\n",
    "plt.legend()\n",
    "plt.show()"
   ]
  },
  {
   "cell_type": "code",
   "execution_count": 9,
   "metadata": {},
   "outputs": [
    {
     "data": {
      "image/png": "[encoded data removed]",
      "text/plain": [
       "<Figure size 432x288 with 1 Axes>"
      ]
     },
     "metadata": {
      "needs_background": "light"
     },
     "output_type": "display_data"
    }
   ],
   "source": [
    "import matplotlib.pyplot as plt\n",
    "acc = history.history['acc']\n",
    "val_acc = history.history['val_acc']\n",
    "epochs = range(1,len(acc) + 1)\n",
    "plt.plot(epochs,acc,label='Training Accuracy')\n",
    "plt.plot(epochs,val_acc,label='Validation Accuracy')\n",
    "plt.title('Training and validation Accuracy')\n",
    "plt.xlabel('Epochs')\n",
    "plt.ylabel('Accuracy')\n",
    "plt.legend()\n",
    "plt.show()"
   ]
  },
  {
   "cell_type": "code",
   "execution_count": 10,
   "metadata": {},
   "outputs": [
    {
     "name": "stdout",
     "output_type": "stream",
     "text": [
      "25000/25000 [==============================] - 10s 418us/step\n",
      "[0.4813276582145691, 0.7717599868774414]\n"
     ]
    }
   ],
   "source": [
    "result =model.evaluate(x_test,y_test)\n",
    "print(result)"
   ]
  }
 ],
 "metadata": {
  "kernelspec": {
   "display_name": "Python 3",
   "language": "python",
   "name": "python3"
  },
  "language_info": {
   "codemirror_mode": {
    "name": "ipython",
    "version": 3
   },
   "file_extension": ".py",
   "mimetype": "text/x-python",
   "name": "python",
   "nbconvert_exporter": "python",
   "pygments_lexer": "ipython3",
   "version": "3.7.4"
  }
 },
 "nbformat": 4,
 "nbformat_minor": 2
}
