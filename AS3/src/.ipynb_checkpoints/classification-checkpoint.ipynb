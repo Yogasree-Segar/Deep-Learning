{
 "cells": [
  {
   "cell_type": "code",
   "execution_count": 1,
   "metadata": {},
   "outputs": [
    {
     "name": "stderr",
     "output_type": "stream",
     "text": [
      "Using TensorFlow backend.\n"
     ]
    }
   ],
   "source": [
    "from keras.models import load_model\n",
    "from sklearn import datasets\n",
    "import pandas as pd\n",
    "digits = pd.read_csv(\"car.data\", header=None)"
   ]
  },
  {
   "cell_type": "code",
   "execution_count": 2,
   "metadata": {},
   "outputs": [
    {
     "name": "stdout",
     "output_type": "stream",
     "text": [
      "          0      1      2     3      4     5      6\n",
      "0     vhigh  vhigh      2     2  small   low  unacc\n",
      "1     vhigh  vhigh      2     2  small   med  unacc\n",
      "2     vhigh  vhigh      2     2  small  high  unacc\n",
      "3     vhigh  vhigh      2     2    med   low  unacc\n",
      "4     vhigh  vhigh      2     2    med   med  unacc\n",
      "...     ...    ...    ...   ...    ...   ...    ...\n",
      "1723    low    low  5more  more    med   med   good\n",
      "1724    low    low  5more  more    med  high  vgood\n",
      "1725    low    low  5more  more    big   low  unacc\n",
      "1726    low    low  5more  more    big   med   good\n",
      "1727    low    low  5more  more    big  high  vgood\n",
      "\n",
      "[1728 rows x 7 columns]\n"
     ]
    }
   ],
   "source": [
    "print(digits)"
   ]
  },
  {
   "cell_type": "code",
   "execution_count": 3,
   "metadata": {},
   "outputs": [],
   "source": [
    "digit = digits.replace({ 'vhigh' : 1, 'high' : 2, 'med' : 3, 'low' : 4, 'more' : 6, 'small' : 7, 'big' : 8,'5more' : 9, 'unacc' : 0, 'acc' : 1, 'good' : 2, 'vgood' : 3 })"
   ]
  },
  {
   "cell_type": "code",
   "execution_count": 4,
   "metadata": {},
   "outputs": [
    {
     "name": "stdout",
     "output_type": "stream",
     "text": [
      "      0  1  2  3  4  5  6\n",
      "0     1  1  2  2  7  4  0\n",
      "1     1  1  2  2  7  3  0\n",
      "2     1  1  2  2  7  2  0\n",
      "3     1  1  2  2  3  4  0\n",
      "4     1  1  2  2  3  3  0\n",
      "...  .. .. .. .. .. .. ..\n",
      "1723  4  4  9  6  3  3  2\n",
      "1724  4  4  9  6  3  2  3\n",
      "1725  4  4  9  6  8  4  0\n",
      "1726  4  4  9  6  8  3  2\n",
      "1727  4  4  9  6  8  2  3\n",
      "\n",
      "[1728 rows x 7 columns]\n"
     ]
    }
   ],
   "source": [
    "print(digit)"
   ]
  },
  {
   "cell_type": "code",
   "execution_count": 5,
   "metadata": {},
   "outputs": [],
   "source": [
    "digit.rename(columns = {6:'label'}, inplace=True)"
   ]
  },
  {
   "cell_type": "code",
   "execution_count": 6,
   "metadata": {},
   "outputs": [
    {
     "name": "stdout",
     "output_type": "stream",
     "text": [
      "      0  1  2  3  4  5  label\n",
      "0     1  1  2  2  7  4      0\n",
      "1     1  1  2  2  7  3      0\n",
      "2     1  1  2  2  7  2      0\n",
      "3     1  1  2  2  3  4      0\n",
      "4     1  1  2  2  3  3      0\n",
      "...  .. .. .. .. .. ..    ...\n",
      "1723  4  4  9  6  3  3      2\n",
      "1724  4  4  9  6  3  2      3\n",
      "1725  4  4  9  6  8  4      0\n",
      "1726  4  4  9  6  8  3      2\n",
      "1727  4  4  9  6  8  2      3\n",
      "\n",
      "[1728 rows x 7 columns]\n"
     ]
    }
   ],
   "source": [
    "print(digit)"
   ]
  },
  {
   "cell_type": "code",
   "execution_count": 7,
   "metadata": {},
   "outputs": [
    {
     "name": "stdout",
     "output_type": "stream",
     "text": [
      "      label\n",
      "0         0\n",
      "1         0\n",
      "2         0\n",
      "3         0\n",
      "4         0\n",
      "...     ...\n",
      "1723      2\n",
      "1724      3\n",
      "1725      0\n",
      "1726      2\n",
      "1727      3\n",
      "\n",
      "[1728 rows x 1 columns]\n"
     ]
    }
   ],
   "source": [
    "print(digit[['label']])"
   ]
  },
  {
   "cell_type": "code",
   "execution_count": 8,
   "metadata": {},
   "outputs": [],
   "source": [
    "from numpy.random import RandomState\n",
    "\n",
    "rng = RandomState()\n",
    "\n",
    "train = digit.sample(frac=0.7, random_state=rng)\n",
    "test = digit.loc[~digit.index.isin(train.index)]"
   ]
  },
  {
   "cell_type": "code",
   "execution_count": 9,
   "metadata": {},
   "outputs": [
    {
     "name": "stdout",
     "output_type": "stream",
     "text": [
      "      0  1  2  3  4  5  label\n",
      "1100  3  3  2  6  7  2      0\n",
      "1276  3  4  9  2  8  3      0\n",
      "1543  4  3  3  2  3  3      0\n",
      "941   3  1  4  6  3  2      1\n",
      "745   2  3  9  4  8  3      1\n",
      "...  .. .. .. .. .. ..    ...\n",
      "589   2  2  3  6  3  3      1\n",
      "751   2  3  9  6  3  3      1\n",
      "1459  4  2  4  2  7  3      0\n",
      "760   2  4  2  2  3  3      0\n",
      "1373  4  1  4  6  3  2      1\n",
      "\n",
      "[1210 rows x 7 columns]\n",
      "      label\n",
      "1100      0\n",
      "1276      0\n",
      "1543      0\n",
      "941       1\n",
      "745       1\n",
      "...     ...\n",
      "589       1\n",
      "751       1\n",
      "1459      0\n",
      "760       0\n",
      "1373      1\n",
      "\n",
      "[1210 rows x 1 columns]\n"
     ]
    }
   ],
   "source": [
    "print(train)\n",
    "print(train[['label']])"
   ]
  },
  {
   "cell_type": "code",
   "execution_count": 10,
   "metadata": {},
   "outputs": [
    {
     "name": "stdout",
     "output_type": "stream",
     "text": [
      "      0  1  2  3  4  5  label\n",
      "0     1  1  2  2  7  4      0\n",
      "2     1  1  2  2  7  2      0\n",
      "5     1  1  2  2  3  2      0\n",
      "6     1  1  2  2  8  4      0\n",
      "10    1  1  2  4  7  3      0\n",
      "...  .. .. .. .. .. ..    ...\n",
      "1720  4  4  9  6  7  3      1\n",
      "1721  4  4  9  6  7  2      2\n",
      "1722  4  4  9  6  3  4      0\n",
      "1723  4  4  9  6  3  3      2\n",
      "1726  4  4  9  6  8  3      2\n",
      "\n",
      "[518 rows x 7 columns]\n"
     ]
    }
   ],
   "source": [
    "print(test)"
   ]
  },
  {
   "cell_type": "code",
   "execution_count": 11,
   "metadata": {},
   "outputs": [],
   "source": [
    "train_label = train.iloc[:,-1]\n",
    "test_label = test.iloc[:,-1]"
   ]
  },
  {
   "cell_type": "code",
   "execution_count": 12,
   "metadata": {},
   "outputs": [],
   "source": [
    "train = train.drop(['label'], axis=1)\n",
    "test = test.drop(['label'], axis=1)"
   ]
  },
  {
   "cell_type": "code",
   "execution_count": 13,
   "metadata": {},
   "outputs": [
    {
     "name": "stdout",
     "output_type": "stream",
     "text": [
      "      0  1  2  3  4  5\n",
      "1100  3  3  2  6  7  2\n",
      "1276  3  4  9  2  8  3\n",
      "1543  4  3  3  2  3  3\n",
      "941   3  1  4  6  3  2\n",
      "745   2  3  9  4  8  3\n",
      "...  .. .. .. .. .. ..\n",
      "589   2  2  3  6  3  3\n",
      "751   2  3  9  6  3  3\n",
      "1459  4  2  4  2  7  3\n",
      "760   2  4  2  2  3  3\n",
      "1373  4  1  4  6  3  2\n",
      "\n",
      "[1210 rows x 6 columns]\n"
     ]
    }
   ],
   "source": [
    "print(train)"
   ]
  },
  {
   "cell_type": "code",
   "execution_count": 14,
   "metadata": {},
   "outputs": [
    {
     "name": "stdout",
     "output_type": "stream",
     "text": [
      "      0  1  2  3  4  5\n",
      "0     1  1  2  2  7  4\n",
      "2     1  1  2  2  7  2\n",
      "5     1  1  2  2  3  2\n",
      "6     1  1  2  2  8  4\n",
      "10    1  1  2  4  7  3\n",
      "...  .. .. .. .. .. ..\n",
      "1720  4  4  9  6  7  3\n",
      "1721  4  4  9  6  7  2\n",
      "1722  4  4  9  6  3  4\n",
      "1723  4  4  9  6  3  3\n",
      "1726  4  4  9  6  8  3\n",
      "\n",
      "[518 rows x 6 columns]\n"
     ]
    }
   ],
   "source": [
    "print(test)"
   ]
  },
  {
   "cell_type": "code",
   "execution_count": 15,
   "metadata": {},
   "outputs": [
    {
     "name": "stdout",
     "output_type": "stream",
     "text": [
      "1100    0\n",
      "1276    0\n",
      "1543    0\n",
      "941     1\n",
      "745     1\n",
      "       ..\n",
      "589     1\n",
      "751     1\n",
      "1459    0\n",
      "760     0\n",
      "1373    1\n",
      "Name: label, Length: 1210, dtype: int64\n",
      "0       0\n",
      "2       0\n",
      "5       0\n",
      "6       0\n",
      "10      0\n",
      "       ..\n",
      "1720    1\n",
      "1721    2\n",
      "1722    0\n",
      "1723    2\n",
      "1726    2\n",
      "Name: label, Length: 518, dtype: int64\n"
     ]
    }
   ],
   "source": [
    "print(train_label)\n",
    "print(test_label)"
   ]
  },
  {
   "cell_type": "code",
   "execution_count": 16,
   "metadata": {},
   "outputs": [],
   "source": [
    "from keras.utils import to_categorical\n",
    "Y_train = to_categorical(train_label,4)\n",
    "Y_test = to_categorical(test_label,4)"
   ]
  },
  {
   "cell_type": "code",
   "execution_count": 17,
   "metadata": {},
   "outputs": [],
   "source": [
    "x_val = train[:1000]\n",
    "partial_x_train = train[1000:]\n",
    "y_val = Y_train[:1000]\n",
    "partial_y_train = Y_train[1000:]"
   ]
  },
  {
   "cell_type": "code",
   "execution_count": 18,
   "metadata": {},
   "outputs": [
    {
     "name": "stdout",
     "output_type": "stream",
     "text": [
      "(210, 6)\n"
     ]
    }
   ],
   "source": [
    "print(partial_x_train.shape)"
   ]
  },
  {
   "cell_type": "code",
   "execution_count": 19,
   "metadata": {},
   "outputs": [],
   "source": [
    "from keras import models\n",
    "from keras import layers\n",
    "from keras import optimizers\n",
    "\n",
    "def build_model():\n",
    "    model = models.Sequential()\n",
    "    model.add(layers.Dense(512,activation = 'relu',input_shape = (6,)))\n",
    "    model.add(layers.Dropout(0.15))\n",
    "    model.add(layers.Dense(512,activation='relu'))\n",
    "    model.add(layers.Dropout(0.15))\n",
    "    model.add(layers.Dense(512,activation='relu'))\n",
    "    model.add(layers.Dropout(0.15))\n",
    "    model.add(layers.Dense(4,activation='softmax'))\n",
    "    model.compile(optimizer='adam',loss='binary_crossentropy',metrics=['accuracy'])\n",
    "    return model"
   ]
  },
  {
   "cell_type": "code",
   "execution_count": 29,
   "metadata": {},
   "outputs": [
    {
     "name": "stdout",
     "output_type": "stream",
     "text": [
      "Train on 210 samples, validate on 1000 samples\n",
      "Epoch 1/150\n",
      "210/210 [==============================] - 0s 774us/step - loss: 0.6085 - accuracy: 0.7464 - val_loss: 0.3898 - val_accuracy: 0.8430\n",
      "Epoch 2/150\n",
      "210/210 [==============================] - 0s 85us/step - loss: 0.4098 - accuracy: 0.8298 - val_loss: 0.3676 - val_accuracy: 0.8500\n",
      "Epoch 3/150\n",
      "210/210 [==============================] - 0s 90us/step - loss: 0.3875 - accuracy: 0.8333 - val_loss: 0.3684 - val_accuracy: 0.8593\n",
      "Epoch 4/150\n",
      "210/210 [==============================] - 0s 85us/step - loss: 0.3694 - accuracy: 0.8512 - val_loss: 0.3741 - val_accuracy: 0.8540\n",
      "Epoch 5/150\n",
      "210/210 [==============================] - 0s 85us/step - loss: 0.3762 - accuracy: 0.8512 - val_loss: 0.3496 - val_accuracy: 0.8600\n",
      "Epoch 6/150\n",
      "210/210 [==============================] - 0s 81us/step - loss: 0.3690 - accuracy: 0.8393 - val_loss: 0.3386 - val_accuracy: 0.8655\n",
      "Epoch 7/150\n",
      "210/210 [==============================] - 0s 90us/step - loss: 0.3532 - accuracy: 0.8429 - val_loss: 0.3307 - val_accuracy: 0.8702\n",
      "Epoch 8/150\n",
      "210/210 [==============================] - 0s 85us/step - loss: 0.3446 - accuracy: 0.8631 - val_loss: 0.3187 - val_accuracy: 0.8730\n",
      "Epoch 9/150\n",
      "210/210 [==============================] - 0s 85us/step - loss: 0.3329 - accuracy: 0.8548 - val_loss: 0.2990 - val_accuracy: 0.8720\n",
      "Epoch 10/150\n",
      "210/210 [==============================] - 0s 81us/step - loss: 0.3240 - accuracy: 0.8583 - val_loss: 0.2865 - val_accuracy: 0.8740\n",
      "Epoch 11/150\n",
      "210/210 [==============================] - 0s 81us/step - loss: 0.2989 - accuracy: 0.8798 - val_loss: 0.2788 - val_accuracy: 0.8857\n",
      "Epoch 12/150\n",
      "210/210 [==============================] - 0s 95us/step - loss: 0.2899 - accuracy: 0.8798 - val_loss: 0.2766 - val_accuracy: 0.8857\n",
      "Epoch 13/150\n",
      "210/210 [==============================] - 0s 90us/step - loss: 0.2882 - accuracy: 0.8762 - val_loss: 0.2683 - val_accuracy: 0.8898\n",
      "Epoch 14/150\n",
      "210/210 [==============================] - 0s 81us/step - loss: 0.2857 - accuracy: 0.8679 - val_loss: 0.2578 - val_accuracy: 0.8907\n",
      "Epoch 15/150\n",
      "210/210 [==============================] - 0s 81us/step - loss: 0.2813 - accuracy: 0.8607 - val_loss: 0.2516 - val_accuracy: 0.8915\n",
      "Epoch 16/150\n",
      "210/210 [==============================] - 0s 85us/step - loss: 0.2732 - accuracy: 0.8786 - val_loss: 0.2479 - val_accuracy: 0.8923\n",
      "Epoch 17/150\n",
      "210/210 [==============================] - 0s 81us/step - loss: 0.2650 - accuracy: 0.8774 - val_loss: 0.2431 - val_accuracy: 0.8935\n",
      "Epoch 18/150\n",
      "210/210 [==============================] - 0s 81us/step - loss: 0.2666 - accuracy: 0.8821 - val_loss: 0.2385 - val_accuracy: 0.8960\n",
      "Epoch 19/150\n",
      "210/210 [==============================] - 0s 85us/step - loss: 0.2428 - accuracy: 0.8917 - val_loss: 0.2358 - val_accuracy: 0.8985\n",
      "Epoch 20/150\n",
      "210/210 [==============================] - 0s 81us/step - loss: 0.2603 - accuracy: 0.8786 - val_loss: 0.2324 - val_accuracy: 0.9007\n",
      "Epoch 21/150\n",
      "210/210 [==============================] - 0s 81us/step - loss: 0.2432 - accuracy: 0.8917 - val_loss: 0.2301 - val_accuracy: 0.9022\n",
      "Epoch 22/150\n",
      "210/210 [==============================] - 0s 81us/step - loss: 0.2343 - accuracy: 0.8952 - val_loss: 0.2294 - val_accuracy: 0.9040\n",
      "Epoch 23/150\n",
      "210/210 [==============================] - 0s 85us/step - loss: 0.2317 - accuracy: 0.9000 - val_loss: 0.2268 - val_accuracy: 0.9057\n",
      "Epoch 24/150\n",
      "210/210 [==============================] - 0s 85us/step - loss: 0.2358 - accuracy: 0.8881 - val_loss: 0.2232 - val_accuracy: 0.9068\n",
      "Epoch 25/150\n",
      "210/210 [==============================] - 0s 85us/step - loss: 0.2295 - accuracy: 0.8988 - val_loss: 0.2203 - val_accuracy: 0.9090\n",
      "Epoch 26/150\n",
      "210/210 [==============================] - 0s 90us/step - loss: 0.2391 - accuracy: 0.8798 - val_loss: 0.2159 - val_accuracy: 0.9078\n",
      "Epoch 27/150\n",
      "210/210 [==============================] - 0s 85us/step - loss: 0.2097 - accuracy: 0.9024 - val_loss: 0.2124 - val_accuracy: 0.9080\n",
      "Epoch 28/150\n",
      "210/210 [==============================] - 0s 85us/step - loss: 0.2348 - accuracy: 0.8917 - val_loss: 0.2088 - val_accuracy: 0.9087\n",
      "Epoch 29/150\n",
      "210/210 [==============================] - 0s 81us/step - loss: 0.2201 - accuracy: 0.8929 - val_loss: 0.2063 - val_accuracy: 0.9095\n",
      "Epoch 30/150\n",
      "210/210 [==============================] - 0s 81us/step - loss: 0.2157 - accuracy: 0.9012 - val_loss: 0.2028 - val_accuracy: 0.9112\n",
      "Epoch 31/150\n",
      "210/210 [==============================] - 0s 81us/step - loss: 0.2195 - accuracy: 0.8988 - val_loss: 0.2005 - val_accuracy: 0.9115\n",
      "Epoch 32/150\n",
      "210/210 [==============================] - 0s 85us/step - loss: 0.2141 - accuracy: 0.8940 - val_loss: 0.1987 - val_accuracy: 0.9103\n",
      "Epoch 33/150\n",
      "210/210 [==============================] - 0s 81us/step - loss: 0.2165 - accuracy: 0.8976 - val_loss: 0.1980 - val_accuracy: 0.9115\n",
      "Epoch 34/150\n",
      "210/210 [==============================] - 0s 81us/step - loss: 0.2087 - accuracy: 0.9048 - val_loss: 0.1950 - val_accuracy: 0.9115\n",
      "Epoch 35/150\n",
      "210/210 [==============================] - 0s 85us/step - loss: 0.2014 - accuracy: 0.8964 - val_loss: 0.1937 - val_accuracy: 0.9137\n",
      "Epoch 36/150\n",
      "210/210 [==============================] - 0s 85us/step - loss: 0.2044 - accuracy: 0.9036 - val_loss: 0.1884 - val_accuracy: 0.9147\n",
      "Epoch 37/150\n",
      "210/210 [==============================] - 0s 85us/step - loss: 0.1961 - accuracy: 0.9143 - val_loss: 0.1862 - val_accuracy: 0.9165\n",
      "Epoch 38/150\n",
      "210/210 [==============================] - 0s 81us/step - loss: 0.1912 - accuracy: 0.9155 - val_loss: 0.1840 - val_accuracy: 0.9190\n",
      "Epoch 39/150\n",
      "210/210 [==============================] - 0s 81us/step - loss: 0.1910 - accuracy: 0.9155 - val_loss: 0.1824 - val_accuracy: 0.9200\n",
      "Epoch 40/150\n",
      "210/210 [==============================] - 0s 81us/step - loss: 0.1956 - accuracy: 0.9107 - val_loss: 0.1781 - val_accuracy: 0.9220\n",
      "Epoch 41/150\n",
      "210/210 [==============================] - 0s 76us/step - loss: 0.1903 - accuracy: 0.9119 - val_loss: 0.1780 - val_accuracy: 0.9220\n",
      "Epoch 42/150\n",
      "210/210 [==============================] - 0s 81us/step - loss: 0.2039 - accuracy: 0.8917 - val_loss: 0.1749 - val_accuracy: 0.9260\n",
      "Epoch 43/150\n",
      "210/210 [==============================] - 0s 81us/step - loss: 0.1769 - accuracy: 0.9214 - val_loss: 0.1759 - val_accuracy: 0.9268\n",
      "Epoch 44/150\n",
      "210/210 [==============================] - 0s 81us/step - loss: 0.1608 - accuracy: 0.9214 - val_loss: 0.1744 - val_accuracy: 0.9273\n",
      "Epoch 45/150\n",
      "210/210 [==============================] - 0s 81us/step - loss: 0.1812 - accuracy: 0.9071 - val_loss: 0.1708 - val_accuracy: 0.9308\n",
      "Epoch 46/150\n",
      "210/210 [==============================] - 0s 85us/step - loss: 0.1707 - accuracy: 0.9190 - val_loss: 0.1705 - val_accuracy: 0.9293\n",
      "Epoch 47/150\n",
      "210/210 [==============================] - 0s 81us/step - loss: 0.1727 - accuracy: 0.9226 - val_loss: 0.1659 - val_accuracy: 0.9312\n",
      "Epoch 48/150\n",
      "210/210 [==============================] - 0s 81us/step - loss: 0.1724 - accuracy: 0.9226 - val_loss: 0.1710 - val_accuracy: 0.9295\n",
      "Epoch 49/150\n",
      "210/210 [==============================] - 0s 85us/step - loss: 0.1610 - accuracy: 0.9250 - val_loss: 0.1634 - val_accuracy: 0.9300\n",
      "Epoch 50/150\n",
      "210/210 [==============================] - 0s 81us/step - loss: 0.1558 - accuracy: 0.9202 - val_loss: 0.1612 - val_accuracy: 0.9285\n",
      "Epoch 51/150\n",
      "210/210 [==============================] - 0s 81us/step - loss: 0.1623 - accuracy: 0.9333 - val_loss: 0.1584 - val_accuracy: 0.9305\n",
      "Epoch 52/150\n",
      "210/210 [==============================] - 0s 81us/step - loss: 0.1477 - accuracy: 0.9298 - val_loss: 0.1618 - val_accuracy: 0.9340\n",
      "Epoch 53/150\n",
      "210/210 [==============================] - 0s 76us/step - loss: 0.1555 - accuracy: 0.9214 - val_loss: 0.1656 - val_accuracy: 0.9333\n",
      "Epoch 54/150\n",
      "210/210 [==============================] - 0s 81us/step - loss: 0.1578 - accuracy: 0.9262 - val_loss: 0.1573 - val_accuracy: 0.9312\n",
      "Epoch 55/150\n",
      "210/210 [==============================] - 0s 85us/step - loss: 0.1467 - accuracy: 0.9417 - val_loss: 0.1570 - val_accuracy: 0.9315\n",
      "Epoch 56/150\n",
      "210/210 [==============================] - 0s 81us/step - loss: 0.1431 - accuracy: 0.9405 - val_loss: 0.1576 - val_accuracy: 0.9325\n",
      "Epoch 57/150\n",
      "210/210 [==============================] - 0s 81us/step - loss: 0.1492 - accuracy: 0.9429 - val_loss: 0.1580 - val_accuracy: 0.9348\n",
      "Epoch 58/150\n",
      "210/210 [==============================] - 0s 81us/step - loss: 0.1507 - accuracy: 0.9369 - val_loss: 0.1558 - val_accuracy: 0.9350\n",
      "Epoch 59/150\n",
      "210/210 [==============================] - 0s 90us/step - loss: 0.1430 - accuracy: 0.9369 - val_loss: 0.1544 - val_accuracy: 0.9352\n",
      "Epoch 60/150\n",
      "210/210 [==============================] - 0s 81us/step - loss: 0.1418 - accuracy: 0.9321 - val_loss: 0.1535 - val_accuracy: 0.9340\n",
      "Epoch 61/150\n",
      "210/210 [==============================] - 0s 81us/step - loss: 0.1368 - accuracy: 0.9476 - val_loss: 0.1571 - val_accuracy: 0.9362\n",
      "Epoch 62/150\n",
      "210/210 [==============================] - 0s 81us/step - loss: 0.1429 - accuracy: 0.9286 - val_loss: 0.1530 - val_accuracy: 0.9352\n",
      "Epoch 63/150\n",
      "210/210 [==============================] - 0s 81us/step - loss: 0.1457 - accuracy: 0.9405 - val_loss: 0.1532 - val_accuracy: 0.9352\n",
      "Epoch 64/150\n",
      "210/210 [==============================] - 0s 81us/step - loss: 0.1351 - accuracy: 0.9321 - val_loss: 0.1530 - val_accuracy: 0.9333\n",
      "Epoch 65/150\n",
      "210/210 [==============================] - 0s 81us/step - loss: 0.1363 - accuracy: 0.9464 - val_loss: 0.1525 - val_accuracy: 0.9325\n",
      "Epoch 66/150\n",
      "210/210 [==============================] - 0s 76us/step - loss: 0.1342 - accuracy: 0.9357 - val_loss: 0.1552 - val_accuracy: 0.9350\n",
      "Epoch 67/150\n",
      "210/210 [==============================] - 0s 81us/step - loss: 0.1403 - accuracy: 0.9440 - val_loss: 0.1545 - val_accuracy: 0.9323\n",
      "Epoch 68/150\n",
      "210/210 [==============================] - 0s 81us/step - loss: 0.1364 - accuracy: 0.9393 - val_loss: 0.1575 - val_accuracy: 0.9350\n",
      "Epoch 69/150\n",
      "210/210 [==============================] - 0s 81us/step - loss: 0.1176 - accuracy: 0.9512 - val_loss: 0.1697 - val_accuracy: 0.9315\n",
      "Epoch 70/150\n",
      "210/210 [==============================] - 0s 81us/step - loss: 0.1327 - accuracy: 0.9500 - val_loss: 0.1561 - val_accuracy: 0.9330\n",
      "Epoch 71/150\n",
      "210/210 [==============================] - 0s 76us/step - loss: 0.1314 - accuracy: 0.9440 - val_loss: 0.1529 - val_accuracy: 0.9315\n",
      "Epoch 72/150\n",
      "210/210 [==============================] - 0s 76us/step - loss: 0.1153 - accuracy: 0.9619 - val_loss: 0.1507 - val_accuracy: 0.9358\n",
      "Epoch 73/150\n",
      "210/210 [==============================] - 0s 81us/step - loss: 0.1370 - accuracy: 0.9321 - val_loss: 0.1552 - val_accuracy: 0.9370\n",
      "Epoch 74/150\n",
      "210/210 [==============================] - 0s 81us/step - loss: 0.1095 - accuracy: 0.9607 - val_loss: 0.1563 - val_accuracy: 0.9367\n",
      "Epoch 75/150\n",
      "210/210 [==============================] - 0s 85us/step - loss: 0.1158 - accuracy: 0.9476 - val_loss: 0.1543 - val_accuracy: 0.9337\n",
      "Epoch 76/150\n",
      "210/210 [==============================] - 0s 81us/step - loss: 0.1252 - accuracy: 0.9393 - val_loss: 0.1546 - val_accuracy: 0.9290\n",
      "Epoch 77/150\n",
      "210/210 [==============================] - 0s 76us/step - loss: 0.1162 - accuracy: 0.9440 - val_loss: 0.1565 - val_accuracy: 0.9335\n",
      "Epoch 78/150\n",
      "210/210 [==============================] - 0s 81us/step - loss: 0.1177 - accuracy: 0.9631 - val_loss: 0.1741 - val_accuracy: 0.9325\n",
      "Epoch 79/150\n",
      "210/210 [==============================] - 0s 85us/step - loss: 0.1249 - accuracy: 0.9393 - val_loss: 0.1581 - val_accuracy: 0.9360\n",
      "Epoch 80/150\n",
      "210/210 [==============================] - 0s 81us/step - loss: 0.1206 - accuracy: 0.9583 - val_loss: 0.1524 - val_accuracy: 0.9312\n",
      "Epoch 81/150\n",
      "210/210 [==============================] - 0s 81us/step - loss: 0.1190 - accuracy: 0.9417 - val_loss: 0.1532 - val_accuracy: 0.9298\n",
      "Epoch 82/150\n",
      "210/210 [==============================] - 0s 81us/step - loss: 0.1210 - accuracy: 0.9500 - val_loss: 0.1580 - val_accuracy: 0.9335\n",
      "Epoch 83/150\n",
      "210/210 [==============================] - 0s 81us/step - loss: 0.1144 - accuracy: 0.9524 - val_loss: 0.1679 - val_accuracy: 0.9305\n",
      "Epoch 84/150\n",
      "210/210 [==============================] - 0s 81us/step - loss: 0.1142 - accuracy: 0.9619 - val_loss: 0.1586 - val_accuracy: 0.9293\n",
      "Epoch 85/150\n",
      "210/210 [==============================] - 0s 81us/step - loss: 0.1165 - accuracy: 0.9512 - val_loss: 0.1609 - val_accuracy: 0.9290\n",
      "Epoch 86/150\n",
      "210/210 [==============================] - 0s 76us/step - loss: 0.1250 - accuracy: 0.9429 - val_loss: 0.1538 - val_accuracy: 0.9330\n",
      "Epoch 87/150\n",
      "210/210 [==============================] - 0s 81us/step - loss: 0.1114 - accuracy: 0.9548 - val_loss: 0.1544 - val_accuracy: 0.9348\n",
      "Epoch 88/150\n",
      "210/210 [==============================] - 0s 81us/step - loss: 0.1046 - accuracy: 0.9536 - val_loss: 0.1619 - val_accuracy: 0.9348\n",
      "Epoch 89/150\n",
      "210/210 [==============================] - 0s 85us/step - loss: 0.1115 - accuracy: 0.9393 - val_loss: 0.1563 - val_accuracy: 0.9360\n",
      "Epoch 90/150\n",
      "210/210 [==============================] - 0s 81us/step - loss: 0.1103 - accuracy: 0.9536 - val_loss: 0.1504 - val_accuracy: 0.9383\n",
      "Epoch 91/150\n",
      "210/210 [==============================] - 0s 81us/step - loss: 0.1052 - accuracy: 0.9548 - val_loss: 0.1520 - val_accuracy: 0.9308\n",
      "Epoch 92/150\n",
      "210/210 [==============================] - 0s 76us/step - loss: 0.0967 - accuracy: 0.9607 - val_loss: 0.1553 - val_accuracy: 0.9355\n",
      "Epoch 93/150\n",
      "210/210 [==============================] - 0s 76us/step - loss: 0.0943 - accuracy: 0.9583 - val_loss: 0.1616 - val_accuracy: 0.9317\n",
      "Epoch 94/150\n",
      "210/210 [==============================] - 0s 81us/step - loss: 0.1020 - accuracy: 0.9643 - val_loss: 0.1573 - val_accuracy: 0.9302\n",
      "Epoch 95/150\n",
      "210/210 [==============================] - 0s 81us/step - loss: 0.0983 - accuracy: 0.9560 - val_loss: 0.1554 - val_accuracy: 0.9323\n",
      "Epoch 96/150\n",
      "210/210 [==============================] - 0s 81us/step - loss: 0.1079 - accuracy: 0.9500 - val_loss: 0.1542 - val_accuracy: 0.9337\n",
      "Epoch 97/150\n",
      "210/210 [==============================] - 0s 81us/step - loss: 0.0864 - accuracy: 0.9679 - val_loss: 0.1531 - val_accuracy: 0.9350\n",
      "Epoch 98/150\n",
      "210/210 [==============================] - 0s 76us/step - loss: 0.1054 - accuracy: 0.9524 - val_loss: 0.1537 - val_accuracy: 0.9365\n",
      "Epoch 99/150\n",
      "210/210 [==============================] - 0s 81us/step - loss: 0.0853 - accuracy: 0.9631 - val_loss: 0.1556 - val_accuracy: 0.9358\n",
      "Epoch 100/150\n",
      "210/210 [==============================] - 0s 81us/step - loss: 0.0948 - accuracy: 0.9619 - val_loss: 0.1532 - val_accuracy: 0.9355\n",
      "Epoch 101/150\n",
      "210/210 [==============================] - 0s 76us/step - loss: 0.0802 - accuracy: 0.9774 - val_loss: 0.1527 - val_accuracy: 0.9342\n",
      "Epoch 102/150\n",
      "210/210 [==============================] - 0s 81us/step - loss: 0.0953 - accuracy: 0.9583 - val_loss: 0.1535 - val_accuracy: 0.9345\n",
      "Epoch 103/150\n",
      "210/210 [==============================] - 0s 76us/step - loss: 0.0806 - accuracy: 0.9702 - val_loss: 0.1566 - val_accuracy: 0.9330\n",
      "Epoch 104/150\n",
      "210/210 [==============================] - 0s 81us/step - loss: 0.0862 - accuracy: 0.9619 - val_loss: 0.1564 - val_accuracy: 0.9330\n",
      "Epoch 105/150\n",
      "210/210 [==============================] - 0s 81us/step - loss: 0.0785 - accuracy: 0.9643 - val_loss: 0.1567 - val_accuracy: 0.9312\n",
      "Epoch 106/150\n",
      "210/210 [==============================] - 0s 81us/step - loss: 0.0922 - accuracy: 0.9667 - val_loss: 0.1557 - val_accuracy: 0.9335\n",
      "Epoch 107/150\n",
      "210/210 [==============================] - 0s 85us/step - loss: 0.0844 - accuracy: 0.9714 - val_loss: 0.1569 - val_accuracy: 0.9350\n",
      "Epoch 108/150\n",
      "210/210 [==============================] - 0s 81us/step - loss: 0.0888 - accuracy: 0.9631 - val_loss: 0.1576 - val_accuracy: 0.9367\n",
      "Epoch 109/150\n",
      "210/210 [==============================] - 0s 81us/step - loss: 0.0849 - accuracy: 0.9714 - val_loss: 0.1602 - val_accuracy: 0.9367\n",
      "Epoch 110/150\n",
      "210/210 [==============================] - 0s 81us/step - loss: 0.0868 - accuracy: 0.9548 - val_loss: 0.1566 - val_accuracy: 0.9388\n",
      "Epoch 111/150\n",
      "210/210 [==============================] - 0s 81us/step - loss: 0.0936 - accuracy: 0.9571 - val_loss: 0.1566 - val_accuracy: 0.9385\n",
      "Epoch 112/150\n",
      "210/210 [==============================] - 0s 81us/step - loss: 0.0736 - accuracy: 0.9679 - val_loss: 0.1590 - val_accuracy: 0.9352\n",
      "Epoch 113/150\n",
      "210/210 [==============================] - 0s 81us/step - loss: 0.0707 - accuracy: 0.9762 - val_loss: 0.1642 - val_accuracy: 0.9323\n",
      "Epoch 114/150\n",
      "210/210 [==============================] - 0s 81us/step - loss: 0.0801 - accuracy: 0.9631 - val_loss: 0.1723 - val_accuracy: 0.9337\n",
      "Epoch 115/150\n",
      "210/210 [==============================] - 0s 81us/step - loss: 0.0874 - accuracy: 0.9690 - val_loss: 0.1679 - val_accuracy: 0.9325\n",
      "Epoch 116/150\n",
      "210/210 [==============================] - 0s 81us/step - loss: 0.0830 - accuracy: 0.9643 - val_loss: 0.1650 - val_accuracy: 0.9335\n",
      "Epoch 117/150\n",
      "210/210 [==============================] - 0s 81us/step - loss: 0.0761 - accuracy: 0.9631 - val_loss: 0.1658 - val_accuracy: 0.9333\n",
      "Epoch 118/150\n",
      "210/210 [==============================] - 0s 76us/step - loss: 0.0824 - accuracy: 0.9655 - val_loss: 0.1650 - val_accuracy: 0.9350\n",
      "Epoch 119/150\n",
      "210/210 [==============================] - 0s 76us/step - loss: 0.0712 - accuracy: 0.9738 - val_loss: 0.1710 - val_accuracy: 0.9317\n",
      "Epoch 120/150\n",
      "210/210 [==============================] - 0s 81us/step - loss: 0.0909 - accuracy: 0.9607 - val_loss: 0.1654 - val_accuracy: 0.9327\n",
      "Epoch 121/150\n",
      "210/210 [==============================] - 0s 81us/step - loss: 0.0739 - accuracy: 0.9726 - val_loss: 0.1594 - val_accuracy: 0.9355\n",
      "Epoch 122/150\n",
      "210/210 [==============================] - 0s 81us/step - loss: 0.0815 - accuracy: 0.9631 - val_loss: 0.1578 - val_accuracy: 0.9388\n",
      "Epoch 123/150\n",
      "210/210 [==============================] - 0s 81us/step - loss: 0.0742 - accuracy: 0.9643 - val_loss: 0.1574 - val_accuracy: 0.9388\n",
      "Epoch 124/150\n",
      "210/210 [==============================] - 0s 81us/step - loss: 0.0669 - accuracy: 0.9750 - val_loss: 0.1577 - val_accuracy: 0.9388\n",
      "Epoch 125/150\n",
      "210/210 [==============================] - 0s 76us/step - loss: 0.0766 - accuracy: 0.9631 - val_loss: 0.1601 - val_accuracy: 0.9360\n",
      "Epoch 126/150\n",
      "210/210 [==============================] - 0s 81us/step - loss: 0.0699 - accuracy: 0.9821 - val_loss: 0.1675 - val_accuracy: 0.9315\n",
      "Epoch 127/150\n",
      "210/210 [==============================] - 0s 81us/step - loss: 0.0683 - accuracy: 0.9714 - val_loss: 0.1714 - val_accuracy: 0.9310\n",
      "Epoch 128/150\n",
      "210/210 [==============================] - 0s 81us/step - loss: 0.0684 - accuracy: 0.9726 - val_loss: 0.1689 - val_accuracy: 0.9345\n",
      "Epoch 129/150\n",
      "210/210 [==============================] - 0s 81us/step - loss: 0.0679 - accuracy: 0.9762 - val_loss: 0.1681 - val_accuracy: 0.9360\n",
      "Epoch 130/150\n",
      "210/210 [==============================] - 0s 81us/step - loss: 0.0546 - accuracy: 0.9833 - val_loss: 0.1714 - val_accuracy: 0.9345\n",
      "Epoch 131/150\n",
      "210/210 [==============================] - 0s 81us/step - loss: 0.0702 - accuracy: 0.9762 - val_loss: 0.1673 - val_accuracy: 0.9360\n",
      "Epoch 132/150\n",
      "210/210 [==============================] - 0s 81us/step - loss: 0.0667 - accuracy: 0.9726 - val_loss: 0.1633 - val_accuracy: 0.9380\n",
      "Epoch 133/150\n",
      "210/210 [==============================] - 0s 85us/step - loss: 0.0602 - accuracy: 0.9786 - val_loss: 0.1647 - val_accuracy: 0.9370\n",
      "Epoch 134/150\n",
      "210/210 [==============================] - 0s 81us/step - loss: 0.0620 - accuracy: 0.9726 - val_loss: 0.1760 - val_accuracy: 0.9355\n",
      "Epoch 135/150\n",
      "210/210 [==============================] - 0s 81us/step - loss: 0.0710 - accuracy: 0.9726 - val_loss: 0.1747 - val_accuracy: 0.9308\n",
      "Epoch 136/150\n",
      "210/210 [==============================] - 0s 81us/step - loss: 0.0629 - accuracy: 0.9845 - val_loss: 0.1757 - val_accuracy: 0.9302\n",
      "Epoch 137/150\n",
      "210/210 [==============================] - 0s 81us/step - loss: 0.0713 - accuracy: 0.9702 - val_loss: 0.1706 - val_accuracy: 0.9337\n",
      "Epoch 138/150\n",
      "210/210 [==============================] - 0s 85us/step - loss: 0.0651 - accuracy: 0.9726 - val_loss: 0.1661 - val_accuracy: 0.9355\n",
      "Epoch 139/150\n",
      "210/210 [==============================] - 0s 76us/step - loss: 0.0679 - accuracy: 0.9702 - val_loss: 0.1670 - val_accuracy: 0.9365\n",
      "Epoch 140/150\n",
      "210/210 [==============================] - 0s 85us/step - loss: 0.0730 - accuracy: 0.9631 - val_loss: 0.1650 - val_accuracy: 0.9385\n",
      "Epoch 141/150\n",
      "210/210 [==============================] - 0s 90us/step - loss: 0.0686 - accuracy: 0.9679 - val_loss: 0.1666 - val_accuracy: 0.9373\n",
      "Epoch 142/150\n",
      "210/210 [==============================] - 0s 90us/step - loss: 0.0663 - accuracy: 0.9690 - val_loss: 0.1785 - val_accuracy: 0.9302\n",
      "Epoch 143/150\n",
      "210/210 [==============================] - 0s 90us/step - loss: 0.0619 - accuracy: 0.9810 - val_loss: 0.1707 - val_accuracy: 0.9345\n",
      "Epoch 144/150\n",
      "210/210 [==============================] - 0s 90us/step - loss: 0.0597 - accuracy: 0.9726 - val_loss: 0.1835 - val_accuracy: 0.9350\n",
      "Epoch 145/150\n",
      "210/210 [==============================] - 0s 81us/step - loss: 0.0619 - accuracy: 0.9798 - val_loss: 0.1836 - val_accuracy: 0.9365\n",
      "Epoch 146/150\n",
      "210/210 [==============================] - 0s 81us/step - loss: 0.0505 - accuracy: 0.9821 - val_loss: 0.1719 - val_accuracy: 0.9355\n",
      "Epoch 147/150\n",
      "210/210 [==============================] - 0s 85us/step - loss: 0.0589 - accuracy: 0.9714 - val_loss: 0.1687 - val_accuracy: 0.9360\n",
      "Epoch 148/150\n",
      "210/210 [==============================] - 0s 76us/step - loss: 0.0522 - accuracy: 0.9845 - val_loss: 0.1719 - val_accuracy: 0.9362\n",
      "Epoch 149/150\n",
      "210/210 [==============================] - 0s 81us/step - loss: 0.0588 - accuracy: 0.9845 - val_loss: 0.1833 - val_accuracy: 0.9365\n",
      "Epoch 150/150\n",
      "210/210 [==============================] - 0s 81us/step - loss: 0.0672 - accuracy: 0.9738 - val_loss: 0.1771 - val_accuracy: 0.9390\n"
     ]
    }
   ],
   "source": [
    "model = build_model()\n",
    "history = model.fit(partial_x_train,partial_y_train,epochs = 150,batch_size = 512, validation_data = (x_val,y_val))\n",
    "#model.save(\"file1.h5\")"
   ]
  },
  {
   "cell_type": "code",
   "execution_count": 30,
   "metadata": {},
   "outputs": [
    {
     "data": {
      "image/png": "[encoded data removed]",
      "text/plain": [
       "<Figure size 432x288 with 1 Axes>"
      ]
     },
     "metadata": {
      "needs_background": "light"
     },
     "output_type": "display_data"
    }
   ],
   "source": [
    "import matplotlib.pyplot as plt\n",
    "loss = history.history['loss']\n",
    "val_loss = history.history['val_loss']\n",
    "epochs = range(1,len(loss) + 1)\n",
    "plt.plot(epochs,loss,label='Training loss')\n",
    "plt.plot(epochs,val_loss,label='Validation loss')\n",
    "plt.title('Training and validation loss')\n",
    "plt.xlabel('Epochs')\n",
    "plt.ylabel('Loss')\n",
    "plt.legend()\n",
    "plt.show()"
   ]
  },
  {
   "cell_type": "code",
   "execution_count": 31,
   "metadata": {},
   "outputs": [
    {
     "name": "stdout",
     "output_type": "stream",
     "text": [
      "518/518 [==============================] - 0s 27us/step\n",
      "[0.21079988462641894, 0.9324324131011963]\n"
     ]
    }
   ],
   "source": [
    "##### var = load_model(\"file.h5\")\n",
    "#result =var.evaluate(test,test_label)\n",
    "result =model.evaluate(test,Y_test)\n",
    "print(result)"
   ]
  },
  {
   "cell_type": "code",
   "execution_count": null,
   "metadata": {},
   "outputs": [],
   "source": []
  }
 ],
 "metadata": {
  "kernelspec": {
   "display_name": "Python 3",
   "language": "python",
   "name": "python3"
  },
  "language_info": {
   "codemirror_mode": {
    "name": "ipython",
    "version": 3
   },
   "file_extension": ".py",
   "mimetype": "text/x-python",
   "name": "python",
   "nbconvert_exporter": "python",
   "pygments_lexer": "ipython3",
   "version": "3.7.4"
  }
 },
 "nbformat": 4,
 "nbformat_minor": 2
}
