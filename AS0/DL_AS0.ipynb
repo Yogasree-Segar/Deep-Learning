{
 "cells": [
  {
   "cell_type": "code",
   "execution_count": 48,
   "metadata": {},
   "outputs": [],
   "source": [
    "import numpy "
   ]
  },
  {
   "cell_type": "markdown",
   "metadata": {},
   "source": [
    "# QA-1"
   ]
  },
  {
   "cell_type": "code",
   "execution_count": 49,
   "metadata": {},
   "outputs": [],
   "source": [
    "x= numpy.array([[1],[2],[3]])\n",
    "y=numpy.array([[4],[5],[6]])\n",
    "a=numpy.array([1,2,3])\n",
    "b=numpy.array([4,5,6])\n",
    "#print(numpy.subtract((numpy.multiply(2,x),y)))"
   ]
  },
  {
   "cell_type": "code",
   "execution_count": 50,
   "metadata": {},
   "outputs": [],
   "source": [
    "z=numpy.multiply(2,x)"
   ]
  },
  {
   "cell_type": "code",
   "execution_count": 51,
   "metadata": {},
   "outputs": [
    {
     "name": "stdout",
     "output_type": "stream",
     "text": [
      "[[-2]\n",
      " [-1]\n",
      " [ 0]]\n"
     ]
    }
   ],
   "source": [
    "print(numpy.subtract(z,y))"
   ]
  },
  {
   "cell_type": "markdown",
   "metadata": {},
   "source": [
    "# QA-2"
   ]
  },
  {
   "cell_type": "code",
   "execution_count": 52,
   "metadata": {},
   "outputs": [],
   "source": [
    "import numpy.linalg"
   ]
  },
  {
   "cell_type": "code",
   "execution_count": 53,
   "metadata": {},
   "outputs": [
    {
     "data": {
      "text/plain": [
       "3.7416573867739413"
      ]
     },
     "execution_count": 53,
     "metadata": {},
     "output_type": "execute_result"
    }
   ],
   "source": [
    "numpy.linalg.norm(x)"
   ]
  },
  {
   "cell_type": "markdown",
   "metadata": {},
   "source": [
    "# QA-3"
   ]
  },
  {
   "cell_type": "code",
   "execution_count": 54,
   "metadata": {},
   "outputs": [],
   "source": [
    "x_hat = x / numpy.linalg.norm(x)"
   ]
  },
  {
   "cell_type": "code",
   "execution_count": 55,
   "metadata": {},
   "outputs": [
    {
     "name": "stdout",
     "output_type": "stream",
     "text": [
      "[[0.26726124]\n",
      " [0.53452248]\n",
      " [0.80178373]]\n"
     ]
    }
   ],
   "source": [
    "print (x_hat)"
   ]
  },
  {
   "cell_type": "markdown",
   "metadata": {},
   "source": [
    "# QA-4"
   ]
  },
  {
   "cell_type": "code",
   "execution_count": 46,
   "metadata": {},
   "outputs": [
    {
     "name": "stdout",
     "output_type": "stream",
     "text": [
      "[[ 0.54030231]\n",
      " [-0.41614684]\n",
      " [-0.9899925 ]]\n"
     ]
    }
   ],
   "source": [
    "print(numpy.cos(x))"
   ]
  },
  {
   "cell_type": "markdown",
   "metadata": {},
   "source": [
    "# QA-5"
   ]
  },
  {
   "cell_type": "code",
   "execution_count": 47,
   "metadata": {},
   "outputs": [
    {
     "name": "stdout",
     "output_type": "stream",
     "text": [
      "32\n"
     ]
    }
   ],
   "source": [
    "print(numpy.dot(a,b))"
   ]
  },
  {
   "cell_type": "code",
   "execution_count": 39,
   "metadata": {},
   "outputs": [
    {
     "name": "stdout",
     "output_type": "stream",
     "text": [
      "32\n"
     ]
    }
   ],
   "source": [
    "print(numpy.dot(b,a))"
   ]
  },
  {
   "cell_type": "markdown",
   "metadata": {},
   "source": [
    "# QA-6"
   ]
  },
  {
   "cell_type": "code",
   "execution_count": 44,
   "metadata": {},
   "outputs": [
    {
     "name": "stdout",
     "output_type": "stream",
     "text": [
      "0.22572612855273394\n"
     ]
    }
   ],
   "source": [
    "cosang = numpy.dot(a, b)\n",
    "sinang = numpy.linalg.norm(numpy.cross(a, b))\n",
    "print(numpy.arctan2(sinang, cosang))"
   ]
  },
  {
   "cell_type": "markdown",
   "metadata": {},
   "source": [
    "# QA-7"
   ]
  },
  {
   "cell_type": "code",
   "execution_count": 57,
   "metadata": {},
   "outputs": [
    {
     "name": "stdout",
     "output_type": "stream",
     "text": [
      "[ 0  3 -2]\n"
     ]
    }
   ],
   "source": [
    "A=numpy.array([[1,0,0],[0,1,0],[0,0,1]])\n",
    "v=numpy.random.randint(0,2)\n",
    "print(numpy.cross(a,A[v]))"
   ]
  },
  {
   "cell_type": "markdown",
   "metadata": {},
   "source": [
    "# QA-8"
   ]
  },
  {
   "cell_type": "code",
   "execution_count": 58,
   "metadata": {},
   "outputs": [
    {
     "name": "stdout",
     "output_type": "stream",
     "text": [
      "[-3  6 -3]\n"
     ]
    }
   ],
   "source": [
    "print(numpy.cross(a,b))"
   ]
  },
  {
   "cell_type": "code",
   "execution_count": 59,
   "metadata": {},
   "outputs": [
    {
     "name": "stdout",
     "output_type": "stream",
     "text": [
      "[ 3 -6  3]\n"
     ]
    }
   ],
   "source": [
    "print(numpy.cross(b,a))"
   ]
  },
  {
   "cell_type": "markdown",
   "metadata": {},
   "source": [
    "# QA-9"
   ]
  },
  {
   "cell_type": "code",
   "execution_count": 60,
   "metadata": {},
   "outputs": [
    {
     "name": "stdout",
     "output_type": "stream",
     "text": [
      "[-3  6 -3]\n"
     ]
    }
   ],
   "source": [
    "print(numpy.cross(a,b))"
   ]
  },
  {
   "cell_type": "markdown",
   "metadata": {},
   "source": [
    "# QA-10"
   ]
  },
  {
   "cell_type": "code",
   "execution_count": 64,
   "metadata": {},
   "outputs": [
    {
     "name": "stdout",
     "output_type": "stream",
     "text": [
      "[-1  1  3]\n",
      "[-1  1  3]\n"
     ]
    }
   ],
   "source": [
    "c=numpy.array([-1,1,3])\n",
    "print(3*a-b)\n",
    "print(c)"
   ]
  },
  {
   "cell_type": "markdown",
   "metadata": {},
   "source": [
    "# QA-11"
   ]
  },
  {
   "cell_type": "code",
   "execution_count": 65,
   "metadata": {},
   "outputs": [
    {
     "name": "stdout",
     "output_type": "stream",
     "text": [
      "[ 4 10 18]\n",
      "[ 4 10 18]\n"
     ]
    }
   ],
   "source": [
    "Z=(a.T)\n",
    "Y=(b.T)\n",
    "print(Z*b)\n",
    "print(Y*a)"
   ]
  },
  {
   "cell_type": "markdown",
   "metadata": {},
   "source": [
    "# QB-1"
   ]
  },
  {
   "cell_type": "code",
   "execution_count": 66,
   "metadata": {},
   "outputs": [
    {
     "name": "stdout",
     "output_type": "stream",
     "text": [
      "[[ 1  2  5]\n",
      " [ 6 -5 10]\n",
      " [-3 12 -3]]\n"
     ]
    }
   ],
   "source": [
    "A1=numpy.array([[1,2,3],[4,-2,3],[0,5,-1]])\n",
    "B1=numpy.array([[1,2,1],[2,1,-4],[3,-2,1]])\n",
    "C1=numpy.array([[1,2,3],[4,5,6],[-1,1,3]])\n",
    "print((2*A1)-B1)"
   ]
  },
  {
   "cell_type": "markdown",
   "metadata": {},
   "source": [
    "# QB-2"
   ]
  },
  {
   "cell_type": "code",
   "execution_count": 67,
   "metadata": {},
   "outputs": [
    {
     "name": "stdout",
     "output_type": "stream",
     "text": [
      "[[ 14  -2  -4]\n",
      " [  9   0  15]\n",
      " [  7   7 -21]]\n"
     ]
    }
   ],
   "source": [
    "print(numpy.dot(A1,B1))"
   ]
  },
  {
   "cell_type": "code",
   "execution_count": 68,
   "metadata": {},
   "outputs": [
    {
     "name": "stdout",
     "output_type": "stream",
     "text": [
      "[[  9   3   8]\n",
      " [  6 -18  13]\n",
      " [ -5  15   2]]\n"
     ]
    }
   ],
   "source": [
    "print(numpy.dot(B1,A1))"
   ]
  },
  {
   "cell_type": "markdown",
   "metadata": {},
   "source": [
    "# QB-3"
   ]
  },
  {
   "cell_type": "code",
   "execution_count": 69,
   "metadata": {},
   "outputs": [
    {
     "name": "stdout",
     "output_type": "stream",
     "text": [
      "[[ 14   9   7]\n",
      " [ -2   0   7]\n",
      " [ -4  15 -21]]\n"
     ]
    }
   ],
   "source": [
    "AB_trans = numpy.dot(A1,B1)\n",
    "print(AB_trans.T)"
   ]
  },
  {
   "cell_type": "code",
   "execution_count": 74,
   "metadata": {},
   "outputs": [
    {
     "name": "stdout",
     "output_type": "stream",
     "text": [
      "[[ 14   9   7]\n",
      " [ -2   0   7]\n",
      " [ -4  15 -21]]\n"
     ]
    }
   ],
   "source": [
    "B_trans = B1.T\n",
    "A_trans = A1.T\n",
    "print(numpy.dot(B_trans, A_trans))"
   ]
  },
  {
   "cell_type": "markdown",
   "metadata": {},
   "source": [
    "# QB-4"
   ]
  },
  {
   "cell_type": "code",
   "execution_count": 76,
   "metadata": {},
   "outputs": [
    {
     "name": "stdout",
     "output_type": "stream",
     "text": [
      "54.999999999999964\n"
     ]
    }
   ],
   "source": [
    "print(numpy.linalg.det(A1))"
   ]
  },
  {
   "cell_type": "markdown",
   "metadata": {},
   "source": [
    "# QB-5"
   ]
  },
  {
   "cell_type": "code",
   "execution_count": 86,
   "metadata": {},
   "outputs": [
    {
     "name": "stdout",
     "output_type": "stream",
     "text": [
      "A doesnt form\n",
      "C doesnt form\n",
      "B forms orthogonal set\n"
     ]
    }
   ],
   "source": [
    "if((numpy.dot(A1[0],A1[1]) == 0) and (numpy.dot(A1[1],A1[2]) == 0) and (numpy.dot(A1[0],A1[2]) == 0)):\n",
    "       print(\"A forms orthogonal set\")\n",
    "else:\n",
    "    print(\"A doesnt form\")\n",
    "    \n",
    "if((numpy.dot(C1[0],C1[1]) == 0) and (numpy.dot(C1[1],C1[2]) == 0) and (numpy.dot(C1[0],C1[2]) == 0)):\n",
    "    print(\"C forms orthogonal set\")\n",
    "else:\n",
    "    print(\"C doesnt form\")\n",
    "\n",
    "if((numpy.dot(B1[0],B1[1]) == 0) and (numpy.dot(B1[1],B1[2]) == 0) and (numpy.dot(B1[0],B1[2]) == 0)): \n",
    "    print(\"B forms orthogonal set\")\n",
    "else:\n",
    "    print(\"B doesnt form\")"
   ]
  },
  {
   "cell_type": "markdown",
   "metadata": {},
   "source": [
    "# QB-6"
   ]
  },
  {
   "cell_type": "code",
   "execution_count": 77,
   "metadata": {},
   "outputs": [
    {
     "name": "stdout",
     "output_type": "stream",
     "text": [
      "7.494005416219837e-16\n"
     ]
    }
   ],
   "source": [
    "print(numpy.linalg.det(C1))"
   ]
  },
  {
   "cell_type": "code",
   "execution_count": 78,
   "metadata": {},
   "outputs": [
    {
     "name": "stdout",
     "output_type": "stream",
     "text": [
      "[[-0.23636364  0.30909091  0.21818182]\n",
      " [ 0.07272727 -0.01818182  0.16363636]\n",
      " [ 0.36363636 -0.09090909 -0.18181818]]\n"
     ]
    }
   ],
   "source": [
    "print(numpy.linalg.inv(A1))"
   ]
  },
  {
   "cell_type": "code",
   "execution_count": 79,
   "metadata": {},
   "outputs": [
    {
     "name": "stdout",
     "output_type": "stream",
     "text": [
      "[[ 0.16666667  0.0952381   0.21428571]\n",
      " [ 0.33333333  0.04761905 -0.14285714]\n",
      " [ 0.16666667 -0.19047619  0.07142857]]\n"
     ]
    }
   ],
   "source": [
    "print(numpy.linalg.inv(B1))"
   ]
  },
  {
   "cell_type": "markdown",
   "metadata": {},
   "source": [
    "# QC-1"
   ]
  },
  {
   "cell_type": "code",
   "execution_count": 88,
   "metadata": {},
   "outputs": [
    {
     "name": "stdout",
     "output_type": "stream",
     "text": [
      "[-1.  4.]\n",
      "[[-0.70710678 -0.5547002 ]\n",
      " [ 0.70710678 -0.83205029]]\n"
     ]
    }
   ],
   "source": [
    "A2=numpy.array([[1,2],[3,2]])\n",
    "B2=numpy.array([[2,-2],[-2,5]])\n",
    "eigen_values,eigen_vectors =numpy.linalg.eig(A2) \n",
    "print(eigen_values)\n",
    "print(eigen_vectors)"
   ]
  },
  {
   "cell_type": "markdown",
   "metadata": {},
   "source": [
    "# QC-2"
   ]
  },
  {
   "cell_type": "code",
   "execution_count": 90,
   "metadata": {},
   "outputs": [
    {
     "name": "stdout",
     "output_type": "stream",
     "text": [
      "[[-1.0000000e+00 -4.4408921e-16]\n",
      " [ 0.0000000e+00  4.0000000e+00]]\n"
     ]
    }
   ],
   "source": [
    "V_inv = numpy.linalg.inv(eigen_vectors)\n",
    "D=(numpy.dot(V_inv,A2))\n",
    "print(numpy.dot(D,eigen_vectors))"
   ]
  },
  {
   "cell_type": "code",
   "execution_count": 93,
   "metadata": {},
   "outputs": [
    {
     "name": "stdout",
     "output_type": "stream",
     "text": [
      "-0.038461538461538214\n"
     ]
    }
   ],
   "source": [
    "print(numpy.dot(eigen_vectors[0],eigen_vectors[1]))"
   ]
  },
  {
   "cell_type": "code",
   "execution_count": 94,
   "metadata": {},
   "outputs": [
    {
     "name": "stdout",
     "output_type": "stream",
     "text": [
      "0.0\n"
     ]
    }
   ],
   "source": [
    "eigenvalues,eigenvectors =numpy.linalg.eig(B2) \n",
    "print(numpy.dot(eigenvectors[0],eigenvectors[1]))"
   ]
  },
  {
   "cell_type": "code",
   "execution_count": 95,
   "metadata": {},
   "outputs": [
    {
     "name": "stdout",
     "output_type": "stream",
     "text": [
      "Property of Eigenvectors of B: When multiplied with B, they yield the Eigenvectors\n"
     ]
    }
   ],
   "source": [
    "print(\"Property of Eigenvectors of B: When multiplied with B, they yield the Eigenvectors\")"
   ]
  },
  {
   "cell_type": "code",
   "execution_count": null,
   "metadata": {},
   "outputs": [],
   "source": []
  }
 ],
 "metadata": {
  "kernelspec": {
   "display_name": "Python 3",
   "language": "python",
   "name": "python3"
  },
  "language_info": {
   "codemirror_mode": {
    "name": "ipython",
    "version": 3
   },
   "file_extension": ".py",
   "mimetype": "text/x-python",
   "name": "python",
   "nbconvert_exporter": "python",
   "pygments_lexer": "ipython3",
   "version": "3.7.4"
  }
 },
 "nbformat": 4,
 "nbformat_minor": 2
}
