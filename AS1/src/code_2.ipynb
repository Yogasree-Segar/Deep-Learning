{
 "cells": [
  {
   "cell_type": "code",
   "execution_count": 24,
   "metadata": {},
   "outputs": [],
   "source": [
    "from keras.models import load_model\n",
    "from sklearn import datasets\n",
    "import pandas as pd\n",
    "digits = pd.read_csv(\"spambase.data\", header=None)"
   ]
  },
  {
   "cell_type": "code",
   "execution_count": 25,
   "metadata": {},
   "outputs": [
    {
     "name": "stdout",
     "output_type": "stream",
     "text": [
      "        0     1     2    3     4     5     6     7     8     9   ...     48  \\\n",
      "0     0.00  0.64  0.64  0.0  0.32  0.00  0.00  0.00  0.00  0.00  ...  0.000   \n",
      "1     0.21  0.28  0.50  0.0  0.14  0.28  0.21  0.07  0.00  0.94  ...  0.000   \n",
      "2     0.06  0.00  0.71  0.0  1.23  0.19  0.19  0.12  0.64  0.25  ...  0.010   \n",
      "3     0.00  0.00  0.00  0.0  0.63  0.00  0.31  0.63  0.31  0.63  ...  0.000   \n",
      "4     0.00  0.00  0.00  0.0  0.63  0.00  0.31  0.63  0.31  0.63  ...  0.000   \n",
      "...    ...   ...   ...  ...   ...   ...   ...   ...   ...   ...  ...    ...   \n",
      "4596  0.31  0.00  0.62  0.0  0.00  0.31  0.00  0.00  0.00  0.00  ...  0.000   \n",
      "4597  0.00  0.00  0.00  0.0  0.00  0.00  0.00  0.00  0.00  0.00  ...  0.000   \n",
      "4598  0.30  0.00  0.30  0.0  0.00  0.00  0.00  0.00  0.00  0.00  ...  0.102   \n",
      "4599  0.96  0.00  0.00  0.0  0.32  0.00  0.00  0.00  0.00  0.00  ...  0.000   \n",
      "4600  0.00  0.00  0.65  0.0  0.00  0.00  0.00  0.00  0.00  0.00  ...  0.000   \n",
      "\n",
      "         49   50     51     52     53     54   55    56  57  \n",
      "0     0.000  0.0  0.778  0.000  0.000  3.756   61   278   1  \n",
      "1     0.132  0.0  0.372  0.180  0.048  5.114  101  1028   1  \n",
      "2     0.143  0.0  0.276  0.184  0.010  9.821  485  2259   1  \n",
      "3     0.137  0.0  0.137  0.000  0.000  3.537   40   191   1  \n",
      "4     0.135  0.0  0.135  0.000  0.000  3.537   40   191   1  \n",
      "...     ...  ...    ...    ...    ...    ...  ...   ...  ..  \n",
      "4596  0.232  0.0  0.000  0.000  0.000  1.142    3    88   0  \n",
      "4597  0.000  0.0  0.353  0.000  0.000  1.555    4    14   0  \n",
      "4598  0.718  0.0  0.000  0.000  0.000  1.404    6   118   0  \n",
      "4599  0.057  0.0  0.000  0.000  0.000  1.147    5    78   0  \n",
      "4600  0.000  0.0  0.125  0.000  0.000  1.250    5    40   0  \n",
      "\n",
      "[4601 rows x 58 columns]\n"
     ]
    }
   ],
   "source": [
    "print(digits)"
   ]
  },
  {
   "cell_type": "code",
   "execution_count": 26,
   "metadata": {},
   "outputs": [],
   "source": [
    "digits.rename(columns = {57:'label'}, inplace=True)"
   ]
  },
  {
   "cell_type": "code",
   "execution_count": 27,
   "metadata": {},
   "outputs": [
    {
     "name": "stdout",
     "output_type": "stream",
     "text": [
      "         0     1     2    3     4     5     6     7     8     9  ...     48  \\\n",
      "0     0.00  0.64  0.64  0.0  0.32  0.00  0.00  0.00  0.00  0.00  ...  0.000   \n",
      "1     0.21  0.28  0.50  0.0  0.14  0.28  0.21  0.07  0.00  0.94  ...  0.000   \n",
      "2     0.06  0.00  0.71  0.0  1.23  0.19  0.19  0.12  0.64  0.25  ...  0.010   \n",
      "3     0.00  0.00  0.00  0.0  0.63  0.00  0.31  0.63  0.31  0.63  ...  0.000   \n",
      "4     0.00  0.00  0.00  0.0  0.63  0.00  0.31  0.63  0.31  0.63  ...  0.000   \n",
      "...    ...   ...   ...  ...   ...   ...   ...   ...   ...   ...  ...    ...   \n",
      "4596  0.31  0.00  0.62  0.0  0.00  0.31  0.00  0.00  0.00  0.00  ...  0.000   \n",
      "4597  0.00  0.00  0.00  0.0  0.00  0.00  0.00  0.00  0.00  0.00  ...  0.000   \n",
      "4598  0.30  0.00  0.30  0.0  0.00  0.00  0.00  0.00  0.00  0.00  ...  0.102   \n",
      "4599  0.96  0.00  0.00  0.0  0.32  0.00  0.00  0.00  0.00  0.00  ...  0.000   \n",
      "4600  0.00  0.00  0.65  0.0  0.00  0.00  0.00  0.00  0.00  0.00  ...  0.000   \n",
      "\n",
      "         49   50     51     52     53     54   55    56  label  \n",
      "0     0.000  0.0  0.778  0.000  0.000  3.756   61   278      1  \n",
      "1     0.132  0.0  0.372  0.180  0.048  5.114  101  1028      1  \n",
      "2     0.143  0.0  0.276  0.184  0.010  9.821  485  2259      1  \n",
      "3     0.137  0.0  0.137  0.000  0.000  3.537   40   191      1  \n",
      "4     0.135  0.0  0.135  0.000  0.000  3.537   40   191      1  \n",
      "...     ...  ...    ...    ...    ...    ...  ...   ...    ...  \n",
      "4596  0.232  0.0  0.000  0.000  0.000  1.142    3    88      0  \n",
      "4597  0.000  0.0  0.353  0.000  0.000  1.555    4    14      0  \n",
      "4598  0.718  0.0  0.000  0.000  0.000  1.404    6   118      0  \n",
      "4599  0.057  0.0  0.000  0.000  0.000  1.147    5    78      0  \n",
      "4600  0.000  0.0  0.125  0.000  0.000  1.250    5    40      0  \n",
      "\n",
      "[4601 rows x 58 columns]\n"
     ]
    }
   ],
   "source": [
    "print(digits)"
   ]
  },
  {
   "cell_type": "code",
   "execution_count": 28,
   "metadata": {},
   "outputs": [
    {
     "name": "stdout",
     "output_type": "stream",
     "text": [
      "      label\n",
      "0         1\n",
      "1         1\n",
      "2         1\n",
      "3         1\n",
      "4         1\n",
      "...     ...\n",
      "4596      0\n",
      "4597      0\n",
      "4598      0\n",
      "4599      0\n",
      "4600      0\n",
      "\n",
      "[4601 rows x 1 columns]\n"
     ]
    }
   ],
   "source": [
    "print(digits[['label']])"
   ]
  },
  {
   "cell_type": "code",
   "execution_count": 29,
   "metadata": {},
   "outputs": [],
   "source": [
    "from numpy.random import RandomState\n",
    "\n",
    "rng = RandomState()\n",
    "\n",
    "train = digits.sample(frac=0.7, random_state=rng)\n",
    "test = digits.loc[~digits.index.isin(train.index)]"
   ]
  },
  {
   "cell_type": "code",
   "execution_count": 30,
   "metadata": {},
   "outputs": [
    {
     "name": "stdout",
     "output_type": "stream",
     "text": [
      "         0     1     2    3     4    5     6     7     8    9  ...   48  \\\n",
      "170   0.52  0.00  2.38  0.0  0.26  0.0  0.26  0.00  0.52  0.0  ...  0.0   \n",
      "3661  0.00  0.00  0.00  0.0  0.00  0.0  0.00  0.00  0.00  0.0  ...  0.0   \n",
      "4532  0.00  0.00  0.00  0.0  0.00  0.0  0.00  0.00  0.00  0.0  ...  0.0   \n",
      "4549  0.00  0.00  0.00  0.0  0.00  0.8  0.00  0.00  0.80  0.0  ...  0.0   \n",
      "654   0.33  0.00  0.33  0.0  0.00  0.0  0.66  0.00  0.00  0.0  ...  0.0   \n",
      "...    ...   ...   ...  ...   ...  ...   ...   ...   ...  ...  ...  ...   \n",
      "3611  0.00  0.00  0.00  0.0  0.00  0.0  0.00  0.00  0.00  0.0  ...  0.0   \n",
      "998   0.00  0.00  0.00  0.0  0.00  0.0  0.00  0.00  0.00  0.0  ...  0.0   \n",
      "4543  0.00  0.00  0.00  0.0  0.00  0.0  0.00  0.00  0.00  0.0  ...  0.0   \n",
      "548   0.26  1.07  0.00  0.0  1.61  0.0  1.07  0.26  0.26  0.0  ...  0.0   \n",
      "1890  0.00  0.00  0.00  0.0  0.00  0.0  0.00  0.00  0.00  0.0  ...  0.0   \n",
      "\n",
      "         49   50     51     52     53     54  55   56  label  \n",
      "170   0.656  0.0  0.310  0.000  0.000  5.549  71  566      1  \n",
      "3661  0.000  0.0  0.000  0.000  0.000  1.000   1    5      0  \n",
      "4532  0.000  0.0  0.000  0.000  0.000  1.611   5   29      0  \n",
      "4549  0.294  0.0  0.000  0.000  0.000  1.166   2   14      0  \n",
      "654   0.116  0.0  0.406  0.464  0.348  6.932  43  513      1  \n",
      "...     ...  ...    ...    ...    ...    ...  ..  ...    ...  \n",
      "3611  0.000  0.0  0.000  0.000  0.000  1.500   3    6      0  \n",
      "998   0.000  0.0  0.236  0.000  0.000  7.181  41   79      1  \n",
      "4543  0.000  0.0  0.000  0.000  0.000  1.666   3   10      0  \n",
      "548   0.092  0.0  0.324  0.000  0.000  7.369  52  339      1  \n",
      "1890  0.000  0.0  0.000  0.000  0.000  1.416   6   68      0  \n",
      "\n",
      "[3221 rows x 58 columns]\n",
      "      label\n",
      "170       1\n",
      "3661      0\n",
      "4532      0\n",
      "4549      0\n",
      "654       1\n",
      "...     ...\n",
      "3611      0\n",
      "998       1\n",
      "4543      0\n",
      "548       1\n",
      "1890      0\n",
      "\n",
      "[3221 rows x 1 columns]\n"
     ]
    }
   ],
   "source": [
    "print(train)\n",
    "print(train[['label']])"
   ]
  },
  {
   "cell_type": "code",
   "execution_count": 31,
   "metadata": {},
   "outputs": [
    {
     "name": "stdout",
     "output_type": "stream",
     "text": [
      "         0    1     2    3     4     5     6     7     8     9  ...    48  \\\n",
      "2     0.06  0.0  0.71  0.0  1.23  0.19  0.19  0.12  0.64  0.25  ...  0.01   \n",
      "6     0.00  0.0  0.00  0.0  1.92  0.00  0.00  0.00  0.00  0.64  ...  0.00   \n",
      "7     0.00  0.0  0.00  0.0  1.88  0.00  0.00  1.88  0.00  0.00  ...  0.00   \n",
      "13    0.00  0.0  0.00  0.0  0.90  0.00  0.90  0.00  0.00  0.90  ...  0.00   \n",
      "14    0.00  0.0  1.42  0.0  0.71  0.35  0.00  0.35  0.00  0.71  ...  0.00   \n",
      "...    ...  ...   ...  ...   ...   ...   ...   ...   ...   ...  ...   ...   \n",
      "4583  0.00  0.0  1.23  0.0  0.00  0.00  0.00  0.00  0.00  0.00  ...  0.00   \n",
      "4587  0.00  0.0  0.00  0.0  0.00  0.00  0.00  0.00  0.00  0.00  ...  0.00   \n",
      "4590  0.00  0.0  0.00  0.0  0.00  0.00  0.00  0.00  0.00  0.00  ...  0.00   \n",
      "4592  0.00  0.0  1.25  0.0  2.50  0.00  0.00  0.00  0.00  0.00  ...  0.00   \n",
      "4596  0.31  0.0  0.62  0.0  0.00  0.31  0.00  0.00  0.00  0.00  ...  0.00   \n",
      "\n",
      "         49     50     51     52     53     54   55    56  label  \n",
      "2     0.143  0.000  0.276  0.184  0.010  9.821  485  2259      1  \n",
      "6     0.054  0.000  0.164  0.054  0.000  1.671    4   112      1  \n",
      "7     0.206  0.000  0.000  0.000  0.000  2.450   11    49      1  \n",
      "13    0.000  0.000  0.000  0.000  0.000  2.083    7    25      1  \n",
      "14    0.102  0.000  0.357  0.000  0.000  1.971   24   205      1  \n",
      "...     ...    ...    ...    ...    ...    ...  ...   ...    ...  \n",
      "4583  0.000  0.406  0.000  0.000  0.000  1.666   13    70      0  \n",
      "4587  0.125  0.000  0.000  0.125  0.000  1.272    4    28      0  \n",
      "4590  0.185  0.000  0.000  0.000  0.092  2.468   11    79      0  \n",
      "4592  0.111  0.000  0.000  0.000  0.000  1.285    4    27      0  \n",
      "4596  0.232  0.000  0.000  0.000  0.000  1.142    3    88      0  \n",
      "\n",
      "[1380 rows x 58 columns]\n"
     ]
    }
   ],
   "source": [
    "print(test)"
   ]
  },
  {
   "cell_type": "code",
   "execution_count": 32,
   "metadata": {},
   "outputs": [],
   "source": [
    "train_label = train.iloc[:,-1]\n",
    "test_label = test.iloc[:,-1]"
   ]
  },
  {
   "cell_type": "code",
   "execution_count": 33,
   "metadata": {},
   "outputs": [],
   "source": [
    "train = train.drop(['label'], axis=1)\n",
    "\n",
    "test = test.drop(['label'], axis=1)"
   ]
  },
  {
   "cell_type": "code",
   "execution_count": 34,
   "metadata": {},
   "outputs": [
    {
     "name": "stdout",
     "output_type": "stream",
     "text": [
      "        0     1     2    3     4    5     6     7     8    9   ...   47   48  \\\n",
      "170   0.52  0.00  2.38  0.0  0.26  0.0  0.26  0.00  0.52  0.0  ...  0.0  0.0   \n",
      "3661  0.00  0.00  0.00  0.0  0.00  0.0  0.00  0.00  0.00  0.0  ...  0.0  0.0   \n",
      "4532  0.00  0.00  0.00  0.0  0.00  0.0  0.00  0.00  0.00  0.0  ...  0.0  0.0   \n",
      "4549  0.00  0.00  0.00  0.0  0.00  0.8  0.00  0.00  0.80  0.0  ...  0.0  0.0   \n",
      "654   0.33  0.00  0.33  0.0  0.00  0.0  0.66  0.00  0.00  0.0  ...  0.0  0.0   \n",
      "...    ...   ...   ...  ...   ...  ...   ...   ...   ...  ...  ...  ...  ...   \n",
      "3611  0.00  0.00  0.00  0.0  0.00  0.0  0.00  0.00  0.00  0.0  ...  0.0  0.0   \n",
      "998   0.00  0.00  0.00  0.0  0.00  0.0  0.00  0.00  0.00  0.0  ...  0.0  0.0   \n",
      "4543  0.00  0.00  0.00  0.0  0.00  0.0  0.00  0.00  0.00  0.0  ...  0.0  0.0   \n",
      "548   0.26  1.07  0.00  0.0  1.61  0.0  1.07  0.26  0.26  0.0  ...  0.0  0.0   \n",
      "1890  0.00  0.00  0.00  0.0  0.00  0.0  0.00  0.00  0.00  0.0  ...  0.0  0.0   \n",
      "\n",
      "         49   50     51     52     53     54  55   56  \n",
      "170   0.656  0.0  0.310  0.000  0.000  5.549  71  566  \n",
      "3661  0.000  0.0  0.000  0.000  0.000  1.000   1    5  \n",
      "4532  0.000  0.0  0.000  0.000  0.000  1.611   5   29  \n",
      "4549  0.294  0.0  0.000  0.000  0.000  1.166   2   14  \n",
      "654   0.116  0.0  0.406  0.464  0.348  6.932  43  513  \n",
      "...     ...  ...    ...    ...    ...    ...  ..  ...  \n",
      "3611  0.000  0.0  0.000  0.000  0.000  1.500   3    6  \n",
      "998   0.000  0.0  0.236  0.000  0.000  7.181  41   79  \n",
      "4543  0.000  0.0  0.000  0.000  0.000  1.666   3   10  \n",
      "548   0.092  0.0  0.324  0.000  0.000  7.369  52  339  \n",
      "1890  0.000  0.0  0.000  0.000  0.000  1.416   6   68  \n",
      "\n",
      "[3221 rows x 57 columns]\n"
     ]
    }
   ],
   "source": [
    "print(train)"
   ]
  },
  {
   "cell_type": "code",
   "execution_count": 35,
   "metadata": {},
   "outputs": [
    {
     "name": "stdout",
     "output_type": "stream",
     "text": [
      "        0    1     2    3     4     5     6     7     8     9   ...   47  \\\n",
      "2     0.06  0.0  0.71  0.0  1.23  0.19  0.19  0.12  0.64  0.25  ...  0.0   \n",
      "6     0.00  0.0  0.00  0.0  1.92  0.00  0.00  0.00  0.00  0.64  ...  0.0   \n",
      "7     0.00  0.0  0.00  0.0  1.88  0.00  0.00  1.88  0.00  0.00  ...  0.0   \n",
      "13    0.00  0.0  0.00  0.0  0.90  0.00  0.90  0.00  0.00  0.90  ...  0.0   \n",
      "14    0.00  0.0  1.42  0.0  0.71  0.35  0.00  0.35  0.00  0.71  ...  0.0   \n",
      "...    ...  ...   ...  ...   ...   ...   ...   ...   ...   ...  ...  ...   \n",
      "4583  0.00  0.0  1.23  0.0  0.00  0.00  0.00  0.00  0.00  0.00  ...  0.0   \n",
      "4587  0.00  0.0  0.00  0.0  0.00  0.00  0.00  0.00  0.00  0.00  ...  0.0   \n",
      "4590  0.00  0.0  0.00  0.0  0.00  0.00  0.00  0.00  0.00  0.00  ...  0.0   \n",
      "4592  0.00  0.0  1.25  0.0  2.50  0.00  0.00  0.00  0.00  0.00  ...  0.0   \n",
      "4596  0.31  0.0  0.62  0.0  0.00  0.31  0.00  0.00  0.00  0.00  ...  0.0   \n",
      "\n",
      "        48     49     50     51     52     53     54   55    56  \n",
      "2     0.01  0.143  0.000  0.276  0.184  0.010  9.821  485  2259  \n",
      "6     0.00  0.054  0.000  0.164  0.054  0.000  1.671    4   112  \n",
      "7     0.00  0.206  0.000  0.000  0.000  0.000  2.450   11    49  \n",
      "13    0.00  0.000  0.000  0.000  0.000  0.000  2.083    7    25  \n",
      "14    0.00  0.102  0.000  0.357  0.000  0.000  1.971   24   205  \n",
      "...    ...    ...    ...    ...    ...    ...    ...  ...   ...  \n",
      "4583  0.00  0.000  0.406  0.000  0.000  0.000  1.666   13    70  \n",
      "4587  0.00  0.125  0.000  0.000  0.125  0.000  1.272    4    28  \n",
      "4590  0.00  0.185  0.000  0.000  0.000  0.092  2.468   11    79  \n",
      "4592  0.00  0.111  0.000  0.000  0.000  0.000  1.285    4    27  \n",
      "4596  0.00  0.232  0.000  0.000  0.000  0.000  1.142    3    88  \n",
      "\n",
      "[1380 rows x 57 columns]\n"
     ]
    }
   ],
   "source": [
    "print(test)"
   ]
  },
  {
   "cell_type": "code",
   "execution_count": 36,
   "metadata": {},
   "outputs": [
    {
     "name": "stdout",
     "output_type": "stream",
     "text": [
      "170     1\n",
      "3661    0\n",
      "4532    0\n",
      "4549    0\n",
      "654     1\n",
      "       ..\n",
      "3611    0\n",
      "998     1\n",
      "4543    0\n",
      "548     1\n",
      "1890    0\n",
      "Name: label, Length: 3221, dtype: int64\n",
      "2       1\n",
      "6       1\n",
      "7       1\n",
      "13      1\n",
      "14      1\n",
      "       ..\n",
      "4583    0\n",
      "4587    0\n",
      "4590    0\n",
      "4592    0\n",
      "4596    0\n",
      "Name: label, Length: 1380, dtype: int64\n"
     ]
    }
   ],
   "source": [
    "print(train_label)\n",
    "print(test_label)"
   ]
  },
  {
   "cell_type": "code",
   "execution_count": 37,
   "metadata": {},
   "outputs": [],
   "source": [
    "mean = train.mean(axis = 0)\n",
    "train -= mean\n",
    "std = train.std(axis = 0)\n",
    "train/= std\n",
    "test -=mean\n",
    "test/=std"
   ]
  },
  {
   "cell_type": "code",
   "execution_count": 38,
   "metadata": {},
   "outputs": [],
   "source": [
    "x_val = train[:1000]\n",
    "partial_x_train = train[1000:]\n",
    "y_val = train_label[:1000]\n",
    "partial_y_train = train_label[1000:]"
   ]
  },
  {
   "cell_type": "code",
   "execution_count": 39,
   "metadata": {},
   "outputs": [
    {
     "name": "stdout",
     "output_type": "stream",
     "text": [
      "(2221, 57)\n"
     ]
    }
   ],
   "source": [
    "print(partial_x_train.shape)"
   ]
  },
  {
   "cell_type": "code",
   "execution_count": 40,
   "metadata": {},
   "outputs": [],
   "source": [
    "from keras import models\n",
    "from keras import layers\n",
    "model = models.Sequential()\n",
    "model.add(layers.Dense(16, activation = 'relu',input_shape=(57,)))\n",
    "model.add(layers.Dense(16, activation = 'relu'))\n",
    "model.add(layers.Dense(1, activation = 'sigmoid'))"
   ]
  },
  {
   "cell_type": "code",
   "execution_count": 41,
   "metadata": {},
   "outputs": [],
   "source": [
    "model.compile(optimizer = 'rmsprop',loss = 'binary_crossentropy',metrics = ['accuracy'])"
   ]
  },
  {
   "cell_type": "code",
   "execution_count": 42,
   "metadata": {},
   "outputs": [
    {
     "name": "stdout",
     "output_type": "stream",
     "text": [
      "Train on 2221 samples, validate on 1000 samples\n",
      "Epoch 1/20\n",
      "2221/2221 [==============================] - 1s 290us/step - loss: 0.6584 - accuracy: 0.6276 - val_loss: 0.6194 - val_accuracy: 0.7410\n",
      "Epoch 2/20\n",
      "2221/2221 [==============================] - 0s 22us/step - loss: 0.6013 - accuracy: 0.7528 - val_loss: 0.5766 - val_accuracy: 0.7870\n",
      "Epoch 3/20\n",
      "2221/2221 [==============================] - 0s 22us/step - loss: 0.5629 - accuracy: 0.7969 - val_loss: 0.5415 - val_accuracy: 0.8200\n",
      "Epoch 4/20\n",
      "2221/2221 [==============================] - 0s 20us/step - loss: 0.5299 - accuracy: 0.8222 - val_loss: 0.5114 - val_accuracy: 0.8440\n",
      "Epoch 5/20\n",
      "2221/2221 [==============================] - 0s 24us/step - loss: 0.5011 - accuracy: 0.8361 - val_loss: 0.4828 - val_accuracy: 0.8600\n",
      "Epoch 6/20\n",
      "2221/2221 [==============================] - 0s 23us/step - loss: 0.4735 - accuracy: 0.8465 - val_loss: 0.4570 - val_accuracy: 0.8670\n",
      "Epoch 7/20\n",
      "2221/2221 [==============================] - 0s 22us/step - loss: 0.4487 - accuracy: 0.8582 - val_loss: 0.4342 - val_accuracy: 0.8660\n",
      "Epoch 8/20\n",
      "2221/2221 [==============================] - 0s 20us/step - loss: 0.4261 - accuracy: 0.8649 - val_loss: 0.4120 - val_accuracy: 0.8760\n",
      "Epoch 9/20\n",
      "2221/2221 [==============================] - 0s 31us/step - loss: 0.4046 - accuracy: 0.8712 - val_loss: 0.3921 - val_accuracy: 0.8760\n",
      "Epoch 10/20\n",
      "2221/2221 [==============================] - 0s 17us/step - loss: 0.3852 - accuracy: 0.8735 - val_loss: 0.3738 - val_accuracy: 0.8820\n",
      "Epoch 11/20\n",
      "2221/2221 [==============================] - 0s 23us/step - loss: 0.3673 - accuracy: 0.8766 - val_loss: 0.3566 - val_accuracy: 0.8860\n",
      "Epoch 12/20\n",
      "2221/2221 [==============================] - 0s 21us/step - loss: 0.3506 - accuracy: 0.8816 - val_loss: 0.3413 - val_accuracy: 0.8930\n",
      "Epoch 13/20\n",
      "2221/2221 [==============================] - 0s 21us/step - loss: 0.3356 - accuracy: 0.8847 - val_loss: 0.3265 - val_accuracy: 0.8970\n",
      "Epoch 14/20\n",
      "2221/2221 [==============================] - 0s 18us/step - loss: 0.3216 - accuracy: 0.8915 - val_loss: 0.3141 - val_accuracy: 0.9030\n",
      "Epoch 15/20\n",
      "2221/2221 [==============================] - 0s 24us/step - loss: 0.3094 - accuracy: 0.8960 - val_loss: 0.3021 - val_accuracy: 0.9050\n",
      "Epoch 16/20\n",
      "2221/2221 [==============================] - 0s 24us/step - loss: 0.2978 - accuracy: 0.9005 - val_loss: 0.2918 - val_accuracy: 0.9080\n",
      "Epoch 17/20\n",
      "2221/2221 [==============================] - 0s 22us/step - loss: 0.2877 - accuracy: 0.9032 - val_loss: 0.2818 - val_accuracy: 0.9100\n",
      "Epoch 18/20\n",
      "2221/2221 [==============================] - 0s 24us/step - loss: 0.2781 - accuracy: 0.9068 - val_loss: 0.2731 - val_accuracy: 0.9110\n",
      "Epoch 19/20\n",
      "2221/2221 [==============================] - 0s 22us/step - loss: 0.2692 - accuracy: 0.9086 - val_loss: 0.2656 - val_accuracy: 0.9110\n",
      "Epoch 20/20\n",
      "2221/2221 [==============================] - 0s 20us/step - loss: 0.2614 - accuracy: 0.9086 - val_loss: 0.2584 - val_accuracy: 0.9130\n"
     ]
    }
   ],
   "source": [
    "history = model.fit(partial_x_train,partial_y_train,epochs = 20,batch_size = 512, validation_data = (x_val,y_val))\n",
    "model.save(\"file1.h5\")"
   ]
  },
  {
   "cell_type": "code",
   "execution_count": 43,
   "metadata": {},
   "outputs": [
    {
     "data": {
      "image/png": "[encoded data removed]",
      "text/plain": [
       "<Figure size 432x288 with 1 Axes>"
      ]
     },
     "metadata": {
      "needs_background": "light"
     },
     "output_type": "display_data"
    }
   ],
   "source": [
    "import matplotlib.pyplot as plt\n",
    "loss = history.history['loss']\n",
    "val_loss = history.history['val_loss']\n",
    "epochs = range(1,len(loss) + 1)\n",
    "plt.plot(epochs,loss,label='Training loss')\n",
    "plt.plot(epochs,val_loss,label='Validation loss')\n",
    "plt.title('Training and validation loss')\n",
    "plt.xlabel('Epochs')\n",
    "plt.ylabel('Loss')\n",
    "plt.legend()\n",
    "plt.show()"
   ]
  },
  {
   "cell_type": "code",
   "execution_count": 44,
   "metadata": {},
   "outputs": [
    {
     "data": {
      "image/png": "[encoded data removed]",
      "text/plain": [
       "<Figure size 432x288 with 1 Axes>"
      ]
     },
     "metadata": {
      "needs_background": "light"
     },
     "output_type": "display_data"
    }
   ],
   "source": [
    "import matplotlib.pyplot as plt\n",
    "acc = history.history['accuracy']\n",
    "val_acc = history.history['val_accuracy']\n",
    "epochs = range(1,len(loss) + 1)\n",
    "plt.plot(epochs,acc,label='Training accuracy')\n",
    "plt.plot(epochs,val_acc,label='Validation accuracy')\n",
    "plt.title('Training and validation accuracy')\n",
    "plt.xlabel('Epochs')\n",
    "plt.ylabel('Loss')\n",
    "plt.legend()\n",
    "plt.show()"
   ]
  },
  {
   "cell_type": "code",
   "execution_count": 46,
   "metadata": {},
   "outputs": [
    {
     "name": "stdout",
     "output_type": "stream",
     "text": [
      "1380/1380 [==============================] - 0s 120us/step\n",
      "1380/1380 [==============================] - 0s 48us/step\n",
      "[0.2742887070213539, 0.9144927263259888]\n"
     ]
    }
   ],
   "source": [
    "var = load_model(\"file1.h5\")\n",
    "result =var.evaluate(test,test_label)\n",
    "res = model.evaluate(test, test_label)\n",
    "print(result)"
   ]
  },
  {
   "cell_type": "code",
   "execution_count": null,
   "metadata": {},
   "outputs": [],
   "source": []
  }
 ],
 "metadata": {
  "kernelspec": {
   "display_name": "Python 3",
   "language": "python",
   "name": "python3"
  },
  "language_info": {
   "codemirror_mode": {
    "name": "ipython",
    "version": 3
   },
   "file_extension": ".py",
   "mimetype": "text/x-python",
   "name": "python",
   "nbconvert_exporter": "python",
   "pygments_lexer": "ipython3",
   "version": "3.7.4"
  }
 },
 "nbformat": 4,
 "nbformat_minor": 2
}
