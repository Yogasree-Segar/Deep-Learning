{
 "cells": [
  {
   "cell_type": "code",
   "execution_count": null,
   "metadata": {},
   "outputs": [],
   "source": []
  },
  {
   "cell_type": "code",
   "execution_count": 16,
   "metadata": {},
   "outputs": [],
   "source": [
    "from keras.models import load_model\n",
    "from keras.datasets import cifar10\n",
    "from keras.utils import to_categorical\n",
    "(trainX,trainY),(testX,testY) = cifar10.load_data()\n",
    "trainY3 = ((trainY == 0)+(trainY ==1) +(trainY==2))\n",
    "trainY3_class = trainY[trainY3]\n",
    "trainX_class = trainX[trainY3[:,0],:,:,:]\n",
    "testY3 = ((testY == 0)+(testY ==1) +(testY==2))\n",
    "testY3_class = testY[testY3]\n",
    "testX_class = testX[testY3[:,0],:,:,:]"
   ]
  },
  {
   "cell_type": "code",
   "execution_count": 17,
   "metadata": {},
   "outputs": [
    {
     "name": "stdout",
     "output_type": "stream",
     "text": [
      "15000\n"
     ]
    }
   ],
   "source": [
    "print(len(trainY3_class))"
   ]
  },
  {
   "cell_type": "code",
   "execution_count": 18,
   "metadata": {},
   "outputs": [],
   "source": [
    "trainX = trainX_class.reshape(15000,32*3*32)\n",
    "testX = testX_class.reshape(3000,32*3*32)\n",
    "\n",
    "trainY = to_categorical(trainY3_class)\n",
    "testY = to_categorical(testY3_class)"
   ]
  },
  {
   "cell_type": "code",
   "execution_count": 19,
   "metadata": {},
   "outputs": [
    {
     "name": "stdout",
     "output_type": "stream",
     "text": [
      "[[0. 1. 0.]\n",
      " [0. 1. 0.]\n",
      " [0. 0. 1.]\n",
      " ...\n",
      " [0. 0. 1.]\n",
      " [0. 1. 0.]\n",
      " [0. 1. 0.]]\n"
     ]
    }
   ],
   "source": [
    "print(trainY)"
   ]
  },
  {
   "cell_type": "code",
   "execution_count": 20,
   "metadata": {},
   "outputs": [],
   "source": [
    "x_train = trainX/255\n",
    "X_test = testX/255"
   ]
  },
  {
   "cell_type": "code",
   "execution_count": 21,
   "metadata": {},
   "outputs": [],
   "source": [
    "x_val = x_train[:2500]\n",
    "partial_x_train = x_train[2500:]\n",
    "y_val = trainY[:2500]\n",
    "partial_y_train = trainY[2500:]"
   ]
  },
  {
   "cell_type": "code",
   "execution_count": 22,
   "metadata": {},
   "outputs": [],
   "source": [
    "from keras import models\n",
    "from keras import layers\n",
    "model = models.Sequential()\n",
    "model.add(layers.Dense(128,activation = 'relu',input_shape = (3072,)))\n",
    "model.add(layers.Dense(128,activation='relu'))\n",
    "model.add(layers.Dense(128,activation='relu'))\n",
    "model.add(layers.Dense(128,activation='relu'))\n",
    "model.add(layers.Dense(3,activation='softmax'))"
   ]
  },
  {
   "cell_type": "code",
   "execution_count": 23,
   "metadata": {},
   "outputs": [],
   "source": [
    "import keras\n",
    "keras.optimizers.SGD(learning_rate=0.03, momentum=0.0, nesterov=False)\n",
    "model.compile(optimizer='sgd',loss='categorical_crossentropy',metrics=['accuracy'])"
   ]
  },
  {
   "cell_type": "code",
   "execution_count": 24,
   "metadata": {},
   "outputs": [
    {
     "name": "stdout",
     "output_type": "stream",
     "text": [
      "Train on 12500 samples, validate on 2500 samples\n",
      "Epoch 1/50\n",
      "12500/12500 [==============================] - 2s 157us/step - loss: 1.0252 - accuracy: 0.5194 - val_loss: 0.9603 - val_accuracy: 0.5160\n",
      "Epoch 2/50\n",
      "12500/12500 [==============================] - 2s 122us/step - loss: 0.8916 - accuracy: 0.6237 - val_loss: 0.9412 - val_accuracy: 0.5520\n",
      "Epoch 3/50\n",
      "12500/12500 [==============================] - 1s 115us/step - loss: 0.8322 - accuracy: 0.6427 - val_loss: 0.7700 - val_accuracy: 0.6892\n",
      "Epoch 4/50\n",
      "12500/12500 [==============================] - 1s 116us/step - loss: 0.7809 - accuracy: 0.6754 - val_loss: 0.7669 - val_accuracy: 0.6752\n",
      "Epoch 5/50\n",
      "12500/12500 [==============================] - 1s 115us/step - loss: 0.7568 - accuracy: 0.6862 - val_loss: 0.7180 - val_accuracy: 0.7044\n",
      "Epoch 6/50\n",
      "12500/12500 [==============================] - 1s 117us/step - loss: 0.7426 - accuracy: 0.6926 - val_loss: 0.7412 - val_accuracy: 0.6912\n",
      "Epoch 7/50\n",
      "12500/12500 [==============================] - 1s 117us/step - loss: 0.7139 - accuracy: 0.7095 - val_loss: 0.6738 - val_accuracy: 0.7188\n",
      "Epoch 8/50\n",
      "12500/12500 [==============================] - 1s 115us/step - loss: 0.7066 - accuracy: 0.7095 - val_loss: 0.7479 - val_accuracy: 0.6732\n",
      "Epoch 9/50\n",
      "12500/12500 [==============================] - 1s 117us/step - loss: 0.7043 - accuracy: 0.7091 - val_loss: 0.6583 - val_accuracy: 0.7324\n",
      "Epoch 10/50\n",
      "12500/12500 [==============================] - 1s 115us/step - loss: 0.6799 - accuracy: 0.7210 - val_loss: 0.6626 - val_accuracy: 0.7256\n",
      "Epoch 11/50\n",
      "12500/12500 [==============================] - 1s 116us/step - loss: 0.6730 - accuracy: 0.7291 - val_loss: 0.6434 - val_accuracy: 0.7276\n",
      "Epoch 12/50\n",
      "12500/12500 [==============================] - 1s 116us/step - loss: 0.6658 - accuracy: 0.7261 - val_loss: 0.6917 - val_accuracy: 0.7068\n",
      "Epoch 13/50\n",
      "12500/12500 [==============================] - 1s 117us/step - loss: 0.6471 - accuracy: 0.7363 - val_loss: 0.6401 - val_accuracy: 0.7288\n",
      "Epoch 14/50\n",
      "12500/12500 [==============================] - 1s 116us/step - loss: 0.6521 - accuracy: 0.7360 - val_loss: 0.7426 - val_accuracy: 0.6640\n",
      "Epoch 15/50\n",
      "12500/12500 [==============================] - 1s 118us/step - loss: 0.6370 - accuracy: 0.7426 - val_loss: 0.7087 - val_accuracy: 0.6912\n",
      "Epoch 16/50\n",
      "12500/12500 [==============================] - 1s 118us/step - loss: 0.6334 - accuracy: 0.7428 - val_loss: 0.9827 - val_accuracy: 0.5848\n",
      "Epoch 17/50\n",
      "12500/12500 [==============================] - 1s 118us/step - loss: 0.6213 - accuracy: 0.7486 - val_loss: 0.6127 - val_accuracy: 0.7380\n",
      "Epoch 18/50\n",
      "12500/12500 [==============================] - 1s 115us/step - loss: 0.6168 - accuracy: 0.7482 - val_loss: 0.6151 - val_accuracy: 0.7480\n",
      "Epoch 19/50\n",
      "12500/12500 [==============================] - 1s 119us/step - loss: 0.5989 - accuracy: 0.7578 - val_loss: 0.6151 - val_accuracy: 0.7460\n",
      "Epoch 20/50\n",
      "12500/12500 [==============================] - 1s 116us/step - loss: 0.6019 - accuracy: 0.7559 - val_loss: 0.6249 - val_accuracy: 0.7376\n",
      "Epoch 21/50\n",
      "12500/12500 [==============================] - 2s 121us/step - loss: 0.5815 - accuracy: 0.7667 - val_loss: 0.5831 - val_accuracy: 0.7524\n",
      "Epoch 22/50\n",
      "12500/12500 [==============================] - 2s 122us/step - loss: 0.5817 - accuracy: 0.7643 - val_loss: 0.6879 - val_accuracy: 0.7032\n",
      "Epoch 23/50\n",
      "12500/12500 [==============================] - 2s 121us/step - loss: 0.5719 - accuracy: 0.7700 - val_loss: 0.6343 - val_accuracy: 0.7260\n",
      "Epoch 24/50\n",
      "12500/12500 [==============================] - 2s 121us/step - loss: 0.5657 - accuracy: 0.7664 - val_loss: 0.5770 - val_accuracy: 0.7640\n",
      "Epoch 25/50\n",
      "12500/12500 [==============================] - 1s 116us/step - loss: 0.5431 - accuracy: 0.7795 - val_loss: 0.5694 - val_accuracy: 0.7624\n",
      "Epoch 26/50\n",
      "12500/12500 [==============================] - 2s 124us/step - loss: 0.5672 - accuracy: 0.7688 - val_loss: 0.6880 - val_accuracy: 0.7084\n",
      "Epoch 27/50\n",
      "12500/12500 [==============================] - 2s 121us/step - loss: 0.5446 - accuracy: 0.7761 - val_loss: 0.5744 - val_accuracy: 0.7648\n",
      "Epoch 28/50\n",
      "12500/12500 [==============================] - 2s 120us/step - loss: 0.5354 - accuracy: 0.7826 - val_loss: 0.5956 - val_accuracy: 0.7532\n",
      "Epoch 29/50\n",
      "12500/12500 [==============================] - 2s 121us/step - loss: 0.5395 - accuracy: 0.7838 - val_loss: 0.5447 - val_accuracy: 0.7776\n",
      "Epoch 30/50\n",
      "12500/12500 [==============================] - 2s 121us/step - loss: 0.5211 - accuracy: 0.7904 - val_loss: 0.6615 - val_accuracy: 0.7304\n",
      "Epoch 31/50\n",
      "12500/12500 [==============================] - 2s 123us/step - loss: 0.5239 - accuracy: 0.7854 - val_loss: 0.5547 - val_accuracy: 0.7768\n",
      "Epoch 32/50\n",
      "12500/12500 [==============================] - 2s 121us/step - loss: 0.5154 - accuracy: 0.7899 - val_loss: 0.6691 - val_accuracy: 0.7260\n",
      "Epoch 33/50\n",
      "12500/12500 [==============================] - 2s 122us/step - loss: 0.5154 - accuracy: 0.7922 - val_loss: 0.5663 - val_accuracy: 0.7732\n",
      "Epoch 34/50\n",
      "12500/12500 [==============================] - 1s 120us/step - loss: 0.5043 - accuracy: 0.7970 - val_loss: 0.5445 - val_accuracy: 0.7824\n",
      "Epoch 35/50\n",
      "12500/12500 [==============================] - 2s 123us/step - loss: 0.4943 - accuracy: 0.8029 - val_loss: 0.5792 - val_accuracy: 0.7664\n",
      "Epoch 36/50\n",
      "12500/12500 [==============================] - 2s 123us/step - loss: 0.5019 - accuracy: 0.8000 - val_loss: 0.5502 - val_accuracy: 0.7700\n",
      "Epoch 37/50\n",
      "12500/12500 [==============================] - 2s 122us/step - loss: 0.4942 - accuracy: 0.7985 - val_loss: 0.6038 - val_accuracy: 0.7560\n",
      "Epoch 38/50\n",
      "12500/12500 [==============================] - 2s 125us/step - loss: 0.4888 - accuracy: 0.8038 - val_loss: 0.5330 - val_accuracy: 0.7904\n",
      "Epoch 39/50\n",
      "12500/12500 [==============================] - 2s 123us/step - loss: 0.4797 - accuracy: 0.8083 - val_loss: 0.8347 - val_accuracy: 0.6620\n",
      "Epoch 40/50\n",
      "12500/12500 [==============================] - 2s 123us/step - loss: 0.4790 - accuracy: 0.8055 - val_loss: 0.5298 - val_accuracy: 0.7900\n",
      "Epoch 41/50\n",
      "12500/12500 [==============================] - 2s 124us/step - loss: 0.4642 - accuracy: 0.8102 - val_loss: 0.5529 - val_accuracy: 0.7656\n",
      "Epoch 42/50\n",
      "12500/12500 [==============================] - 2s 125us/step - loss: 0.4666 - accuracy: 0.8110 - val_loss: 0.5126 - val_accuracy: 0.7916\n",
      "Epoch 43/50\n",
      "12500/12500 [==============================] - 2s 120us/step - loss: 0.4625 - accuracy: 0.8109 - val_loss: 0.5189 - val_accuracy: 0.7908\n",
      "Epoch 44/50\n",
      "12500/12500 [==============================] - 2s 124us/step - loss: 0.4584 - accuracy: 0.8158 - val_loss: 0.9898 - val_accuracy: 0.6528\n",
      "Epoch 45/50\n",
      "12500/12500 [==============================] - 2s 125us/step - loss: 0.4608 - accuracy: 0.8144 - val_loss: 0.5096 - val_accuracy: 0.7956\n",
      "Epoch 46/50\n",
      "12500/12500 [==============================] - 1s 118us/step - loss: 0.4622 - accuracy: 0.8125 - val_loss: 0.6092 - val_accuracy: 0.7528\n",
      "Epoch 47/50\n",
      "12500/12500 [==============================] - 2s 123us/step - loss: 0.4467 - accuracy: 0.8223 - val_loss: 0.8772 - val_accuracy: 0.6492\n",
      "Epoch 48/50\n",
      "12500/12500 [==============================] - 2s 124us/step - loss: 0.4532 - accuracy: 0.8187 - val_loss: 0.5615 - val_accuracy: 0.7768\n",
      "Epoch 49/50\n",
      "12500/12500 [==============================] - 2s 128us/step - loss: 0.4341 - accuracy: 0.8277 - val_loss: 0.6110 - val_accuracy: 0.7600\n",
      "Epoch 50/50\n",
      "12500/12500 [==============================] - 2s 124us/step - loss: 0.4434 - accuracy: 0.8250 - val_loss: 0.5225 - val_accuracy: 0.7940\n"
     ]
    }
   ],
   "source": [
    "history = model.fit(partial_x_train,partial_y_train,epochs = 50,batch_size  =150,validation_data = (x_val,y_val))\n",
    "model.save(\"file.h5\")"
   ]
  },
  {
   "cell_type": "code",
   "execution_count": 25,
   "metadata": {},
   "outputs": [
    {
     "data": {
      "image/png": "[encoded data removed]",
      "text/plain": [
       "<Figure size 432x288 with 1 Axes>"
      ]
     },
     "metadata": {
      "needs_background": "light"
     },
     "output_type": "display_data"
    }
   ],
   "source": [
    "import matplotlib.pyplot as plt\n",
    "loss = history.history['loss']\n",
    "val_loss = history.history['val_loss']\n",
    "epochs = range(1,len(loss) + 1)\n",
    "plt.plot(epochs,loss,'bo',label='Training loss')\n",
    "plt.plot(epochs,val_loss,'b',label='Validation loss')\n",
    "plt.title('Training and validation loss')\n",
    "plt.xlabel('Epochs')\n",
    "plt.ylabel('Loss')\n",
    "plt.legend()\n",
    "plt.show()"
   ]
  },
  {
   "cell_type": "code",
   "execution_count": 26,
   "metadata": {},
   "outputs": [
    {
     "name": "stdout",
     "output_type": "stream",
     "text": [
      "3000/3000 [==============================] - 0s 143us/step\n",
      "3000/3000 [==============================] - 0s 92us/step\n",
      "[0.5147012565930684, 0.7950000166893005]\n"
     ]
    }
   ],
   "source": [
    "var = load_model(\"file.h5\")\n",
    "result =var.evaluate(X_test,testY)\n",
    "result =model.evaluate(X_test,testY)\n",
    "print(result)"
   ]
  },
  {
   "cell_type": "code",
   "execution_count": null,
   "metadata": {},
   "outputs": [],
   "source": []
  }
 ],
 "metadata": {
  "kernelspec": {
   "display_name": "Python 3",
   "language": "python",
   "name": "python3"
  },
  "language_info": {
   "codemirror_mode": {
    "name": "ipython",
    "version": 3
   },
   "file_extension": ".py",
   "mimetype": "text/x-python",
   "name": "python",
   "nbconvert_exporter": "python",
   "pygments_lexer": "ipython3",
   "version": "3.7.4"
  }
 },
 "nbformat": 4,
 "nbformat_minor": 2
}
