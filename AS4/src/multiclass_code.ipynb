{
 "cells": [
  {
   "cell_type": "code",
   "execution_count": 1,
   "metadata": {},
   "outputs": [
    {
     "name": "stderr",
     "output_type": "stream",
     "text": [
      "Using TensorFlow backend.\n"
     ]
    }
   ],
   "source": [
    "from keras.models import load_model\n",
    "from keras.datasets import cifar10\n",
    "from keras.utils import to_categorical\n",
    "(trainX,trainY),(testX,testY) = cifar10.load_data()"
   ]
  },
  {
   "cell_type": "code",
   "execution_count": 2,
   "metadata": {},
   "outputs": [
    {
     "name": "stdout",
     "output_type": "stream",
     "text": [
      "(50000, 32, 32, 3)\n",
      "(10000, 32, 32, 3)\n",
      "(50000, 1)\n",
      "(10000, 1)\n"
     ]
    }
   ],
   "source": [
    "print(trainX.shape)\n",
    "print(testX.shape)\n",
    "print(trainY.shape)\n",
    "print(testY.shape)"
   ]
  },
  {
   "cell_type": "code",
   "execution_count": 3,
   "metadata": {},
   "outputs": [],
   "source": [
    "trainY = to_categorical(trainY)\n",
    "testY = to_categorical(testY)"
   ]
  },
  {
   "cell_type": "code",
   "execution_count": 4,
   "metadata": {},
   "outputs": [
    {
     "name": "stdout",
     "output_type": "stream",
     "text": [
      "[[0. 0. 0. ... 0. 0. 0.]\n",
      " [0. 0. 0. ... 0. 0. 1.]\n",
      " [0. 0. 0. ... 0. 0. 1.]\n",
      " ...\n",
      " [0. 0. 0. ... 0. 0. 1.]\n",
      " [0. 1. 0. ... 0. 0. 0.]\n",
      " [0. 1. 0. ... 0. 0. 0.]]\n",
      "[[0. 0. 0. ... 0. 0. 0.]\n",
      " [0. 0. 0. ... 0. 1. 0.]\n",
      " [0. 0. 0. ... 0. 1. 0.]\n",
      " ...\n",
      " [0. 0. 0. ... 0. 0. 0.]\n",
      " [0. 1. 0. ... 0. 0. 0.]\n",
      " [0. 0. 0. ... 1. 0. 0.]]\n"
     ]
    }
   ],
   "source": [
    "print(trainY)\n",
    "print(testY)"
   ]
  },
  {
   "cell_type": "code",
   "execution_count": 5,
   "metadata": {},
   "outputs": [],
   "source": [
    "x_train = trainX/255\n",
    "X_test = testX/255"
   ]
  },
  {
   "cell_type": "code",
   "execution_count": 6,
   "metadata": {},
   "outputs": [],
   "source": [
    "x_val = x_train[:25000]\n",
    "partial_x_train = x_train[25000:]\n",
    "y_val = trainY[:25000]\n",
    "partial_y_train = trainY[25000:]"
   ]
  },
  {
   "cell_type": "code",
   "execution_count": 7,
   "metadata": {},
   "outputs": [
    {
     "name": "stdout",
     "output_type": "stream",
     "text": [
      "WARNING:tensorflow:From C:\\Users\\segar\\Anaconda3\\lib\\site-packages\\keras\\backend\\tensorflow_backend.py:4070: The name tf.nn.max_pool is deprecated. Please use tf.nn.max_pool2d instead.\n",
      "\n",
      "Model: \"sequential_1\"\n",
      "_________________________________________________________________\n",
      "Layer (type)                 Output Shape              Param #   \n",
      "=================================================================\n",
      "conv2d_1 (Conv2D)            (None, 30, 30, 32)        896       \n",
      "_________________________________________________________________\n",
      "max_pooling2d_1 (MaxPooling2 (None, 15, 15, 32)        0         \n",
      "_________________________________________________________________\n",
      "dropout_1 (Dropout)          (None, 15, 15, 32)        0         \n",
      "_________________________________________________________________\n",
      "conv2d_2 (Conv2D)            (None, 13, 13, 64)        18496     \n",
      "_________________________________________________________________\n",
      "max_pooling2d_2 (MaxPooling2 (None, 6, 6, 64)          0         \n",
      "_________________________________________________________________\n",
      "dropout_2 (Dropout)          (None, 6, 6, 64)          0         \n",
      "_________________________________________________________________\n",
      "flatten_1 (Flatten)          (None, 2304)              0         \n",
      "_________________________________________________________________\n",
      "dense_1 (Dense)              (None, 128)               295040    \n",
      "_________________________________________________________________\n",
      "dense_2 (Dense)              (None, 10)                1290      \n",
      "=================================================================\n",
      "Total params: 315,722\n",
      "Trainable params: 315,722\n",
      "Non-trainable params: 0\n",
      "_________________________________________________________________\n"
     ]
    }
   ],
   "source": [
    "from keras import layers\n",
    "from keras import models\n",
    "model = models.Sequential()\n",
    "model.add(layers.Conv2D(32,(3,3),activation='relu',input_shape=(32,32,3)))\n",
    "model.add(layers.MaxPooling2D((2,2)))\n",
    "model.add(layers.Dropout(0.25))\n",
    "#model.add(layers.BatchNormalization())\n",
    "model.add(layers.Conv2D(64,(3,3),activation='relu'))\n",
    "model.add(layers.MaxPooling2D((2,2)))\n",
    "model.add(layers.Dropout(0.25))\n",
    "#model.add(layers.BatchNormalization())\n",
    "#model.add(layers.Conv2D(128,(3,3),activation='relu'))\n",
    "#model.add(layers.MaxPooling2D((2,2)))\n",
    "#model.add(layers.Dropout(0.25))\n",
    "\n",
    "model.add(layers.Flatten())\n",
    "model.add(layers.Dense(128, activation = 'relu'))\n",
    "model.add(layers.Dense(10, activation = 'softmax'))\n",
    "model.summary()"
   ]
  },
  {
   "cell_type": "code",
   "execution_count": 8,
   "metadata": {},
   "outputs": [],
   "source": [
    "from keras import optimizers\n",
    "model.compile(loss = 'categorical_crossentropy',optimizer = 'rmsprop', metrics=['accuracy'])"
   ]
  },
  {
   "cell_type": "code",
   "execution_count": 9,
   "metadata": {},
   "outputs": [
    {
     "name": "stdout",
     "output_type": "stream",
     "text": [
      "WARNING:tensorflow:From C:\\Users\\segar\\Anaconda3\\lib\\site-packages\\keras\\backend\\tensorflow_backend.py:422: The name tf.global_variables is deprecated. Please use tf.compat.v1.global_variables instead.\n",
      "\n",
      "Train on 50000 samples, validate on 25000 samples\n",
      "Epoch 1/30\n",
      "50000/50000 [==============================] - 61s 1ms/step - loss: 1.6012 - accuracy: 0.4217 - val_loss: 1.4208 - val_accuracy: 0.5036\n",
      "Epoch 2/30\n",
      "50000/50000 [==============================] - 61s 1ms/step - loss: 1.2403 - accuracy: 0.5611 - val_loss: 1.1333 - val_accuracy: 0.6096\n",
      "Epoch 3/30\n",
      "50000/50000 [==============================] - 61s 1ms/step - loss: 1.0888 - accuracy: 0.6169 - val_loss: 0.9347 - val_accuracy: 0.6804\n",
      "Epoch 4/30\n",
      "50000/50000 [==============================] - 60s 1ms/step - loss: 0.9996 - accuracy: 0.6513 - val_loss: 0.8460 - val_accuracy: 0.7198\n",
      "Epoch 5/30\n",
      "50000/50000 [==============================] - 70s 1ms/step - loss: 0.9274 - accuracy: 0.6772 - val_loss: 0.8973 - val_accuracy: 0.6872\n",
      "Epoch 6/30\n",
      "50000/50000 [==============================] - 72s 1ms/step - loss: 0.8696 - accuracy: 0.6991 - val_loss: 0.7858 - val_accuracy: 0.7262\n",
      "Epoch 7/30\n",
      "50000/50000 [==============================] - 73s 1ms/step - loss: 0.8210 - accuracy: 0.7149 - val_loss: 0.6517 - val_accuracy: 0.7790\n",
      "Epoch 8/30\n",
      "50000/50000 [==============================] - 72s 1ms/step - loss: 0.7794 - accuracy: 0.7275 - val_loss: 0.6575 - val_accuracy: 0.7731\n",
      "Epoch 9/30\n",
      "50000/50000 [==============================] - 69s 1ms/step - loss: 0.7437 - accuracy: 0.7413 - val_loss: 0.6436 - val_accuracy: 0.7836\n",
      "Epoch 10/30\n",
      "50000/50000 [==============================] - 66s 1ms/step - loss: 0.7092 - accuracy: 0.7532 - val_loss: 0.5365 - val_accuracy: 0.8212\n",
      "Epoch 11/30\n",
      "50000/50000 [==============================] - 70s 1ms/step - loss: 0.6805 - accuracy: 0.7662 - val_loss: 0.5789 - val_accuracy: 0.8141\n",
      "Epoch 12/30\n",
      "50000/50000 [==============================] - 71s 1ms/step - loss: 0.6562 - accuracy: 0.7714 - val_loss: 0.4954 - val_accuracy: 0.8389\n",
      "Epoch 13/30\n",
      "50000/50000 [==============================] - 71s 1ms/step - loss: 0.6377 - accuracy: 0.7795 - val_loss: 0.4471 - val_accuracy: 0.8489\n",
      "Epoch 14/30\n",
      "50000/50000 [==============================] - 70s 1ms/step - loss: 0.6139 - accuracy: 0.7867 - val_loss: 0.5111 - val_accuracy: 0.8300\n",
      "Epoch 15/30\n",
      "50000/50000 [==============================] - 62s 1ms/step - loss: 0.6020 - accuracy: 0.7902 - val_loss: 0.4209 - val_accuracy: 0.8604\n",
      "Epoch 16/30\n",
      "50000/50000 [==============================] - 60s 1ms/step - loss: 0.5804 - accuracy: 0.7999 - val_loss: 0.4084 - val_accuracy: 0.8638\n",
      "Epoch 17/30\n",
      "50000/50000 [==============================] - 59s 1ms/step - loss: 0.5631 - accuracy: 0.8067 - val_loss: 0.5582 - val_accuracy: 0.8122\n",
      "Epoch 18/30\n",
      "50000/50000 [==============================] - 61s 1ms/step - loss: 0.5498 - accuracy: 0.8085 - val_loss: 0.4822 - val_accuracy: 0.8438\n",
      "Epoch 19/30\n",
      "50000/50000 [==============================] - 73s 1ms/step - loss: 0.5395 - accuracy: 0.8134 - val_loss: 0.3565 - val_accuracy: 0.8772\n",
      "Epoch 20/30\n",
      "50000/50000 [==============================] - 65s 1ms/step - loss: 0.5266 - accuracy: 0.8179 - val_loss: 0.3193 - val_accuracy: 0.8959\n",
      "Epoch 21/30\n",
      "50000/50000 [==============================] - 68s 1ms/step - loss: 0.5160 - accuracy: 0.8226 - val_loss: 0.4363 - val_accuracy: 0.8621\n",
      "Epoch 22/30\n",
      "50000/50000 [==============================] - 62s 1ms/step - loss: 0.5053 - accuracy: 0.8252 - val_loss: 0.3739 - val_accuracy: 0.8812\n",
      "Epoch 23/30\n",
      "50000/50000 [==============================] - 75s 1ms/step - loss: 0.5032 - accuracy: 0.8261 - val_loss: 0.4261 - val_accuracy: 0.8526\n",
      "Epoch 24/30\n",
      "50000/50000 [==============================] - 70s 1ms/step - loss: 0.4905 - accuracy: 0.8304 - val_loss: 0.4117 - val_accuracy: 0.8646\n",
      "Epoch 25/30\n",
      "50000/50000 [==============================] - 59s 1ms/step - loss: 0.4826 - accuracy: 0.8327 - val_loss: 0.3322 - val_accuracy: 0.9000\n",
      "Epoch 26/30\n",
      "50000/50000 [==============================] - 61s 1ms/step - loss: 0.4716 - accuracy: 0.8371 - val_loss: 0.2810 - val_accuracy: 0.9201\n",
      "Epoch 27/30\n",
      "50000/50000 [==============================] - 65s 1ms/step - loss: 0.4617 - accuracy: 0.8406 - val_loss: 0.2383 - val_accuracy: 0.9239\n",
      "Epoch 28/30\n",
      "50000/50000 [==============================] - 63s 1ms/step - loss: 0.4595 - accuracy: 0.8421 - val_loss: 0.2439 - val_accuracy: 0.9274\n",
      "Epoch 29/30\n",
      "50000/50000 [==============================] - 61s 1ms/step - loss: 0.4534 - accuracy: 0.8457 - val_loss: 0.2808 - val_accuracy: 0.9173\n",
      "Epoch 30/30\n",
      "50000/50000 [==============================] - 61s 1ms/step - loss: 0.4499 - accuracy: 0.8450 - val_loss: 0.3685 - val_accuracy: 0.8776\n"
     ]
    }
   ],
   "source": [
    "history = model.fit(x_train,trainY,epochs = 30,batch_size  =60,validation_data = (x_val,y_val))"
   ]
  },
  {
   "cell_type": "code",
   "execution_count": 10,
   "metadata": {},
   "outputs": [
    {
     "data": {
      "text/plain": [
       "<Figure size 640x480 with 1 Axes>"
      ]
     },
     "metadata": {},
     "output_type": "display_data"
    }
   ],
   "source": [
    "import matplotlib.pyplot as plt\n",
    "loss = history.history['loss']\n",
    "val_loss = history.history['val_loss']\n",
    "epochs = range(1,len(loss) + 1)\n",
    "plt.plot(epochs,loss,'bo',label='Training loss')\n",
    "plt.plot(epochs,val_loss,'b',label='Validation loss')\n",
    "plt.title('Training and validation loss')\n",
    "plt.xlabel('Epochs')\n",
    "plt.ylabel('Loss')\n",
    "plt.legend()\n",
    "plt.show()"
   ]
  },
  {
   "cell_type": "code",
   "execution_count": 11,
   "metadata": {},
   "outputs": [
    {
     "name": "stdout",
     "output_type": "stream",
     "text": [
      "10000/10000 [==============================] - 4s 446us/step\n"
     ]
    }
   ],
   "source": [
    "result =model.evaluate(X_test,testY)"
   ]
  },
  {
   "cell_type": "code",
   "execution_count": 12,
   "metadata": {},
   "outputs": [
    {
     "name": "stdout",
     "output_type": "stream",
     "text": [
      "[0.9672261478424072, 0.6927000284194946]\n"
     ]
    }
   ],
   "source": [
    "print(result)"
   ]
  },
  {
   "cell_type": "code",
   "execution_count": 13,
   "metadata": {},
   "outputs": [
    {
     "name": "stdout",
     "output_type": "stream",
     "text": [
      "Model: \"model_1\"\n",
      "__________________________________________________________________________________________________\n",
      "Layer (type)                    Output Shape         Param #     Connected to                     \n",
      "==================================================================================================\n",
      "input_1 (InputLayer)            (None, 32, 32, 3)    0                                            \n",
      "__________________________________________________________________________________________________\n",
      "conv2d_3 (Conv2D)               (None, 32, 32, 64)   256         input_1[0][0]                    \n",
      "__________________________________________________________________________________________________\n",
      "conv2d_4 (Conv2D)               (None, 32, 32, 128)  3584        input_1[0][0]                    \n",
      "__________________________________________________________________________________________________\n",
      "conv2d_5 (Conv2D)               (None, 32, 32, 32)   2432        input_1[0][0]                    \n",
      "__________________________________________________________________________________________________\n",
      "max_pooling2d_3 (MaxPooling2D)  (None, 32, 32, 3)    0           input_1[0][0]                    \n",
      "__________________________________________________________________________________________________\n",
      "concatenate_1 (Concatenate)     (None, 32, 32, 227)  0           conv2d_3[0][0]                   \n",
      "                                                                 conv2d_4[0][0]                   \n",
      "                                                                 conv2d_5[0][0]                   \n",
      "                                                                 max_pooling2d_3[0][0]            \n",
      "==================================================================================================\n",
      "Total params: 6,272\n",
      "Trainable params: 6,272\n",
      "Non-trainable params: 0\n",
      "__________________________________________________________________________________________________\n"
     ]
    }
   ],
   "source": [
    "# example of creating a CNN with an inception module\n",
    "from keras.models import Model\n",
    "from keras.layers import Input\n",
    "from keras.layers import Conv2D\n",
    "from keras.layers import MaxPooling2D\n",
    "from keras.layers.merge import concatenate\n",
    "from keras.utils import plot_model\n",
    "\n",
    "# function for creating a naive inception block\n",
    "def naive_inception_module(layer_in, f1, f2, f3):\n",
    "\t# 1x1 conv\n",
    "\tconv1 = Conv2D(f1, (1,1), padding='same', activation='relu')(layer_in)\n",
    "\t# 3x3 conv\n",
    "\tconv3 = Conv2D(f2, (3,3), padding='same', activation='relu')(layer_in)\n",
    "\t# 5x5 conv\n",
    "\tconv5 = Conv2D(f3, (5,5), padding='same', activation='relu')(layer_in)\n",
    "\t# 3x3 max pooling\n",
    "\tpool = MaxPooling2D((3,3), strides=(1,1), padding='same')(layer_in)\n",
    "\t# concatenate filters, assumes filters/channels last\n",
    "\tlayer_out = concatenate([conv1, conv3, conv5, pool], axis=-1)\n",
    "\treturn layer_out\n",
    "\n",
    "# define model input\n",
    "visible = Input(shape=(x_train.shape[1:]))\n",
    "# add inception module\n",
    "layer = naive_inception_module(visible, 64, 128, 32)\n",
    "# create model\n",
    "model = Model(inputs=visible, outputs=layer)\n",
    "# summarize model\n",
    "model.summary()\n",
    "# plot model architecture\n",
    "#plot_model(model, show_shapes=True, to_file='naive_inception_module.png')"
   ]
  },
  {
   "cell_type": "code",
   "execution_count": 14,
   "metadata": {},
   "outputs": [],
   "source": [
    "from keras import layers\n",
    "from keras import models\n",
    "input_tensor = Input(shape=(x_train.shape[1:]))\n",
    "m = layers.Conv2D(32,(3,3),activation='relu')(input_tensor)\n",
    "m = layers.MaxPooling2D((2,2))(m)\n",
    "m = layers.Dropout(0.25)(m)\n",
    "m = layers.Conv2D(64,(3,3),activation='relu')(m)\n",
    "m = layers.MaxPooling2D((2,2))(m)\n",
    "m = layers.Dropout(0.25)(m)\n",
    "#m = naive_inception_module(m, 64, 128, 32)\n",
    "#m = layers.Conv2D(128,(3,3),activation='relu')(m)\n",
    "#m = layers.MaxPooling2D((2,2))(m)\n",
    "#m = layers.Dropout(0.25)(m)\n",
    "m = naive_inception_module(m, 64, 128, 32)\n",
    "m = layers.Flatten()(m)\n",
    "m = layers.Dense(128, activation = 'relu')(m)\n",
    "m = layers.Dense(10, activation = 'softmax')(m)\n"
   ]
  },
  {
   "cell_type": "code",
   "execution_count": 15,
   "metadata": {},
   "outputs": [],
   "source": [
    "model = Model(inputs=input_tensor, outputs=m)\n"
   ]
  },
  {
   "cell_type": "code",
   "execution_count": 16,
   "metadata": {},
   "outputs": [
    {
     "name": "stdout",
     "output_type": "stream",
     "text": [
      "Model: \"model_2\"\n",
      "__________________________________________________________________________________________________\n",
      "Layer (type)                    Output Shape         Param #     Connected to                     \n",
      "==================================================================================================\n",
      "input_2 (InputLayer)            (None, 32, 32, 3)    0                                            \n",
      "__________________________________________________________________________________________________\n",
      "conv2d_6 (Conv2D)               (None, 30, 30, 32)   896         input_2[0][0]                    \n",
      "__________________________________________________________________________________________________\n",
      "max_pooling2d_4 (MaxPooling2D)  (None, 15, 15, 32)   0           conv2d_6[0][0]                   \n",
      "__________________________________________________________________________________________________\n",
      "dropout_3 (Dropout)             (None, 15, 15, 32)   0           max_pooling2d_4[0][0]            \n",
      "__________________________________________________________________________________________________\n",
      "conv2d_7 (Conv2D)               (None, 13, 13, 64)   18496       dropout_3[0][0]                  \n",
      "__________________________________________________________________________________________________\n",
      "max_pooling2d_5 (MaxPooling2D)  (None, 6, 6, 64)     0           conv2d_7[0][0]                   \n",
      "__________________________________________________________________________________________________\n",
      "dropout_4 (Dropout)             (None, 6, 6, 64)     0           max_pooling2d_5[0][0]            \n",
      "__________________________________________________________________________________________________\n",
      "conv2d_8 (Conv2D)               (None, 6, 6, 64)     4160        dropout_4[0][0]                  \n",
      "__________________________________________________________________________________________________\n",
      "conv2d_9 (Conv2D)               (None, 6, 6, 128)    73856       dropout_4[0][0]                  \n",
      "__________________________________________________________________________________________________\n",
      "conv2d_10 (Conv2D)              (None, 6, 6, 32)     51232       dropout_4[0][0]                  \n",
      "__________________________________________________________________________________________________\n",
      "max_pooling2d_6 (MaxPooling2D)  (None, 6, 6, 64)     0           dropout_4[0][0]                  \n",
      "__________________________________________________________________________________________________\n",
      "concatenate_2 (Concatenate)     (None, 6, 6, 288)    0           conv2d_8[0][0]                   \n",
      "                                                                 conv2d_9[0][0]                   \n",
      "                                                                 conv2d_10[0][0]                  \n",
      "                                                                 max_pooling2d_6[0][0]            \n",
      "__________________________________________________________________________________________________\n",
      "flatten_2 (Flatten)             (None, 10368)        0           concatenate_2[0][0]              \n",
      "__________________________________________________________________________________________________\n",
      "dense_3 (Dense)                 (None, 128)          1327232     flatten_2[0][0]                  \n",
      "__________________________________________________________________________________________________\n",
      "dense_4 (Dense)                 (None, 10)           1290        dense_3[0][0]                    \n",
      "==================================================================================================\n",
      "Total params: 1,477,162\n",
      "Trainable params: 1,477,162\n",
      "Non-trainable params: 0\n",
      "__________________________________________________________________________________________________\n"
     ]
    }
   ],
   "source": [
    "model.summary()"
   ]
  },
  {
   "cell_type": "code",
   "execution_count": 17,
   "metadata": {},
   "outputs": [
    {
     "data": {
      "text/plain": [
       "[<keras.engine.input_layer.InputLayer at 0x16ef6a92d48>,\n",
       " <keras.layers.convolutional.Conv2D at 0x16ef6a92d08>,\n",
       " <keras.layers.pooling.MaxPooling2D at 0x16ef6a92f08>,\n",
       " <keras.layers.core.Dropout at 0x16ef6aa3108>,\n",
       " <keras.layers.convolutional.Conv2D at 0x16ef4ba2188>,\n",
       " <keras.layers.pooling.MaxPooling2D at 0x16ef4ba2208>,\n",
       " <keras.layers.core.Dropout at 0x16ef6abfec8>,\n",
       " <keras.layers.convolutional.Conv2D at 0x16ef6ae0f08>,\n",
       " <keras.layers.convolutional.Conv2D at 0x16ef6b32588>,\n",
       " <keras.layers.convolutional.Conv2D at 0x16ef6b8afc8>,\n",
       " <keras.layers.pooling.MaxPooling2D at 0x16ef6bbb388>,\n",
       " <keras.layers.merge.Concatenate at 0x16ef6bbb248>,\n",
       " <keras.layers.core.Flatten at 0x16ef6abf408>,\n",
       " <keras.layers.core.Dense at 0x16ef9abc208>,\n",
       " <keras.layers.core.Dense at 0x16ef9abc148>]"
      ]
     },
     "execution_count": 17,
     "metadata": {},
     "output_type": "execute_result"
    }
   ],
   "source": [
    "model.layers"
   ]
  },
  {
   "cell_type": "code",
   "execution_count": 18,
   "metadata": {},
   "outputs": [],
   "source": [
    "from keras import optimizers\n",
    "model.compile(loss = 'categorical_crossentropy',optimizer = 'rmsprop', metrics=['accuracy'])"
   ]
  },
  {
   "cell_type": "code",
   "execution_count": 19,
   "metadata": {},
   "outputs": [
    {
     "name": "stdout",
     "output_type": "stream",
     "text": [
      "Train on 50000 samples, validate on 25000 samples\n",
      "Epoch 1/30\n",
      "50000/50000 [==============================] - 102s 2ms/step - loss: 1.5763 - accuracy: 0.4329 - val_loss: 1.8766 - val_accuracy: 0.3924\n",
      "Epoch 2/30\n",
      "50000/50000 [==============================] - 102s 2ms/step - loss: 1.1280 - accuracy: 0.6035 - val_loss: 1.0372 - val_accuracy: 0.6382\n",
      "Epoch 3/30\n",
      "50000/50000 [==============================] - 104s 2ms/step - loss: 0.9711 - accuracy: 0.6606 - val_loss: 0.9447 - val_accuracy: 0.6794\n",
      "Epoch 4/30\n",
      "50000/50000 [==============================] - 103s 2ms/step - loss: 0.8703 - accuracy: 0.6967 - val_loss: 0.7312 - val_accuracy: 0.7501\n",
      "Epoch 5/30\n",
      "50000/50000 [==============================] - 105s 2ms/step - loss: 0.7919 - accuracy: 0.7228 - val_loss: 0.6856 - val_accuracy: 0.7525\n",
      "Epoch 6/30\n",
      "50000/50000 [==============================] - 104s 2ms/step - loss: 0.7403 - accuracy: 0.7408 - val_loss: 0.6229 - val_accuracy: 0.7804\n",
      "Epoch 7/30\n",
      "50000/50000 [==============================] - 102s 2ms/step - loss: 0.6878 - accuracy: 0.7614 - val_loss: 0.5238 - val_accuracy: 0.8202\n",
      "Epoch 8/30\n",
      "50000/50000 [==============================] - 102s 2ms/step - loss: 0.6422 - accuracy: 0.7759 - val_loss: 0.6261 - val_accuracy: 0.7847\n",
      "Epoch 9/30\n",
      "50000/50000 [==============================] - 102s 2ms/step - loss: 0.6036 - accuracy: 0.7893 - val_loss: 0.5715 - val_accuracy: 0.8026\n",
      "Epoch 10/30\n",
      "50000/50000 [==============================] - 102s 2ms/step - loss: 0.5712 - accuracy: 0.8014 - val_loss: 0.5324 - val_accuracy: 0.8161\n",
      "Epoch 11/30\n",
      "50000/50000 [==============================] - 102s 2ms/step - loss: 0.5393 - accuracy: 0.8149 - val_loss: 0.4585 - val_accuracy: 0.8384\n",
      "Epoch 12/30\n",
      "50000/50000 [==============================] - 102s 2ms/step - loss: 0.5130 - accuracy: 0.8214 - val_loss: 0.3163 - val_accuracy: 0.8935\n",
      "Epoch 13/30\n",
      "50000/50000 [==============================] - 103s 2ms/step - loss: 0.4892 - accuracy: 0.8302 - val_loss: 0.3451 - val_accuracy: 0.8810\n",
      "Epoch 14/30\n",
      "50000/50000 [==============================] - 102s 2ms/step - loss: 0.4743 - accuracy: 0.8351 - val_loss: 0.4104 - val_accuracy: 0.8633\n",
      "Epoch 15/30\n",
      "50000/50000 [==============================] - 102s 2ms/step - loss: 0.4467 - accuracy: 0.8448 - val_loss: 0.2745 - val_accuracy: 0.9088\n",
      "Epoch 16/30\n",
      "50000/50000 [==============================] - 102s 2ms/step - loss: 0.4332 - accuracy: 0.8498 - val_loss: 0.3477 - val_accuracy: 0.8768\n",
      "Epoch 17/30\n",
      "50000/50000 [==============================] - 102s 2ms/step - loss: 0.4197 - accuracy: 0.8550 - val_loss: 0.3229 - val_accuracy: 0.8884\n",
      "Epoch 18/30\n",
      "50000/50000 [==============================] - 102s 2ms/step - loss: 0.4082 - accuracy: 0.8617 - val_loss: 0.2553 - val_accuracy: 0.9152\n",
      "Epoch 19/30\n",
      "50000/50000 [==============================] - 102s 2ms/step - loss: 0.3876 - accuracy: 0.8670 - val_loss: 0.2423 - val_accuracy: 0.9174\n",
      "Epoch 20/30\n",
      "50000/50000 [==============================] - 102s 2ms/step - loss: 0.3807 - accuracy: 0.8702 - val_loss: 0.2508 - val_accuracy: 0.9144\n",
      "Epoch 21/30\n",
      "50000/50000 [==============================] - 103s 2ms/step - loss: 0.3705 - accuracy: 0.8728 - val_loss: 0.1789 - val_accuracy: 0.9427\n",
      "Epoch 22/30\n",
      "50000/50000 [==============================] - 103s 2ms/step - loss: 0.3594 - accuracy: 0.8777 - val_loss: 0.1652 - val_accuracy: 0.9484\n",
      "Epoch 23/30\n",
      "50000/50000 [==============================] - 102s 2ms/step - loss: 0.3607 - accuracy: 0.8794 - val_loss: 0.1861 - val_accuracy: 0.9387\n",
      "Epoch 24/30\n",
      "50000/50000 [==============================] - 102s 2ms/step - loss: 0.3538 - accuracy: 0.8819 - val_loss: 0.1479 - val_accuracy: 0.9521\n",
      "Epoch 25/30\n",
      "50000/50000 [==============================] - 103s 2ms/step - loss: 0.3478 - accuracy: 0.8838 - val_loss: 0.1975 - val_accuracy: 0.9345\n",
      "Epoch 26/30\n",
      "50000/50000 [==============================] - 102s 2ms/step - loss: 0.3345 - accuracy: 0.8880 - val_loss: 0.1868 - val_accuracy: 0.9408\n",
      "Epoch 27/30\n",
      "50000/50000 [==============================] - 103s 2ms/step - loss: 0.3326 - accuracy: 0.8887 - val_loss: 0.2677 - val_accuracy: 0.9168\n",
      "Epoch 28/30\n",
      "50000/50000 [==============================] - 103s 2ms/step - loss: 0.3222 - accuracy: 0.8919 - val_loss: 0.1846 - val_accuracy: 0.9394\n",
      "Epoch 29/30\n",
      "50000/50000 [==============================] - 103s 2ms/step - loss: 0.3217 - accuracy: 0.8915 - val_loss: 0.1469 - val_accuracy: 0.9536\n",
      "Epoch 30/30\n",
      "50000/50000 [==============================] - 103s 2ms/step - loss: 0.3282 - accuracy: 0.8916 - val_loss: 0.1155 - val_accuracy: 0.9652\n"
     ]
    }
   ],
   "source": [
    "history = model.fit(x_train,trainY,epochs = 30,batch_size  =60,validation_data = (x_val,y_val))"
   ]
  },
  {
   "cell_type": "code",
   "execution_count": 20,
   "metadata": {},
   "outputs": [
    {
     "data": {
      "image/png": "[encoded data removed]",
      "text/plain": [
       "<Figure size 432x288 with 1 Axes>"
      ]
     },
     "metadata": {
      "needs_background": "light"
     },
     "output_type": "display_data"
    }
   ],
   "source": [
    "import matplotlib.pyplot as plt\n",
    "loss = history.history['loss']\n",
    "val_loss = history.history['val_loss']\n",
    "epochs = range(1,len(loss) + 1)\n",
    "plt.plot(epochs,loss,'bo',label='Training loss')\n",
    "plt.plot(epochs,val_loss,'b',label='Validation loss')\n",
    "plt.title('Training and validation loss')\n",
    "plt.xlabel('Epochs')\n",
    "plt.ylabel('Loss')\n",
    "plt.legend()\n",
    "plt.show()"
   ]
  },
  {
   "cell_type": "code",
   "execution_count": 21,
   "metadata": {},
   "outputs": [
    {
     "name": "stdout",
     "output_type": "stream",
     "text": [
      "10000/10000 [==============================] - 8s 775us/step\n"
     ]
    }
   ],
   "source": [
    "result =model.evaluate(X_test,testY)"
   ]
  },
  {
   "cell_type": "code",
   "execution_count": 22,
   "metadata": {},
   "outputs": [
    {
     "name": "stdout",
     "output_type": "stream",
     "text": [
      "[1.0767808875083924, 0.7426000237464905]\n"
     ]
    }
   ],
   "source": [
    "print(result)"
   ]
  },
  {
   "cell_type": "code",
   "execution_count": 24,
   "metadata": {},
   "outputs": [],
   "source": [
    "from keras import layers\n",
    "from keras import models\n",
    "input_tensor = layers.Input(shape=(x_train.shape[1:]))\n",
    "\n",
    "m = layers.Conv2D(32,(3,3),activation='relu')(input_tensor)\n",
    "m = layers.MaxPooling2D((2,2))(m)\n",
    "m = layers.Dropout(0.25)(m)\n",
    "\n",
    "m = layers.Conv2D(64,(3,3),activation='relu')(m)\n",
    "m = layers.MaxPooling2D((2,2))(m)\n",
    "m = layers.Dropout(0.25)(m)\n",
    "\n",
    "m1 = layers.Conv2D(64, 3, activation = 'relu', padding = 'same')(m)\n",
    "m1 = layers.Conv2D(64, 3, activation = 'relu', padding = 'same')(m)\n",
    "m1 = layers.Conv2D(64, 3, activation = 'relu', padding = 'same')(m)\n",
    "y=layers.add([m1,m])\n",
    "\n",
    "m = layers.Flatten()(y)\n",
    "m = layers.Dense(128, activation = 'relu')(m)\n",
    "m = layers.Dense(10, activation = 'softmax')(m)"
   ]
  },
  {
   "cell_type": "code",
   "execution_count": 25,
   "metadata": {},
   "outputs": [
    {
     "name": "stdout",
     "output_type": "stream",
     "text": [
      "Model: \"model_3\"\n",
      "__________________________________________________________________________________________________\n",
      "Layer (type)                    Output Shape         Param #     Connected to                     \n",
      "==================================================================================================\n",
      "input_4 (InputLayer)            (None, 32, 32, 3)    0                                            \n",
      "__________________________________________________________________________________________________\n",
      "conv2d_16 (Conv2D)              (None, 30, 30, 32)   896         input_4[0][0]                    \n",
      "__________________________________________________________________________________________________\n",
      "max_pooling2d_9 (MaxPooling2D)  (None, 15, 15, 32)   0           conv2d_16[0][0]                  \n",
      "__________________________________________________________________________________________________\n",
      "dropout_7 (Dropout)             (None, 15, 15, 32)   0           max_pooling2d_9[0][0]            \n",
      "__________________________________________________________________________________________________\n",
      "conv2d_17 (Conv2D)              (None, 13, 13, 64)   18496       dropout_7[0][0]                  \n",
      "__________________________________________________________________________________________________\n",
      "max_pooling2d_10 (MaxPooling2D) (None, 6, 6, 64)     0           conv2d_17[0][0]                  \n",
      "__________________________________________________________________________________________________\n",
      "dropout_8 (Dropout)             (None, 6, 6, 64)     0           max_pooling2d_10[0][0]           \n",
      "__________________________________________________________________________________________________\n",
      "conv2d_20 (Conv2D)              (None, 6, 6, 64)     36928       dropout_8[0][0]                  \n",
      "__________________________________________________________________________________________________\n",
      "add_2 (Add)                     (None, 6, 6, 64)     0           conv2d_20[0][0]                  \n",
      "                                                                 dropout_8[0][0]                  \n",
      "__________________________________________________________________________________________________\n",
      "flatten_3 (Flatten)             (None, 2304)         0           add_2[0][0]                      \n",
      "__________________________________________________________________________________________________\n",
      "dense_5 (Dense)                 (None, 128)          295040      flatten_3[0][0]                  \n",
      "__________________________________________________________________________________________________\n",
      "dense_6 (Dense)                 (None, 10)           1290        dense_5[0][0]                    \n",
      "==================================================================================================\n",
      "Total params: 352,650\n",
      "Trainable params: 352,650\n",
      "Non-trainable params: 0\n",
      "__________________________________________________________________________________________________\n"
     ]
    }
   ],
   "source": [
    "model = Model(inputs=input_tensor, outputs=m)\n",
    "model.summary()"
   ]
  },
  {
   "cell_type": "code",
   "execution_count": 26,
   "metadata": {},
   "outputs": [],
   "source": [
    "from keras import optimizers\n",
    "model.compile(loss = 'categorical_crossentropy',optimizer = 'rmsprop', metrics=['accuracy'])"
   ]
  },
  {
   "cell_type": "code",
   "execution_count": 27,
   "metadata": {},
   "outputs": [
    {
     "name": "stdout",
     "output_type": "stream",
     "text": [
      "Train on 50000 samples, validate on 25000 samples\n",
      "Epoch 1/30\n",
      "50000/50000 [==============================] - 76s 2ms/step - loss: 1.5876 - accuracy: 0.4289 - val_loss: 1.4173 - val_accuracy: 0.4827\n",
      "Epoch 2/30\n",
      "50000/50000 [==============================] - 45s 899us/step - loss: 1.1984 - accuracy: 0.5757 - val_loss: 1.0867 - val_accuracy: 0.6166\n",
      "Epoch 3/30\n",
      "50000/50000 [==============================] - 33s 664us/step - loss: 1.0425 - accuracy: 0.6333 - val_loss: 0.9985 - val_accuracy: 0.6426\n",
      "Epoch 4/30\n",
      "50000/50000 [==============================] - 33s 653us/step - loss: 0.9406 - accuracy: 0.6679 - val_loss: 0.8910 - val_accuracy: 0.6820\n",
      "Epoch 5/30\n",
      "50000/50000 [==============================] - 33s 667us/step - loss: 0.8689 - accuracy: 0.6957 - val_loss: 0.6932 - val_accuracy: 0.7610\n",
      "Epoch 6/30\n",
      "50000/50000 [==============================] - 33s 661us/step - loss: 0.8058 - accuracy: 0.7183 - val_loss: 0.6384 - val_accuracy: 0.7768\n",
      "Epoch 7/30\n",
      "50000/50000 [==============================] - 34s 680us/step - loss: 0.7640 - accuracy: 0.7338 - val_loss: 0.5881 - val_accuracy: 0.7939\n",
      "Epoch 8/30\n",
      "50000/50000 [==============================] - 35s 690us/step - loss: 0.7165 - accuracy: 0.7513 - val_loss: 0.5540 - val_accuracy: 0.8100\n",
      "Epoch 9/30\n",
      "50000/50000 [==============================] - 36s 711us/step - loss: 0.6843 - accuracy: 0.7605 - val_loss: 0.5185 - val_accuracy: 0.8196c - ETA: 1s - loss: 0.6835 - ac - ETA: 1s - loss: 0.6837 - accura - ETA: 0s - loss: 0.684\n",
      "Epoch 10/30\n",
      "50000/50000 [==============================] - 34s 682us/step - loss: 0.6605 - accuracy: 0.7697 - val_loss: 0.4503 - val_accuracy: 0.8473A: 28s - loss: 0.6410 -  - \n",
      "Epoch 11/30\n",
      "50000/50000 [==============================] - 33s 663us/step - loss: 0.6240 - accuracy: 0.7817 - val_loss: 0.4448 - val_accuracy: 0.8470\n",
      "Epoch 12/30\n",
      "50000/50000 [==============================] - 33s 664us/step - loss: 0.6064 - accuracy: 0.7879 - val_loss: 0.8610 - val_accuracy: 0.7340\n",
      "Epoch 13/30\n",
      "50000/50000 [==============================] - 34s 674us/step - loss: 0.5916 - accuracy: 0.7955 - val_loss: 0.4105 - val_accuracy: 0.8571\n",
      "Epoch 14/30\n",
      "50000/50000 [==============================] - 34s 675us/step - loss: 0.5755 - accuracy: 0.8005 - val_loss: 0.4365 - val_accuracy: 0.8518\n",
      "Epoch 15/30\n",
      "50000/50000 [==============================] - 34s 674us/step - loss: 0.5569 - accuracy: 0.8091 - val_loss: 0.4036 - val_accuracy: 0.8660\n",
      "Epoch 16/30\n",
      "50000/50000 [==============================] - 34s 677us/step - loss: 0.5559 - accuracy: 0.8090 - val_loss: 0.3791 - val_accuracy: 0.8710\n",
      "Epoch 17/30\n",
      "50000/50000 [==============================] - 35s 691us/step - loss: 0.5487 - accuracy: 0.8106 - val_loss: 0.3804 - val_accuracy: 0.87585355 - accuracy - ETA: 13s - ETA: 11s - loss:  - ETA: 0s - loss: 0.548\n",
      "Epoch 18/30\n",
      "50000/50000 [==============================] - 35s 699us/step - loss: 0.5489 - accuracy: 0.8112 - val_loss: 0.3677 - val_accuracy: 0.8718\n",
      "Epoch 19/30\n",
      "50000/50000 [==============================] - 36s 720us/step - loss: 0.5435 - accuracy: 0.8142 - val_loss: 0.3843 - val_accuracy: 0.8731\n",
      "Epoch 20/30\n",
      "50000/50000 [==============================] - 36s 725us/step - loss: 0.5406 - accuracy: 0.8150 - val_loss: 0.5711 - val_accuracy: 0.7957\n",
      "Epoch 21/30\n",
      "50000/50000 [==============================] - 36s 719us/step - loss: 0.5458 - accuracy: 0.8152 - val_loss: 0.3215 - val_accuracy: 0.8900ccu - ETA: 0s - loss: 0.5454 - accu\n",
      "Epoch 22/30\n",
      "50000/50000 [==============================] - 36s 711us/step - loss: 0.5422 - accuracy: 0.8160 - val_loss: 0.5110 - val_accuracy: 0.8247\n",
      "Epoch 23/30\n",
      "50000/50000 [==============================] - 33s 655us/step - loss: 0.5361 - accuracy: 0.8162 - val_loss: 0.6729 - val_accuracy: 0.7859\n",
      "Epoch 24/30\n",
      "50000/50000 [==============================] - 33s 667us/step - loss: 0.5373 - accuracy: 0.8184 - val_loss: 0.3911 - val_accuracy: 0.8702\n",
      "Epoch 25/30\n",
      "50000/50000 [==============================] - 34s 687us/step - loss: 0.5412 - accuracy: 0.8185 - val_loss: 0.3886 - val_accuracy: 0.8732\n",
      "Epoch 26/30\n",
      "50000/50000 [==============================] - 35s 705us/step - loss: 0.5433 - accuracy: 0.8167 - val_loss: 0.3815 - val_accuracy: 0.8627\n",
      "Epoch 27/30\n",
      "50000/50000 [==============================] - 35s 692us/step - loss: 0.5446 - accuracy: 0.8163 - val_loss: 0.3364 - val_accuracy: 0.8937\n",
      "Epoch 28/30\n",
      "50000/50000 [==============================] - 34s 675us/step - loss: 0.5470 - accuracy: 0.8161 - val_loss: 0.4757 - val_accuracy: 0.8417\n",
      "Epoch 29/30\n",
      "50000/50000 [==============================] - 35s 699us/step - loss: 0.5501 - accuracy: 0.8162 - val_loss: 0.9634 - val_accuracy: 0.6850\n",
      "Epoch 30/30\n",
      "50000/50000 [==============================] - 36s 713us/step - loss: 0.5527 - accuracy: 0.8152 - val_loss: 0.3864 - val_accuracy: 0.8773\n"
     ]
    }
   ],
   "source": [
    "history = model.fit(x_train,trainY,epochs = 30,batch_size  =60,validation_data = (x_val,y_val))"
   ]
  },
  {
   "cell_type": "code",
   "execution_count": 28,
   "metadata": {},
   "outputs": [
    {
     "data": {
      "image/png": "[encoded data removed]",
      "text/plain": [
       "<Figure size 432x288 with 1 Axes>"
      ]
     },
     "metadata": {
      "needs_background": "light"
     },
     "output_type": "display_data"
    }
   ],
   "source": [
    "import matplotlib.pyplot as plt\n",
    "loss = history.history['loss']\n",
    "val_loss = history.history['val_loss']\n",
    "epochs = range(1,len(loss) + 1)\n",
    "plt.plot(epochs,loss,'bo',label='Training loss')\n",
    "plt.plot(epochs,val_loss,'b',label='Validation loss')\n",
    "plt.title('Training and validation loss')\n",
    "plt.xlabel('Epochs')\n",
    "plt.ylabel('Loss')\n",
    "plt.legend()\n",
    "plt.show()"
   ]
  },
  {
   "cell_type": "code",
   "execution_count": 29,
   "metadata": {},
   "outputs": [
    {
     "name": "stdout",
     "output_type": "stream",
     "text": [
      "10000/10000 [==============================] - 2s 201us/step\n"
     ]
    }
   ],
   "source": [
    "result =model.evaluate(X_test,testY)"
   ]
  },
  {
   "cell_type": "code",
   "execution_count": 30,
   "metadata": {},
   "outputs": [
    {
     "name": "stdout",
     "output_type": "stream",
     "text": [
      "[0.8636185321807861, 0.7178000211715698]\n"
     ]
    }
   ],
   "source": [
    "print(result)"
   ]
  },
  {
   "cell_type": "code",
   "execution_count": null,
   "metadata": {},
   "outputs": [],
   "source": []
  }
 ],
 "metadata": {
  "kernelspec": {
   "display_name": "Python 3",
   "language": "python",
   "name": "python3"
  },
  "language_info": {
   "codemirror_mode": {
    "name": "ipython",
    "version": 3
   },
   "file_extension": ".py",
   "mimetype": "text/x-python",
   "name": "python",
   "nbconvert_exporter": "python",
   "pygments_lexer": "ipython3",
   "version": "3.7.4"
  }
 },
 "nbformat": 4,
 "nbformat_minor": 2
}
