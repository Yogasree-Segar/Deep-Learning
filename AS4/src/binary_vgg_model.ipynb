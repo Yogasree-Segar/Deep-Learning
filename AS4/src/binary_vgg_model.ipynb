{
 "cells": [
  {
   "cell_type": "code",
   "execution_count": 1,
   "metadata": {},
   "outputs": [
    {
     "name": "stdout",
     "output_type": "stream",
     "text": [
      "Requirement already satisfied: split-folders in c:\\users\\divya\\anaconda3\\lib\\site-packages (0.3.1)\n",
      "Note: you may need to restart the kernel to use updated packages.\n"
     ]
    }
   ],
   "source": [
    "pip install split-folders"
   ]
  },
  {
   "cell_type": "code",
   "execution_count": 2,
   "metadata": {},
   "outputs": [],
   "source": [
    "import os\n",
    "import split_folders\n",
    "from PIL import Image"
   ]
  },
  {
   "cell_type": "code",
   "execution_count": 5,
   "metadata": {},
   "outputs": [],
   "source": [
    "cat_dir = 'C:\\\\Users\\\\divya\\\\OneDrive\\\\Desktop\\\\PetImages\\\\input\\\\Cat'\n",
    "dog_dir = 'C:\\\\Users\\\\divya\\\\OneDrive\\\\Desktop\\\\PetImages\\\\input\\\\Dog'"
   ]
  },
  {
   "cell_type": "code",
   "execution_count": 6,
   "metadata": {},
   "outputs": [],
   "source": [
    "no_of_images = 1\n",
    "for filename in os.listdir(cat_dir):\n",
    "    filepath = os.path.join(cat_dir, filename)\n",
    "    try:\n",
    "        with Image.open(filepath) as im:\n",
    "            if(no_of_images > 2000):\n",
    "                os.remove(filepath)\n",
    "            no_of_images = no_of_images + 1\n",
    "    except:\n",
    "        os.remove(filepath)"
   ]
  },
  {
   "cell_type": "code",
   "execution_count": 7,
   "metadata": {},
   "outputs": [],
   "source": [
    "no_of_images = 1\n",
    "for filename in os.listdir(dog_dir):\n",
    "    filepath = os.path.join(dog_dir, filename)\n",
    "    try:\n",
    "        with Image.open(filepath) as im:\n",
    "            if(no_of_images > 2000):\n",
    "                os.remove(filepath)\n",
    "            no_of_images = no_of_images + 1\n",
    "    except:\n",
    "        os.remove(filepath)"
   ]
  },
  {
   "cell_type": "code",
   "execution_count": 8,
   "metadata": {},
   "outputs": [
    {
     "name": "stderr",
     "output_type": "stream",
     "text": [
      "Copying files: 4000 files [00:06, 636.92 files/s]\n"
     ]
    }
   ],
   "source": [
    "input = 'C:\\\\Users\\\\divya\\\\OneDrive\\\\Desktop\\\\PetImages\\\\input'\n",
    "split_folders.ratio(input, output='C:\\\\Users\\\\divya\\\\OneDrive\\\\Desktop\\\\PetImages\\\\output', seed=1337, ratio=(.8, .1, .1)) # default values"
   ]
  },
  {
   "cell_type": "code",
   "execution_count": 9,
   "metadata": {},
   "outputs": [
    {
     "name": "stderr",
     "output_type": "stream",
     "text": [
      "Using TensorFlow backend.\n"
     ]
    }
   ],
   "source": [
    "from keras.preprocessing.image import ImageDataGenerator\n",
    "train_datagen = ImageDataGenerator(rescale=1./255)\n",
    "test_datagen = ImageDataGenerator(rescale=1./255)"
   ]
  },
  {
   "cell_type": "code",
   "execution_count": 10,
   "metadata": {},
   "outputs": [],
   "source": [
    "train_dir = 'C:\\\\Users\\\\divya\\\\OneDrive\\\\Desktop\\\\PetImages\\\\output\\\\train'\n",
    "test_dir = 'C:\\\\Users\\\\divya\\\\OneDrive\\\\Desktop\\\\PetImages\\\\output\\\\test'\n",
    "val_dir = 'C:\\\\Users\\\\divya\\\\OneDrive\\\\Desktop\\\\PetImages\\\\output\\\\val'"
   ]
  },
  {
   "cell_type": "code",
   "execution_count": 11,
   "metadata": {},
   "outputs": [
    {
     "name": "stdout",
     "output_type": "stream",
     "text": [
      "Found 3200 images belonging to 2 classes.\n"
     ]
    }
   ],
   "source": [
    "train_generator = train_datagen.flow_from_directory(train_dir,target_size=(150, 150),batch_size=32,class_mode='binary')"
   ]
  },
  {
   "cell_type": "code",
   "execution_count": 12,
   "metadata": {},
   "outputs": [
    {
     "name": "stdout",
     "output_type": "stream",
     "text": [
      "Found 400 images belonging to 2 classes.\n"
     ]
    }
   ],
   "source": [
    "test_generator = test_datagen.flow_from_directory(test_dir,target_size=(150, 150),batch_size=32,class_mode='binary')"
   ]
  },
  {
   "cell_type": "code",
   "execution_count": 13,
   "metadata": {},
   "outputs": [
    {
     "name": "stdout",
     "output_type": "stream",
     "text": [
      "Found 400 images belonging to 2 classes.\n"
     ]
    }
   ],
   "source": [
    "val_generator = test_datagen.flow_from_directory(val_dir,target_size=(150, 150),batch_size=32,class_mode='binary')"
   ]
  },
  {
   "cell_type": "code",
   "execution_count": 14,
   "metadata": {},
   "outputs": [
    {
     "name": "stdout",
     "output_type": "stream",
     "text": [
      "Model: \"sequential_1\"\n",
      "_________________________________________________________________\n",
      "Layer (type)                 Output Shape              Param #   \n",
      "=================================================================\n",
      "conv2d_1 (Conv2D)            (None, 148, 148, 32)      896       \n",
      "_________________________________________________________________\n",
      "max_pooling2d_1 (MaxPooling2 (None, 74, 74, 32)        0         \n",
      "_________________________________________________________________\n",
      "dropout_1 (Dropout)          (None, 74, 74, 32)        0         \n",
      "_________________________________________________________________\n",
      "conv2d_2 (Conv2D)            (None, 72, 72, 64)        18496     \n",
      "_________________________________________________________________\n",
      "max_pooling2d_2 (MaxPooling2 (None, 36, 36, 64)        0         \n",
      "_________________________________________________________________\n",
      "dropout_2 (Dropout)          (None, 36, 36, 64)        0         \n",
      "_________________________________________________________________\n",
      "conv2d_3 (Conv2D)            (None, 34, 34, 128)       73856     \n",
      "_________________________________________________________________\n",
      "max_pooling2d_3 (MaxPooling2 (None, 17, 17, 128)       0         \n",
      "_________________________________________________________________\n",
      "conv2d_4 (Conv2D)            (None, 15, 15, 128)       147584    \n",
      "_________________________________________________________________\n",
      "max_pooling2d_4 (MaxPooling2 (None, 7, 7, 128)         0         \n",
      "_________________________________________________________________\n",
      "flatten_1 (Flatten)          (None, 6272)              0         \n",
      "_________________________________________________________________\n",
      "dense_1 (Dense)              (None, 512)               3211776   \n",
      "_________________________________________________________________\n",
      "dense_2 (Dense)              (None, 1)                 513       \n",
      "=================================================================\n",
      "Total params: 3,453,121\n",
      "Trainable params: 3,453,121\n",
      "Non-trainable params: 0\n",
      "_________________________________________________________________\n"
     ]
    }
   ],
   "source": [
    "from keras import layers\n",
    "from keras import models\n",
    "model = models.Sequential()\n",
    "model.add(layers.Conv2D(32,(3,3),activation='relu',input_shape=(150,150,3)))\n",
    "model.add(layers.MaxPooling2D((2,2)))\n",
    "model.add(layers.Dropout(0.25))\n",
    "\n",
    "model.add(layers.Conv2D(64,(3,3),activation='relu'))\n",
    "model.add(layers.MaxPooling2D((2,2)))\n",
    "model.add(layers.Dropout(0.25))\n",
    "\n",
    "model.add(layers.Conv2D(128,(3,3),activation='relu'))\n",
    "model.add(layers.MaxPooling2D((2,2)))\n",
    "model.add(layers.Conv2D(128,(3,3),activation='relu'))\n",
    "model.add(layers.MaxPooling2D((2,2)))\n",
    "model.add(layers.Flatten())\n",
    "model.add(layers.Dense(512, activation = 'relu'))\n",
    "model.add(layers.Dense(1, activation = 'sigmoid'))\n",
    "model.summary()"
   ]
  },
  {
   "cell_type": "code",
   "execution_count": 15,
   "metadata": {},
   "outputs": [],
   "source": [
    "from keras import optimizers\n",
    "#opt = SGD(lr=0.001, momentum=0.9)\n",
    "model.compile(loss = 'binary_crossentropy',optimizer = 'rmsprop', metrics=['accuracy'])"
   ]
  },
  {
   "cell_type": "code",
   "execution_count": 16,
   "metadata": {},
   "outputs": [
    {
     "name": "stdout",
     "output_type": "stream",
     "text": [
      "Epoch 1/15\n",
      "100/100 [==============================] - 58s 578ms/step - loss: 0.7149 - accuracy: 0.5391 - val_loss: 0.6807 - val_accuracy: 0.5503\n",
      "Epoch 2/15\n",
      "100/100 [==============================] - 58s 584ms/step - loss: 0.6696 - accuracy: 0.5994 - val_loss: 0.6089 - val_accuracy: 0.6217\n",
      "Epoch 3/15\n",
      "100/100 [==============================] - 56s 558ms/step - loss: 0.6210 - accuracy: 0.6500 - val_loss: 0.5124 - val_accuracy: 0.6706\n",
      "Epoch 4/15\n",
      "100/100 [==============================] - 55s 551ms/step - loss: 0.6004 - accuracy: 0.6809 - val_loss: 0.5746 - val_accuracy: 0.6445\n",
      "Epoch 5/15\n",
      "100/100 [==============================] - 56s 558ms/step - loss: 0.5682 - accuracy: 0.7109 - val_loss: 0.4840 - val_accuracy: 0.6940\n",
      "Epoch 6/15\n",
      "100/100 [==============================] - 56s 561ms/step - loss: 0.5307 - accuracy: 0.7366 - val_loss: 0.6992 - val_accuracy: 0.6823\n",
      "Epoch 7/15\n",
      "100/100 [==============================] - 55s 554ms/step - loss: 0.5007 - accuracy: 0.7622 - val_loss: 0.6197 - val_accuracy: 0.6978\n",
      "Epoch 8/15\n",
      "100/100 [==============================] - 57s 575ms/step - loss: 0.4476 - accuracy: 0.7862 - val_loss: 0.5115 - val_accuracy: 0.6790\n",
      "Epoch 9/15\n",
      "100/100 [==============================] - 53s 530ms/step - loss: 0.4146 - accuracy: 0.8034 - val_loss: 0.4891 - val_accuracy: 0.7129\n",
      "Epoch 10/15\n",
      "100/100 [==============================] - 65s 649ms/step - loss: 0.3764 - accuracy: 0.8325 - val_loss: 0.4395 - val_accuracy: 0.7305\n",
      "Epoch 11/15\n",
      "100/100 [==============================] - 67s 670ms/step - loss: 0.3258 - accuracy: 0.8512 - val_loss: 0.8643 - val_accuracy: 0.6882\n",
      "Epoch 12/15\n",
      "100/100 [==============================] - 74s 738ms/step - loss: 0.2854 - accuracy: 0.8784 - val_loss: 0.7840 - val_accuracy: 0.7559\n",
      "Epoch 13/15\n",
      "100/100 [==============================] - 72s 722ms/step - loss: 0.2480 - accuracy: 0.8938 - val_loss: 1.2183 - val_accuracy: 0.7266\n",
      "Epoch 14/15\n",
      "100/100 [==============================] - 73s 729ms/step - loss: 0.2142 - accuracy: 0.9125 - val_loss: 0.1249 - val_accuracy: 0.7726\n",
      "Epoch 15/15\n",
      "100/100 [==============================] - 73s 731ms/step - loss: 0.1807 - accuracy: 0.9312 - val_loss: 0.6123 - val_accuracy: 0.7513\n"
     ]
    }
   ],
   "source": [
    "history = model.fit_generator(train_generator, steps_per_epoch = 100, epochs = 15, validation_data = val_generator, validation_steps = 50)"
   ]
  },
  {
   "cell_type": "code",
   "execution_count": 17,
   "metadata": {},
   "outputs": [],
   "source": [
    "test_loss, test_acc = model.evaluate_generator(test_generator)"
   ]
  },
  {
   "cell_type": "code",
   "execution_count": 18,
   "metadata": {},
   "outputs": [
    {
     "name": "stdout",
     "output_type": "stream",
     "text": [
      "0.7950000166893005\n"
     ]
    }
   ],
   "source": [
    "print(test_acc)"
   ]
  },
  {
   "cell_type": "code",
   "execution_count": 19,
   "metadata": {},
   "outputs": [
    {
     "data": {
      "image/png": "[encoded data removed]",
      "text/plain": [
       "<Figure size 432x288 with 1 Axes>"
      ]
     },
     "metadata": {
      "needs_background": "light"
     },
     "output_type": "display_data"
    }
   ],
   "source": [
    "import matplotlib.pyplot as plt\n",
    "loss = history.history['loss']\n",
    "val_loss = history.history['val_loss']\n",
    "epochs = range(1,len(loss) + 1)\n",
    "plt.plot(epochs,loss,'bo',label='Training loss')\n",
    "plt.plot(epochs,val_loss,'b',label='Validation loss')\n",
    "plt.title('Training and validation loss')\n",
    "plt.xlabel('Epochs')\n",
    "plt.ylabel('Loss')\n",
    "plt.legend()\n",
    "plt.show()"
   ]
  },
  {
   "cell_type": "code",
   "execution_count": 20,
   "metadata": {},
   "outputs": [],
   "source": [
    "train_cat_dir = 'C:\\\\Users\\\\divya\\\\OneDrive\\\\Desktop\\\\PetImages\\\\output\\\\train\\\\Cat'\n",
    "train_dog_dir = 'C:\\\\Users\\\\divya\\\\OneDrive\\\\Desktop\\\\PetImages\\\\output\\\\train\\\\Dog'"
   ]
  },
  {
   "cell_type": "code",
   "execution_count": 21,
   "metadata": {},
   "outputs": [],
   "source": [
    "datagen = ImageDataGenerator(rotation_range = 40, width_shift_range = 0.2, height_shift_range = 0.2, shear_range = 0.2, zoom_range = 0.2, horizontal_flip = True, fill_mode = 'nearest')\n"
   ]
  },
  {
   "cell_type": "code",
   "execution_count": 22,
   "metadata": {},
   "outputs": [
    {
     "name": "stdout",
     "output_type": "stream",
     "text": [
      "Model: \"sequential_2\"\n",
      "_________________________________________________________________\n",
      "Layer (type)                 Output Shape              Param #   \n",
      "=================================================================\n",
      "conv2d_5 (Conv2D)            (None, 148, 148, 32)      896       \n",
      "_________________________________________________________________\n",
      "max_pooling2d_5 (MaxPooling2 (None, 74, 74, 32)        0         \n",
      "_________________________________________________________________\n",
      "dropout_3 (Dropout)          (None, 74, 74, 32)        0         \n",
      "_________________________________________________________________\n",
      "conv2d_6 (Conv2D)            (None, 72, 72, 64)        18496     \n",
      "_________________________________________________________________\n",
      "max_pooling2d_6 (MaxPooling2 (None, 36, 36, 64)        0         \n",
      "_________________________________________________________________\n",
      "dropout_4 (Dropout)          (None, 36, 36, 64)        0         \n",
      "_________________________________________________________________\n",
      "conv2d_7 (Conv2D)            (None, 34, 34, 128)       73856     \n",
      "_________________________________________________________________\n",
      "max_pooling2d_7 (MaxPooling2 (None, 17, 17, 128)       0         \n",
      "_________________________________________________________________\n",
      "conv2d_8 (Conv2D)            (None, 15, 15, 128)       147584    \n",
      "_________________________________________________________________\n",
      "max_pooling2d_8 (MaxPooling2 (None, 7, 7, 128)         0         \n",
      "_________________________________________________________________\n",
      "dropout_5 (Dropout)          (None, 7, 7, 128)         0         \n",
      "_________________________________________________________________\n",
      "flatten_2 (Flatten)          (None, 6272)              0         \n",
      "_________________________________________________________________\n",
      "dense_3 (Dense)              (None, 512)               3211776   \n",
      "_________________________________________________________________\n",
      "dense_4 (Dense)              (None, 1)                 513       \n",
      "=================================================================\n",
      "Total params: 3,453,121\n",
      "Trainable params: 3,453,121\n",
      "Non-trainable params: 0\n",
      "_________________________________________________________________\n"
     ]
    }
   ],
   "source": [
    "from keras import layers\n",
    "from keras import models\n",
    "model = models.Sequential()\n",
    "model.add(layers.Conv2D(32,(3,3),activation='relu',input_shape=(150,150,3)))\n",
    "model.add(layers.MaxPooling2D((2,2)))\n",
    "model.add(layers.Dropout(0.25))\n",
    "\n",
    "model.add(layers.Conv2D(64,(3,3),activation='relu'))\n",
    "model.add(layers.MaxPooling2D((2,2)))\n",
    "model.add(layers.Dropout(0.25))\n",
    "\n",
    "model.add(layers.Conv2D(128,(3,3),activation='relu'))\n",
    "model.add(layers.MaxPooling2D((2,2)))\n",
    "model.add(layers.Conv2D(128,(3,3),activation='relu'))\n",
    "model.add(layers.MaxPooling2D((2,2)))\n",
    "model.add(layers.Dropout(0.25))\n",
    "\n",
    "model.add(layers.Flatten())\n",
    "model.add(layers.Dense(512, activation = 'relu'))\n",
    "model.add(layers.Dense(1, activation = 'sigmoid'))\n",
    "model.summary()"
   ]
  },
  {
   "cell_type": "code",
   "execution_count": 23,
   "metadata": {},
   "outputs": [
    {
     "name": "stdout",
     "output_type": "stream",
     "text": [
      "Found 3200 images belonging to 2 classes.\n"
     ]
    }
   ],
   "source": [
    "train_datagenerator = ImageDataGenerator(rescale=1./255, rotation_range = 40, width_shift_range = 0.2, height_shift_range = 0.2, shear_range = 0.2, zoom_range = 0.2, horizontal_flip = True)\n",
    "train_generator_augment = train_datagenerator.flow_from_directory(train_dir,target_size=(150, 150),batch_size=32,class_mode='binary')"
   ]
  },
  {
   "cell_type": "code",
   "execution_count": 24,
   "metadata": {},
   "outputs": [],
   "source": [
    "from keras import optimizers\n",
    "#opt = SGD(lr=0.001, momentum=0.9)\n",
    "model.compile(loss = 'binary_crossentropy',optimizer = 'rmsprop', metrics=['accuracy'])"
   ]
  },
  {
   "cell_type": "code",
   "execution_count": 25,
   "metadata": {},
   "outputs": [
    {
     "name": "stdout",
     "output_type": "stream",
     "text": [
      "Epoch 1/25\n",
      "100/100 [==============================] - 88s 880ms/step - loss: 0.8209 - accuracy: 0.5050 - val_loss: 0.6901 - val_accuracy: 0.5000\n",
      "Epoch 2/25\n",
      "100/100 [==============================] - 80s 796ms/step - loss: 0.6951 - accuracy: 0.5359 - val_loss: 0.7454 - val_accuracy: 0.5000\n",
      "Epoch 3/25\n",
      "100/100 [==============================] - 79s 788ms/step - loss: 0.6860 - accuracy: 0.5694 - val_loss: 0.6768 - val_accuracy: 0.5358\n",
      "Epoch 4/25\n",
      "100/100 [==============================] - 78s 779ms/step - loss: 0.6781 - accuracy: 0.5913 - val_loss: 0.6254 - val_accuracy: 0.6204\n",
      "Epoch 5/25\n",
      "100/100 [==============================] - 79s 787ms/step - loss: 0.6657 - accuracy: 0.6266 - val_loss: 0.5428 - val_accuracy: 0.6302\n",
      "Epoch 6/25\n",
      "100/100 [==============================] - 78s 784ms/step - loss: 0.6428 - accuracy: 0.6334 - val_loss: 0.5622 - val_accuracy: 0.6230\n",
      "Epoch 7/25\n",
      "100/100 [==============================] - 68s 675ms/step - loss: 0.6322 - accuracy: 0.6525 - val_loss: 0.6577 - val_accuracy: 0.6933\n",
      "Epoch 8/25\n",
      "100/100 [==============================] - 55s 549ms/step - loss: 0.6280 - accuracy: 0.6478 - val_loss: 0.6204 - val_accuracy: 0.6999\n",
      "Epoch 9/25\n",
      "100/100 [==============================] - 54s 542ms/step - loss: 0.6172 - accuracy: 0.6603 - val_loss: 0.5025 - val_accuracy: 0.7122\n",
      "Epoch 10/25\n",
      "100/100 [==============================] - 53s 528ms/step - loss: 0.6092 - accuracy: 0.6737 - val_loss: 0.5725 - val_accuracy: 0.7272\n",
      "Epoch 11/25\n",
      "100/100 [==============================] - 52s 525ms/step - loss: 0.5935 - accuracy: 0.6791 - val_loss: 0.5629 - val_accuracy: 0.7513\n",
      "Epoch 12/25\n",
      "100/100 [==============================] - 53s 529ms/step - loss: 0.5932 - accuracy: 0.6819 - val_loss: 0.6111 - val_accuracy: 0.7012\n",
      "Epoch 13/25\n",
      "100/100 [==============================] - 52s 524ms/step - loss: 0.6031 - accuracy: 0.6891 - val_loss: 0.5778 - val_accuracy: 0.7122\n",
      "Epoch 14/25\n",
      "100/100 [==============================] - 53s 530ms/step - loss: 0.5794 - accuracy: 0.7000 - val_loss: 0.5781 - val_accuracy: 0.7023\n",
      "Epoch 15/25\n",
      "100/100 [==============================] - 53s 527ms/step - loss: 0.6067 - accuracy: 0.6900 - val_loss: 0.3389 - val_accuracy: 0.7520\n",
      "Epoch 16/25\n",
      "100/100 [==============================] - 53s 527ms/step - loss: 0.5721 - accuracy: 0.7009 - val_loss: 0.5572 - val_accuracy: 0.7565\n",
      "Epoch 17/25\n",
      "100/100 [==============================] - 54s 539ms/step - loss: 0.5680 - accuracy: 0.7106 - val_loss: 0.4871 - val_accuracy: 0.7559\n",
      "Epoch 18/25\n",
      "100/100 [==============================] - 53s 528ms/step - loss: 0.5767 - accuracy: 0.6938 - val_loss: 0.5586 - val_accuracy: 0.7396\n",
      "Epoch 19/25\n",
      "100/100 [==============================] - 53s 527ms/step - loss: 0.5547 - accuracy: 0.7250 - val_loss: 0.5611 - val_accuracy: 0.7526\n",
      "Epoch 20/25\n",
      "100/100 [==============================] - 53s 528ms/step - loss: 0.5456 - accuracy: 0.7262 - val_loss: 0.7017 - val_accuracy: 0.7094\n",
      "Epoch 21/25\n",
      "100/100 [==============================] - 53s 527ms/step - loss: 0.5569 - accuracy: 0.7169 - val_loss: 0.3368 - val_accuracy: 0.7298\n",
      "Epoch 22/25\n",
      "100/100 [==============================] - 53s 529ms/step - loss: 0.5384 - accuracy: 0.7319 - val_loss: 0.9011 - val_accuracy: 0.7194\n",
      "Epoch 23/25\n",
      "100/100 [==============================] - 53s 530ms/step - loss: 0.5361 - accuracy: 0.7397 - val_loss: 0.7070 - val_accuracy: 0.7142\n",
      "Epoch 24/25\n",
      "100/100 [==============================] - 52s 524ms/step - loss: 0.5328 - accuracy: 0.7500 - val_loss: 0.5032 - val_accuracy: 0.7995\n",
      "Epoch 25/25\n",
      "100/100 [==============================] - 52s 524ms/step - loss: 0.5364 - accuracy: 0.7291 - val_loss: 0.4603 - val_accuracy: 0.7676\n"
     ]
    }
   ],
   "source": [
    "history = model.fit_generator(train_generator_augment, steps_per_epoch = 100, epochs = 25, validation_data = val_generator, validation_steps = 50)\n"
   ]
  },
  {
   "cell_type": "code",
   "execution_count": 26,
   "metadata": {},
   "outputs": [
    {
     "name": "stdout",
     "output_type": "stream",
     "text": [
      "0.7925000190734863\n"
     ]
    }
   ],
   "source": [
    "test_loss, test_acc = model.evaluate_generator(test_generator)\n",
    "print(test_acc)"
   ]
  },
  {
   "cell_type": "code",
   "execution_count": 27,
   "metadata": {},
   "outputs": [
    {
     "name": "stdout",
     "output_type": "stream",
     "text": [
      "Downloading data from https://github.com/fchollet/deep-learning-models/releases/download/v0.1/vgg16_weights_tf_dim_ordering_tf_kernels_notop.h5\n",
      "58892288/58889256 [==============================] - 3s 0us/step\n",
      "Model: \"vgg16\"\n",
      "_________________________________________________________________\n",
      "Layer (type)                 Output Shape              Param #   \n",
      "=================================================================\n",
      "input_1 (InputLayer)         (None, 150, 150, 3)       0         \n",
      "_________________________________________________________________\n",
      "block1_conv1 (Conv2D)        (None, 150, 150, 64)      1792      \n",
      "_________________________________________________________________\n",
      "block1_conv2 (Conv2D)        (None, 150, 150, 64)      36928     \n",
      "_________________________________________________________________\n",
      "block1_pool (MaxPooling2D)   (None, 75, 75, 64)        0         \n",
      "_________________________________________________________________\n",
      "block2_conv1 (Conv2D)        (None, 75, 75, 128)       73856     \n",
      "_________________________________________________________________\n",
      "block2_conv2 (Conv2D)        (None, 75, 75, 128)       147584    \n",
      "_________________________________________________________________\n",
      "block2_pool (MaxPooling2D)   (None, 37, 37, 128)       0         \n",
      "_________________________________________________________________\n",
      "block3_conv1 (Conv2D)        (None, 37, 37, 256)       295168    \n",
      "_________________________________________________________________\n",
      "block3_conv2 (Conv2D)        (None, 37, 37, 256)       590080    \n",
      "_________________________________________________________________\n",
      "block3_conv3 (Conv2D)        (None, 37, 37, 256)       590080    \n",
      "_________________________________________________________________\n",
      "block3_pool (MaxPooling2D)   (None, 18, 18, 256)       0         \n",
      "_________________________________________________________________\n",
      "block4_conv1 (Conv2D)        (None, 18, 18, 512)       1180160   \n",
      "_________________________________________________________________\n",
      "block4_conv2 (Conv2D)        (None, 18, 18, 512)       2359808   \n",
      "_________________________________________________________________\n",
      "block4_conv3 (Conv2D)        (None, 18, 18, 512)       2359808   \n",
      "_________________________________________________________________\n",
      "block4_pool (MaxPooling2D)   (None, 9, 9, 512)         0         \n",
      "_________________________________________________________________\n",
      "block5_conv1 (Conv2D)        (None, 9, 9, 512)         2359808   \n",
      "_________________________________________________________________\n",
      "block5_conv2 (Conv2D)        (None, 9, 9, 512)         2359808   \n",
      "_________________________________________________________________\n",
      "block5_conv3 (Conv2D)        (None, 9, 9, 512)         2359808   \n",
      "_________________________________________________________________\n",
      "block5_pool (MaxPooling2D)   (None, 4, 4, 512)         0         \n",
      "=================================================================\n",
      "Total params: 14,714,688\n",
      "Trainable params: 14,714,688\n",
      "Non-trainable params: 0\n",
      "_________________________________________________________________\n"
     ]
    }
   ],
   "source": [
    "from keras.applications import VGG16\n",
    "conv_base = VGG16(weights = 'imagenet', include_top = False, input_shape = (150, 150, 3))\n",
    "conv_base.summary()"
   ]
  },
  {
   "cell_type": "code",
   "execution_count": 28,
   "metadata": {},
   "outputs": [],
   "source": [
    "import os\n",
    "import numpy as np\n",
    "from keras.preprocessing.image import ImageDataGenerator\n",
    "base_dir = 'C:\\\\Users\\\\divya\\\\OneDrive\\\\Desktop\\\\PetImages\\\\output'\n",
    "train_dir = os.path.join(base_dir, 'train')\n",
    "val_dir = os.path.join(base_dir, 'val')\n",
    "test_dir = os.path.join(base_dir, 'test')\n",
    "datagen = ImageDataGenerator(rescale = 1./255)\n",
    "batch_size = 20"
   ]
  },
  {
   "cell_type": "code",
   "execution_count": 29,
   "metadata": {},
   "outputs": [
    {
     "name": "stdout",
     "output_type": "stream",
     "text": [
      "Model: \"sequential_3\"\n",
      "_________________________________________________________________\n",
      "Layer (type)                 Output Shape              Param #   \n",
      "=================================================================\n",
      "vgg16 (Model)                (None, 4, 4, 512)         14714688  \n",
      "_________________________________________________________________\n",
      "flatten_3 (Flatten)          (None, 8192)              0         \n",
      "_________________________________________________________________\n",
      "dense_5 (Dense)              (None, 256)               2097408   \n",
      "_________________________________________________________________\n",
      "dense_6 (Dense)              (None, 1)                 257       \n",
      "=================================================================\n",
      "Total params: 16,812,353\n",
      "Trainable params: 16,812,353\n",
      "Non-trainable params: 0\n",
      "_________________________________________________________________\n"
     ]
    }
   ],
   "source": [
    "from keras import models\n",
    "from keras import layers\n",
    "model = models.Sequential()\n",
    "model.add(conv_base)\n",
    "model.add(layers.Flatten())\n",
    "model.add(layers.Dense(256, activation = 'relu'))\n",
    "model.add(layers.Dense(1, activation = 'sigmoid'))\n",
    "model.summary()"
   ]
  },
  {
   "cell_type": "code",
   "execution_count": 30,
   "metadata": {},
   "outputs": [],
   "source": [
    "conv_base.trainable = False"
   ]
  },
  {
   "cell_type": "code",
   "execution_count": 31,
   "metadata": {},
   "outputs": [
    {
     "name": "stdout",
     "output_type": "stream",
     "text": [
      "Model: \"sequential_4\"\n",
      "_________________________________________________________________\n",
      "Layer (type)                 Output Shape              Param #   \n",
      "=================================================================\n",
      "vgg16 (Model)                (None, 4, 4, 512)         14714688  \n",
      "_________________________________________________________________\n",
      "flatten_4 (Flatten)          (None, 8192)              0         \n",
      "_________________________________________________________________\n",
      "dense_7 (Dense)              (None, 256)               2097408   \n",
      "_________________________________________________________________\n",
      "dense_8 (Dense)              (None, 1)                 257       \n",
      "=================================================================\n",
      "Total params: 16,812,353\n",
      "Trainable params: 2,097,665\n",
      "Non-trainable params: 14,714,688\n",
      "_________________________________________________________________\n"
     ]
    }
   ],
   "source": [
    "from keras import models\n",
    "from keras import layers\n",
    "model = models.Sequential()\n",
    "model.add(conv_base)\n",
    "model.add(layers.Flatten())\n",
    "model.add(layers.Dense(256, activation = 'relu'))\n",
    "model.add(layers.Dense(1, activation = 'sigmoid'))\n",
    "model.summary()"
   ]
  },
  {
   "cell_type": "code",
   "execution_count": 32,
   "metadata": {},
   "outputs": [],
   "source": [
    "from keras import optimizers\n",
    "#opt = SGD(lr=0.001, momentum=0.9)\n",
    "model.compile(loss = 'binary_crossentropy',optimizer = 'rmsprop', metrics=['accuracy'])"
   ]
  },
  {
   "cell_type": "code",
   "execution_count": 33,
   "metadata": {},
   "outputs": [
    {
     "name": "stdout",
     "output_type": "stream",
     "text": [
      "Epoch 1/25\n",
      "100/100 [==============================] - 209s 2s/step - loss: 0.9055 - accuracy: 0.6800 - val_loss: 0.3958 - val_accuracy: 0.8518\n",
      "Epoch 2/25\n",
      "100/100 [==============================] - 217s 2s/step - loss: 0.4801 - accuracy: 0.7784 - val_loss: 0.2284 - val_accuracy: 0.8587\n",
      "Epoch 3/25\n",
      "100/100 [==============================] - 207s 2s/step - loss: 0.4483 - accuracy: 0.7966 - val_loss: 0.3953 - val_accuracy: 0.8418\n",
      "Epoch 4/25\n",
      "100/100 [==============================] - 206s 2s/step - loss: 0.4182 - accuracy: 0.8009 - val_loss: 0.3198 - val_accuracy: 0.8249\n",
      "Epoch 5/25\n",
      "100/100 [==============================] - 205s 2s/step - loss: 0.4021 - accuracy: 0.8156 - val_loss: 0.2188 - val_accuracy: 0.8717\n",
      "Epoch 6/25\n",
      "100/100 [==============================] - 206s 2s/step - loss: 0.3888 - accuracy: 0.8209 - val_loss: 0.2603 - val_accuracy: 0.8841\n",
      "Epoch 7/25\n",
      "100/100 [==============================] - 205s 2s/step - loss: 0.3751 - accuracy: 0.8325 - val_loss: 0.2519 - val_accuracy: 0.8550\n",
      "Epoch 8/25\n",
      "100/100 [==============================] - 205s 2s/step - loss: 0.3599 - accuracy: 0.8394 - val_loss: 0.1836 - val_accuracy: 0.8965\n",
      "Epoch 9/25\n",
      "100/100 [==============================] - 206s 2s/step - loss: 0.3436 - accuracy: 0.8475 - val_loss: 0.1924 - val_accuracy: 0.8952\n",
      "Epoch 10/25\n",
      "100/100 [==============================] - 205s 2s/step - loss: 0.3290 - accuracy: 0.8537 - val_loss: 0.2942 - val_accuracy: 0.8900\n",
      "Epoch 11/25\n",
      "100/100 [==============================] - 206s 2s/step - loss: 0.3164 - accuracy: 0.8597 - val_loss: 0.3067 - val_accuracy: 0.8652\n",
      "Epoch 12/25\n",
      "100/100 [==============================] - 206s 2s/step - loss: 0.3056 - accuracy: 0.8619 - val_loss: 0.2444 - val_accuracy: 0.8919\n",
      "Epoch 13/25\n",
      "100/100 [==============================] - 207s 2s/step - loss: 0.3089 - accuracy: 0.8641 - val_loss: 0.2893 - val_accuracy: 0.8874\n",
      "Epoch 14/25\n",
      "100/100 [==============================] - 206s 2s/step - loss: 0.3144 - accuracy: 0.8622 - val_loss: 0.3068 - val_accuracy: 0.8976\n",
      "Epoch 15/25\n",
      "100/100 [==============================] - 205s 2s/step - loss: 0.3054 - accuracy: 0.8597 - val_loss: 0.4219 - val_accuracy: 0.8522\n",
      "Epoch 16/25\n",
      "100/100 [==============================] - 205s 2s/step - loss: 0.3028 - accuracy: 0.8706 - val_loss: 0.5112 - val_accuracy: 0.8919\n",
      "Epoch 17/25\n",
      "100/100 [==============================] - 205s 2s/step - loss: 0.3014 - accuracy: 0.8722 - val_loss: 0.1677 - val_accuracy: 0.8750\n",
      "Epoch 18/25\n",
      "100/100 [==============================] - 206s 2s/step - loss: 0.2889 - accuracy: 0.8681 - val_loss: 0.1605 - val_accuracy: 0.9004\n",
      "Epoch 19/25\n",
      "100/100 [==============================] - 206s 2s/step - loss: 0.2954 - accuracy: 0.8781 - val_loss: 0.2691 - val_accuracy: 0.9010\n",
      "Epoch 20/25\n",
      "100/100 [==============================] - 207s 2s/step - loss: 0.3019 - accuracy: 0.8684 - val_loss: 0.3514 - val_accuracy: 0.8905\n",
      "Epoch 21/25\n",
      "100/100 [==============================] - 205s 2s/step - loss: 0.2815 - accuracy: 0.8806 - val_loss: 0.2730 - val_accuracy: 0.8913\n",
      "Epoch 22/25\n",
      "100/100 [==============================] - 206s 2s/step - loss: 0.2805 - accuracy: 0.8763 - val_loss: 0.1874 - val_accuracy: 0.8639\n",
      "Epoch 23/25\n",
      "100/100 [==============================] - 205s 2s/step - loss: 0.2869 - accuracy: 0.8788 - val_loss: 0.0486 - val_accuracy: 0.8730\n",
      "Epoch 24/25\n",
      "100/100 [==============================] - 206s 2s/step - loss: 0.2961 - accuracy: 0.8716 - val_loss: 0.2479 - val_accuracy: 0.8848\n",
      "Epoch 25/25\n",
      "100/100 [==============================] - 205s 2s/step - loss: 0.2612 - accuracy: 0.8819 - val_loss: 0.4360 - val_accuracy: 0.8854\n"
     ]
    }
   ],
   "source": [
    "history = model.fit_generator(train_generator_augment, steps_per_epoch = 100, epochs = 25, validation_data = val_generator, validation_steps = 50)"
   ]
  },
  {
   "cell_type": "code",
   "execution_count": 34,
   "metadata": {},
   "outputs": [
    {
     "name": "stdout",
     "output_type": "stream",
     "text": [
      "0.9225000143051147\n"
     ]
    }
   ],
   "source": [
    "test_loss, test_acc = model.evaluate_generator(test_generator)\n",
    "print(test_acc)"
   ]
  },
  {
   "cell_type": "code",
   "execution_count": 35,
   "metadata": {},
   "outputs": [
    {
     "data": {
      "image/png": "[encoded data removed]",
      "text/plain": [
       "<Figure size 432x288 with 1 Axes>"
      ]
     },
     "metadata": {
      "needs_background": "light"
     },
     "output_type": "display_data"
    }
   ],
   "source": [
    "import matplotlib.pyplot as plt\n",
    "loss = history.history['loss']\n",
    "val_loss = history.history['val_loss']\n",
    "epochs = range(1,len(loss) + 1)\n",
    "plt.plot(epochs,loss,'bo',label='Training loss')\n",
    "plt.plot(epochs,val_loss,'b',label='Validation loss')\n",
    "plt.title('Training and validation loss')\n",
    "plt.xlabel('Epochs')\n",
    "plt.ylabel('Loss')\n",
    "plt.legend()\n",
    "plt.show()"
   ]
  },
  {
   "cell_type": "code",
   "execution_count": 37,
   "metadata": {},
   "outputs": [],
   "source": [
    "conv_base.trainable = True\n",
    "set_trainable = False\n",
    "for layer in conv_base.layers:\n",
    "    if layer.name == 'block5_conv1':\n",
    "        set_trainable = True\n",
    "    if set_trainable:\n",
    "        layer.trainable = True\n",
    "    else:\n",
    "        layer.trainable = False"
   ]
  },
  {
   "cell_type": "code",
   "execution_count": 38,
   "metadata": {},
   "outputs": [
    {
     "name": "stdout",
     "output_type": "stream",
     "text": [
      "Model: \"sequential_5\"\n",
      "_________________________________________________________________\n",
      "Layer (type)                 Output Shape              Param #   \n",
      "=================================================================\n",
      "vgg16 (Model)                (None, 4, 4, 512)         14714688  \n",
      "_________________________________________________________________\n",
      "flatten_5 (Flatten)          (None, 8192)              0         \n",
      "_________________________________________________________________\n",
      "dense_9 (Dense)              (None, 256)               2097408   \n",
      "_________________________________________________________________\n",
      "dense_10 (Dense)             (None, 1)                 257       \n",
      "=================================================================\n",
      "Total params: 16,812,353\n",
      "Trainable params: 9,177,089\n",
      "Non-trainable params: 7,635,264\n",
      "_________________________________________________________________\n"
     ]
    }
   ],
   "source": [
    "from keras import models\n",
    "from keras import layers\n",
    "model = models.Sequential()\n",
    "model.add(conv_base)\n",
    "model.add(layers.Flatten())\n",
    "model.add(layers.Dense(256, activation = 'relu'))\n",
    "model.add(layers.Dense(1, activation = 'sigmoid'))\n",
    "model.summary()"
   ]
  },
  {
   "cell_type": "code",
   "execution_count": 39,
   "metadata": {},
   "outputs": [],
   "source": [
    "from keras import optimizers\n",
    "#opt = SGD(lr=0.001, momentum=0.9)\n",
    "model.compile(loss = 'binary_crossentropy',optimizer = 'rmsprop', metrics=['accuracy'])"
   ]
  },
  {
   "cell_type": "code",
   "execution_count": 40,
   "metadata": {},
   "outputs": [
    {
     "name": "stdout",
     "output_type": "stream",
     "text": [
      "Epoch 1/25\n",
      "100/100 [==============================] - 235s 2s/step - loss: 14.0418 - accuracy: 0.4847 - val_loss: 0.6931 - val_accuracy: 0.5013\n",
      "Epoch 2/25\n",
      "100/100 [==============================] - 240s 2s/step - loss: 0.6932 - accuracy: 0.4906 - val_loss: 0.6931 - val_accuracy: 0.4980\n",
      "Epoch 3/25\n",
      "100/100 [==============================] - 240s 2s/step - loss: 0.6932 - accuracy: 0.4875 - val_loss: 0.6930 - val_accuracy: 0.5046\n",
      "Epoch 4/25\n",
      "100/100 [==============================] - 238s 2s/step - loss: 0.6932 - accuracy: 0.5000 - val_loss: 0.6935 - val_accuracy: 0.4961\n",
      "Epoch 5/25\n",
      "100/100 [==============================] - 239s 2s/step - loss: 0.6932 - accuracy: 0.4944 - val_loss: 0.6928 - val_accuracy: 0.5013\n",
      "Epoch 6/25\n",
      "100/100 [==============================] - 241s 2s/step - loss: 0.6932 - accuracy: 0.4931 - val_loss: 0.6936 - val_accuracy: 0.4961\n",
      "Epoch 7/25\n",
      "100/100 [==============================] - 243s 2s/step - loss: 0.6932 - accuracy: 0.5000 - val_loss: 0.6928 - val_accuracy: 0.5019\n",
      "Epoch 8/25\n",
      "100/100 [==============================] - 241s 2s/step - loss: 0.6932 - accuracy: 0.5000 - val_loss: 0.6931 - val_accuracy: 0.5020\n",
      "Epoch 9/25\n",
      "100/100 [==============================] - 241s 2s/step - loss: 0.6932 - accuracy: 0.4969 - val_loss: 0.6928 - val_accuracy: 0.5046\n",
      "Epoch 10/25\n",
      "100/100 [==============================] - 247s 2s/step - loss: 0.6932 - accuracy: 0.4888 - val_loss: 0.6932 - val_accuracy: 0.5013\n",
      "Epoch 11/25\n",
      "100/100 [==============================] - 241s 2s/step - loss: 0.6932 - accuracy: 0.4831 - val_loss: 0.6930 - val_accuracy: 0.4967\n",
      "Epoch 12/25\n",
      "100/100 [==============================] - 241s 2s/step - loss: 0.6932 - accuracy: 0.4994 - val_loss: 0.6931 - val_accuracy: 0.5013\n",
      "Epoch 13/25\n",
      "100/100 [==============================] - 240s 2s/step - loss: 0.6932 - accuracy: 0.4869 - val_loss: 0.6931 - val_accuracy: 0.5000\n",
      "Epoch 14/25\n",
      "100/100 [==============================] - 240s 2s/step - loss: 0.6932 - accuracy: 0.4963 - val_loss: 0.6931 - val_accuracy: 0.4994\n",
      "Epoch 15/25\n",
      "100/100 [==============================] - 241s 2s/step - loss: 0.6932 - accuracy: 0.4844 - val_loss: 0.6930 - val_accuracy: 0.5026\n",
      "Epoch 16/25\n",
      "100/100 [==============================] - 239s 2s/step - loss: 0.6932 - accuracy: 0.4837 - val_loss: 0.6932 - val_accuracy: 0.4987\n",
      "Epoch 17/25\n",
      "100/100 [==============================] - 240s 2s/step - loss: 0.6932 - accuracy: 0.4944 - val_loss: 0.6932 - val_accuracy: 0.4967\n",
      "Epoch 18/25\n",
      "100/100 [==============================] - 239s 2s/step - loss: 0.6932 - accuracy: 0.4906 - val_loss: 0.6930 - val_accuracy: 0.5085\n",
      "Epoch 19/25\n",
      "100/100 [==============================] - 238s 2s/step - loss: 0.6932 - accuracy: 0.4975 - val_loss: 0.6931 - val_accuracy: 0.4941\n",
      "Epoch 20/25\n",
      "100/100 [==============================] - 238s 2s/step - loss: 0.6932 - accuracy: 0.4963 - val_loss: 0.6931 - val_accuracy: 0.4994\n",
      "Epoch 21/25\n",
      "100/100 [==============================] - 239s 2s/step - loss: 0.6932 - accuracy: 0.5000 - val_loss: 0.6932 - val_accuracy: 0.5013\n",
      "Epoch 22/25\n",
      "100/100 [==============================] - 240s 2s/step - loss: 0.6932 - accuracy: 0.4900 - val_loss: 0.6933 - val_accuracy: 0.4974\n",
      "Epoch 23/25\n",
      "100/100 [==============================] - 240s 2s/step - loss: 0.6932 - accuracy: 0.4969 - val_loss: 0.6931 - val_accuracy: 0.4954\n",
      "Epoch 24/25\n",
      "100/100 [==============================] - 240s 2s/step - loss: 0.6932 - accuracy: 0.4844 - val_loss: 0.6930 - val_accuracy: 0.5065\n",
      "Epoch 25/25\n",
      "100/100 [==============================] - 239s 2s/step - loss: 0.6932 - accuracy: 0.4931 - val_loss: 0.6929 - val_accuracy: 0.5000\n"
     ]
    }
   ],
   "source": [
    "history = model.fit_generator(train_generator_augment, steps_per_epoch = 100, epochs = 25, validation_data = val_generator, validation_steps = 50)"
   ]
  },
  {
   "cell_type": "code",
   "execution_count": null,
   "metadata": {},
   "outputs": [],
   "source": []
  }
 ],
 "metadata": {
  "kernelspec": {
   "display_name": "Python 3",
   "language": "python",
   "name": "python3"
  },
  "language_info": {
   "codemirror_mode": {
    "name": "ipython",
    "version": 3
   },
   "file_extension": ".py",
   "mimetype": "text/x-python",
   "name": "python",
   "nbconvert_exporter": "python",
   "pygments_lexer": "ipython3",
   "version": "3.7.6"
  }
 },
 "nbformat": 4,
 "nbformat_minor": 4
}
